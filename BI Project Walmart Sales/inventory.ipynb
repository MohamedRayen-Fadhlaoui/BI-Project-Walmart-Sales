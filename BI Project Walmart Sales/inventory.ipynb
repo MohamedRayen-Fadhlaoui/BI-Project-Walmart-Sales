{
  "cells": [
    {
      "cell_type": "markdown",
      "metadata": {
        "id": "0kqk1yZUv9Xe"
      },
      "source": [
        "Here, we create a simple ETL pipeline using Python. Source data exists in multiple formats (csv, json, xml) in a local directory. We extract amd merge data from 9 files into a dataframe. Then, we carry out a simple transformation and load the transformed data, again, in a local directory. Alongside, we generate a simple log file"
      ]
    },
    {
      "cell_type": "markdown",
      "metadata": {
        "id": "Te1YLUqjw7Rm"
      },
      "source": [
        "**Outline of this notebook:**\n",
        "1- Extract data from different sources such as:\n",
        "- csv files\n",
        "- excel files\n",
        "- json files\n",
        "- APIs\n",
        "\n",
        "2- Transform data\n",
        "- combining data from different sources\n",
        "- data cleaning\n",
        "- data types\n",
        "- parsing dates\n",
        "- file encodings\n",
        "- missing data\n",
        "- duplicate data\n",
        "- dummy variables\n",
        "- remove outliers\n",
        "- scaling features\n",
        "- engineering features\n",
        "\n",
        "3- Load"
      ]
    },
    {
      "cell_type": "markdown",
      "metadata": {
        "id": "HhpK9gltxDpr"
      },
      "source": [
        "# **Import Libraries**"
      ]
    },
    {
      "cell_type": "code",
      "execution_count": null,
      "metadata": {
        "colab": {
          "base_uri": "https://localhost:8080/"
        },
        "id": "NKWrYXGHtvnm",
        "outputId": "dd128d40-49f8-4c2c-c170-6c10812cf243"
      },
      "outputs": [
        {
          "name": "stdout",
          "output_type": "stream",
          "text": [
            "Requirement already satisfied: kagglehub in /usr/local/lib/python3.11/dist-packages (0.3.6)\n",
            "Requirement already satisfied: packaging in /usr/local/lib/python3.11/dist-packages (from kagglehub) (24.2)\n",
            "Requirement already satisfied: requests in /usr/local/lib/python3.11/dist-packages (from kagglehub) (2.32.3)\n",
            "Requirement already satisfied: tqdm in /usr/local/lib/python3.11/dist-packages (from kagglehub) (4.67.1)\n",
            "Requirement already satisfied: charset-normalizer<4,>=2 in /usr/local/lib/python3.11/dist-packages (from requests->kagglehub) (3.4.1)\n",
            "Requirement already satisfied: idna<4,>=2.5 in /usr/local/lib/python3.11/dist-packages (from requests->kagglehub) (3.10)\n",
            "Requirement already satisfied: urllib3<3,>=1.21.1 in /usr/local/lib/python3.11/dist-packages (from requests->kagglehub) (2.3.0)\n",
            "Requirement already satisfied: certifi>=2017.4.17 in /usr/local/lib/python3.11/dist-packages (from requests->kagglehub) (2024.12.14)\n"
          ]
        }
      ],
      "source": [
        "pip install kagglehub"
      ]
    },
    {
      "cell_type": "code",
      "execution_count": null,
      "metadata": {},
      "outputs": [],
      "source": [
        "import numpy as np \n",
        "import pandas as pd\n",
        "from sqlalchemy import create_engine\n",
        "import sqlite3"
      ]
    },
    {
      "cell_type": "markdown",
      "metadata": {
        "id": "K8MCRMSUtgMd"
      },
      "source": [
        "# **Extract data from diff sources**"
      ]
    },
    {
      "cell_type": "markdown",
      "metadata": {
        "id": "zI9uDGd0vKiy"
      },
      "source": [
        "# **Extract from CSV**"
      ]
    },
    {
      "cell_type": "markdown",
      "metadata": {
        "id": "xcVBSKxX4CL7"
      },
      "source": [
        "Define Each datasource:\n",
        "- Grocery\n",
        "- product\n",
        "- Store status\n",
        "- sales"
      ]
    },
    {
      "cell_type": "code",
      "execution_count": null,
      "metadata": {
        "colab": {
          "base_uri": "https://localhost:8080/",
          "height": 373
        },
        "collapsed": true,
        "id": "iPsO86YTqJ09",
        "outputId": "43f27f25-e92d-42f9-e330-e329060c4424"
      },
      "outputs": [],
      "source": [
        "# Path to the file\n",
        "file_path1 = '/content/walmart_data/WMT_Grocery_202209.csv'\n",
        "file_path2 = '/content/walmart_data/product.csv'\n",
        "file_path3 = '/content/walmart_data/STORE_STATUS_PUBLIC_VIEW_-8827503165297490716.csv'\n",
        "\n",
        "# Read the CSV file\n",
        "df1 = pd.read_csv(file_path1, on_bad_lines='skip', engine='python', quotechar='\"', escapechar='\\\\', encoding='utf-8')\n",
        "\n",
        "df1.head()"
      ]
    },
    {
      "cell_type": "code",
      "execution_count": null,
      "metadata": {
        "colab": {
          "base_uri": "https://localhost:8080/",
          "height": 141
        },
        "id": "s5F8q68uJwcL",
        "outputId": "3074298e-b452-438e-cab9-a5f974b32ebe"
      },
      "outputs": [],
      "source": [
        "print(\"Columns:\", df1.columns)"
      ]
    },
    {
      "cell_type": "code",
      "execution_count": null,
      "metadata": {
        "colab": {
          "base_uri": "https://localhost:8080/",
          "height": 585
        },
        "collapsed": true,
        "id": "drPmdRhB48BA",
        "outputId": "86bcf710-3853-4c7d-e2bc-7fb7eb23ad6a"
      },
      "outputs": [
        {
          "data": {
            "text/html": [
              "<div>\n",
              "<style scoped>\n",
              "    .dataframe tbody tr th:only-of-type {\n",
              "        vertical-align: middle;\n",
              "    }\n",
              "\n",
              "    .dataframe tbody tr th {\n",
              "        vertical-align: top;\n",
              "    }\n",
              "\n",
              "    .dataframe thead th {\n",
              "        text-align: right;\n",
              "    }\n",
              "</style>\n",
              "<table border=\"1\" class=\"dataframe\">\n",
              "  <thead>\n",
              "    <tr style=\"text-align: right;\">\n",
              "      <th></th>\n",
              "      <th>0</th>\n",
              "    </tr>\n",
              "  </thead>\n",
              "  <tbody>\n",
              "    <tr>\n",
              "      <th>index</th>\n",
              "      <td>0</td>\n",
              "    </tr>\n",
              "    <tr>\n",
              "      <th>SHIPPING_LOCATION</th>\n",
              "      <td>0</td>\n",
              "    </tr>\n",
              "    <tr>\n",
              "      <th>DEPARTMENT</th>\n",
              "      <td>0</td>\n",
              "    </tr>\n",
              "    <tr>\n",
              "      <th>CATEGORY</th>\n",
              "      <td>0</td>\n",
              "    </tr>\n",
              "    <tr>\n",
              "      <th>SUBCATEGORY</th>\n",
              "      <td>20514</td>\n",
              "    </tr>\n",
              "    <tr>\n",
              "      <th>BREADCRUMBS</th>\n",
              "      <td>0</td>\n",
              "    </tr>\n",
              "    <tr>\n",
              "      <th>SKU</th>\n",
              "      <td>0</td>\n",
              "    </tr>\n",
              "    <tr>\n",
              "      <th>PRODUCT_URL</th>\n",
              "      <td>0</td>\n",
              "    </tr>\n",
              "    <tr>\n",
              "      <th>PRODUCT_NAME</th>\n",
              "      <td>1</td>\n",
              "    </tr>\n",
              "    <tr>\n",
              "      <th>BRAND</th>\n",
              "      <td>1</td>\n",
              "    </tr>\n",
              "    <tr>\n",
              "      <th>PRICE_RETAIL</th>\n",
              "      <td>1</td>\n",
              "    </tr>\n",
              "    <tr>\n",
              "      <th>PRICE_CURRENT</th>\n",
              "      <td>1</td>\n",
              "    </tr>\n",
              "    <tr>\n",
              "      <th>PRODUCT_SIZE</th>\n",
              "      <td>1857</td>\n",
              "    </tr>\n",
              "    <tr>\n",
              "      <th>PROMOTION</th>\n",
              "      <td>20514</td>\n",
              "    </tr>\n",
              "    <tr>\n",
              "      <th>RunDate</th>\n",
              "      <td>1</td>\n",
              "    </tr>\n",
              "    <tr>\n",
              "      <th>tid</th>\n",
              "      <td>1</td>\n",
              "    </tr>\n",
              "  </tbody>\n",
              "</table>\n",
              "</div><br><label><b>dtype:</b> int64</label>"
            ],
            "text/plain": [
              "index                    0\n",
              "SHIPPING_LOCATION        0\n",
              "DEPARTMENT               0\n",
              "CATEGORY                 0\n",
              "SUBCATEGORY          20514\n",
              "BREADCRUMBS              0\n",
              "SKU                      0\n",
              "PRODUCT_URL              0\n",
              "PRODUCT_NAME             1\n",
              "BRAND                    1\n",
              "PRICE_RETAIL             1\n",
              "PRICE_CURRENT            1\n",
              "PRODUCT_SIZE          1857\n",
              "PROMOTION            20514\n",
              "RunDate                  1\n",
              "tid                      1\n",
              "dtype: int64"
            ]
          },
          "execution_count": 417,
          "metadata": {},
          "output_type": "execute_result"
        }
      ],
      "source": [
        "# count the number of null values in the data set\n",
        "df1.isnull().sum()"
      ]
    },
    {
      "cell_type": "code",
      "execution_count": null,
      "metadata": {
        "colab": {
          "base_uri": "https://localhost:8080/",
          "height": 458
        },
        "collapsed": true,
        "id": "bZIC9JqP5Pqr",
        "outputId": "83edfafa-2c84-46a8-f884-42573155d73d"
      },
      "outputs": [
        {
          "data": {
            "text/html": [
              "<div>\n",
              "<style scoped>\n",
              "    .dataframe tbody tr th:only-of-type {\n",
              "        vertical-align: middle;\n",
              "    }\n",
              "\n",
              "    .dataframe tbody tr th {\n",
              "        vertical-align: top;\n",
              "    }\n",
              "\n",
              "    .dataframe thead th {\n",
              "        text-align: right;\n",
              "    }\n",
              "</style>\n",
              "<table border=\"1\" class=\"dataframe\">\n",
              "  <thead>\n",
              "    <tr style=\"text-align: right;\">\n",
              "      <th></th>\n",
              "      <th>0</th>\n",
              "    </tr>\n",
              "  </thead>\n",
              "  <tbody>\n",
              "    <tr>\n",
              "      <th>0</th>\n",
              "      <td>2</td>\n",
              "    </tr>\n",
              "    <tr>\n",
              "      <th>1</th>\n",
              "      <td>2</td>\n",
              "    </tr>\n",
              "    <tr>\n",
              "      <th>2</th>\n",
              "      <td>2</td>\n",
              "    </tr>\n",
              "    <tr>\n",
              "      <th>3</th>\n",
              "      <td>2</td>\n",
              "    </tr>\n",
              "    <tr>\n",
              "      <th>4</th>\n",
              "      <td>2</td>\n",
              "    </tr>\n",
              "    <tr>\n",
              "      <th>...</th>\n",
              "      <td>...</td>\n",
              "    </tr>\n",
              "    <tr>\n",
              "      <th>20509</th>\n",
              "      <td>2</td>\n",
              "    </tr>\n",
              "    <tr>\n",
              "      <th>20510</th>\n",
              "      <td>2</td>\n",
              "    </tr>\n",
              "    <tr>\n",
              "      <th>20511</th>\n",
              "      <td>2</td>\n",
              "    </tr>\n",
              "    <tr>\n",
              "      <th>20512</th>\n",
              "      <td>3</td>\n",
              "    </tr>\n",
              "    <tr>\n",
              "      <th>20513</th>\n",
              "      <td>9</td>\n",
              "    </tr>\n",
              "  </tbody>\n",
              "</table>\n",
              "<p>20514 rows × 1 columns</p>\n",
              "</div><br><label><b>dtype:</b> int64</label>"
            ],
            "text/plain": [
              "0        2\n",
              "1        2\n",
              "2        2\n",
              "3        2\n",
              "4        2\n",
              "        ..\n",
              "20509    2\n",
              "20510    2\n",
              "20511    2\n",
              "20512    3\n",
              "20513    9\n",
              "Length: 20514, dtype: int64"
            ]
          },
          "execution_count": 418,
          "metadata": {},
          "output_type": "execute_result"
        }
      ],
      "source": [
        "# Sum the null values by column\n",
        "df1.isnull().sum(axis=1)"
      ]
    },
    {
      "cell_type": "code",
      "execution_count": null,
      "metadata": {
        "colab": {
          "base_uri": "https://localhost:8080/"
        },
        "id": "40K3WrLA45bJ",
        "outputId": "3b891dd2-441a-439e-9dbe-0b0c558a6ca7"
      },
      "outputs": [
        {
          "data": {
            "text/plain": [
              "(20514, 16)"
            ]
          },
          "execution_count": 419,
          "metadata": {},
          "output_type": "execute_result"
        }
      ],
      "source": [
        "#  output the shape of the data frame\n",
        "df1.shape"
      ]
    },
    {
      "cell_type": "code",
      "execution_count": null,
      "metadata": {
        "colab": {
          "base_uri": "https://localhost:8080/",
          "height": 533
        },
        "collapsed": true,
        "id": "HOC2nemh2YVH",
        "outputId": "56f756ee-ccb8-47fa-fa87-5a4fa5728fb4"
      },
      "outputs": [
        {
          "data": {
            "application/vnd.google.colaboratory.intrinsic+json": {
              "type": "dataframe",
              "variable_name": "df2"
            },
            "text/html": [
              "\n",
              "  <div id=\"df-36e59135-b9b2-4ab9-9179-b12ead949c56\" class=\"colab-df-container\">\n",
              "    <div>\n",
              "<style scoped>\n",
              "    .dataframe tbody tr th:only-of-type {\n",
              "        vertical-align: middle;\n",
              "    }\n",
              "\n",
              "    .dataframe tbody tr th {\n",
              "        vertical-align: top;\n",
              "    }\n",
              "\n",
              "    .dataframe thead th {\n",
              "        text-align: right;\n",
              "    }\n",
              "</style>\n",
              "<table border=\"1\" class=\"dataframe\">\n",
              "  <thead>\n",
              "    <tr style=\"text-align: right;\">\n",
              "      <th></th>\n",
              "      <th>timestamp</th>\n",
              "      <th>url</th>\n",
              "      <th>final_price</th>\n",
              "      <th>sku</th>\n",
              "      <th>currency</th>\n",
              "      <th>gtin</th>\n",
              "      <th>specifications</th>\n",
              "      <th>image_urls</th>\n",
              "      <th>top_reviews</th>\n",
              "      <th>rating_stars</th>\n",
              "      <th>...</th>\n",
              "      <th>sizes</th>\n",
              "      <th>colors</th>\n",
              "      <th>seller</th>\n",
              "      <th>other_attributes</th>\n",
              "      <th>customer_reviews</th>\n",
              "      <th>ingredients</th>\n",
              "      <th>initial_price</th>\n",
              "      <th>discount</th>\n",
              "      <th>ingredients_full</th>\n",
              "      <th>categories</th>\n",
              "    </tr>\n",
              "  </thead>\n",
              "  <tbody>\n",
              "    <tr>\n",
              "      <th>0</th>\n",
              "      <td>2024-12-15 00:00:00.000</td>\n",
              "      <td>https://www.walmart.com/ip/Sprite-Zero-Sugar-L...</td>\n",
              "      <td>5.18</td>\n",
              "      <td>21738544</td>\n",
              "      <td>USD</td>\n",
              "      <td>4.900004e+10</td>\n",
              "      <td>[{\"name\":\"Flavor\",\"value\":\"Lemon Lime Soda\"},{...</td>\n",
              "      <td>[\"https://i5.walmartimages.com/seo/Sprite-Zero...</td>\n",
              "      <td>{\"negative\":{\"rating\":2,\"review\":\"I had someon...</td>\n",
              "      <td>{\"five_stars\":926,\"four_stars\":142,\"one_star\":...</td>\n",
              "      <td>...</td>\n",
              "      <td>[]</td>\n",
              "      <td>[]</td>\n",
              "      <td>Wal███t.c███</td>\n",
              "      <td>[{\"name\":\"Instructions\",\"value\":\"Ready to drin...</td>\n",
              "      <td>[{\"name\":\"Sha███\",\"rating\":5,\"review\":\"grandso...</td>\n",
              "      <td>CARBONATED WATER, LESS THAN 2% OF: CITRIC ACID...</td>\n",
              "      <td>NaN</td>\n",
              "      <td>NaN</td>\n",
              "      <td>[{\"type\":\"Ingredients\",\"values\":\"CARBONATED WA...</td>\n",
              "      <td>[\"Food\",\"Beverages\",\"Soda Pop\",\"Sprite\"]</td>\n",
              "    </tr>\n",
              "    <tr>\n",
              "      <th>1</th>\n",
              "      <td>2024-12-15 00:00:00.000</td>\n",
              "      <td>https://www.walmart.com/ip/Sprite-Zero-Lemon-L...</td>\n",
              "      <td>2.12</td>\n",
              "      <td>15610630</td>\n",
              "      <td>USD</td>\n",
              "      <td>4.900005e+10</td>\n",
              "      <td>[{\"name\":\"Features\",\"value\":\"Very low sodium, ...</td>\n",
              "      <td>[\"https://i5.walmartimages.com/seo/Sprite-Zero...</td>\n",
              "      <td>{\"negative\":{\"rating\":1,\"review\":\"I ORDERED MO...</td>\n",
              "      <td>{\"five_stars\":790,\"four_stars\":133,\"one_star\":...</td>\n",
              "      <td>...</td>\n",
              "      <td>[]</td>\n",
              "      <td>[]</td>\n",
              "      <td>Wal███t.c███</td>\n",
              "      <td>[{\"name\":\"Instructions\",\"value\":\"Ready to drin...</td>\n",
              "      <td>[{\"name\":\"Mar███n\",\"rating\":5,\"review\":\"I love...</td>\n",
              "      <td>CARBONATED WATER, LESS THAN 2% OF: CITRIC ACID...</td>\n",
              "      <td>2.68</td>\n",
              "      <td>$0.56</td>\n",
              "      <td>[{\"type\":\"Ingredients\",\"values\":\"CARBONATED WA...</td>\n",
              "      <td>[\"Food\",\"Beverages\",\"Soda Pop\",\"Sprite\"]</td>\n",
              "    </tr>\n",
              "    <tr>\n",
              "      <th>2</th>\n",
              "      <td>2024-12-15 00:00:00.000</td>\n",
              "      <td>https://www.walmart.com/ip/Sprite-Lemon-Lime-S...</td>\n",
              "      <td>5.52</td>\n",
              "      <td>55455989</td>\n",
              "      <td>USD</td>\n",
              "      <td>4.900000e+10</td>\n",
              "      <td>[{\"name\":\"Flavor\",\"value\":\"Lemon Lime Soda\"},{...</td>\n",
              "      <td>[\"https://i5.walmartimages.com/seo/Sprite-Lemo...</td>\n",
              "      <td>{\"negative\":{\"rating\":1,\"review\":\"perfect if y...</td>\n",
              "      <td>{\"five_stars\":5328,\"four_stars\":900,\"one_star\"...</td>\n",
              "      <td>...</td>\n",
              "      <td>[]</td>\n",
              "      <td>[]</td>\n",
              "      <td>Pri███Par███se</td>\n",
              "      <td>[{\"name\":\"Instructions\",\"value\":\"Ready to drin...</td>\n",
              "      <td>[{\"name\":\"ari███\",\"rating\":5,\"review\":\"I gener...</td>\n",
              "      <td>CARBONATED WATER, HIGH FRUCTOSE CORN SYRUP, CI...</td>\n",
              "      <td>NaN</td>\n",
              "      <td>NaN</td>\n",
              "      <td>[{\"type\":\"Ingredients\",\"values\":\"CARBONATED WA...</td>\n",
              "      <td>[\"Food\",\"Beverages\",\"Soda Pop\",\"Sprite\"]</td>\n",
              "    </tr>\n",
              "    <tr>\n",
              "      <th>3</th>\n",
              "      <td>2024-12-15 00:00:00.000</td>\n",
              "      <td>https://www.walmart.com/ip/Hatchimals-Mystery-...</td>\n",
              "      <td>39.00</td>\n",
              "      <td>5298141020</td>\n",
              "      <td>USD</td>\n",
              "      <td>6.811471e+11</td>\n",
              "      <td>[{\"name\":\"Features\",\"value\":\"Interactive\"},{\"n...</td>\n",
              "      <td>[\"https://i5.walmartimages.com/seo/Hatchimals-...</td>\n",
              "      <td>{\"negative\":{\"rating\":1,\"review\":\"Unkown on th...</td>\n",
              "      <td>{\"five_stars\":106,\"four_stars\":6,\"one_star\":1,...</td>\n",
              "      <td>...</td>\n",
              "      <td>[]</td>\n",
              "      <td>[]</td>\n",
              "      <td>Wal███t.c███</td>\n",
              "      <td>NaN</td>\n",
              "      <td>[{\"name\":\"Lilly\",\"rating\":5,\"review\":\"I love H...</td>\n",
              "      <td>NaN</td>\n",
              "      <td>49.00</td>\n",
              "      <td>$10.00</td>\n",
              "      <td>NaN</td>\n",
              "      <td>[\"Toys\",\"Shop Toys by Brand\",\"Hatchimals\"]</td>\n",
              "    </tr>\n",
              "    <tr>\n",
              "      <th>4</th>\n",
              "      <td>2024-12-15 00:00:00.000</td>\n",
              "      <td>https://www.walmart.com/ip/POWERADE-Fruit-Punc...</td>\n",
              "      <td>5.98</td>\n",
              "      <td>15673629</td>\n",
              "      <td>USD</td>\n",
              "      <td>4.900005e+10</td>\n",
              "      <td>[{\"name\":\"Features\",\"value\":\"Natural fruit pun...</td>\n",
              "      <td>[\"https://i5.walmartimages.com/seo/POWERADE-Fr...</td>\n",
              "      <td>{\"negative\":{\"rating\":1,\"review\":\"was sent Pow...</td>\n",
              "      <td>{\"five_stars\":968,\"four_stars\":207,\"one_star\":...</td>\n",
              "      <td>...</td>\n",
              "      <td>[]</td>\n",
              "      <td>[]</td>\n",
              "      <td>Wal███t.c███</td>\n",
              "      <td>[{\"name\":\"Instructions\",\"value\":\"Ready to drin...</td>\n",
              "      <td>[{\"name\":\"Caleb\",\"rating\":5,\"review\":\"Great de...</td>\n",
              "      <td>WATER, HIGH FRUCTOSE CORN SYRUP, LESS THAN 0.5...</td>\n",
              "      <td>NaN</td>\n",
              "      <td>NaN</td>\n",
              "      <td>[{\"type\":\"Ingredients\",\"values\":\"WATER, HIGH F...</td>\n",
              "      <td>[\"Food\",\"Beverages\",\"Sports Drinks\",\"Powerade\"]</td>\n",
              "    </tr>\n",
              "  </tbody>\n",
              "</table>\n",
              "<p>5 rows × 44 columns</p>\n",
              "</div>\n",
              "    <div class=\"colab-df-buttons\">\n",
              "\n",
              "  <div class=\"colab-df-container\">\n",
              "    <button class=\"colab-df-convert\" onclick=\"convertToInteractive('df-36e59135-b9b2-4ab9-9179-b12ead949c56')\"\n",
              "            title=\"Convert this dataframe to an interactive table.\"\n",
              "            style=\"display:none;\">\n",
              "\n",
              "  <svg xmlns=\"http://www.w3.org/2000/svg\" height=\"24px\" viewBox=\"0 -960 960 960\">\n",
              "    <path d=\"M120-120v-720h720v720H120Zm60-500h600v-160H180v160Zm220 220h160v-160H400v160Zm0 220h160v-160H400v160ZM180-400h160v-160H180v160Zm440 0h160v-160H620v160ZM180-180h160v-160H180v160Zm440 0h160v-160H620v160Z\"/>\n",
              "  </svg>\n",
              "    </button>\n",
              "\n",
              "  <style>\n",
              "    .colab-df-container {\n",
              "      display:flex;\n",
              "      gap: 12px;\n",
              "    }\n",
              "\n",
              "    .colab-df-convert {\n",
              "      background-color: #E8F0FE;\n",
              "      border: none;\n",
              "      border-radius: 50%;\n",
              "      cursor: pointer;\n",
              "      display: none;\n",
              "      fill: #1967D2;\n",
              "      height: 32px;\n",
              "      padding: 0 0 0 0;\n",
              "      width: 32px;\n",
              "    }\n",
              "\n",
              "    .colab-df-convert:hover {\n",
              "      background-color: #E2EBFA;\n",
              "      box-shadow: 0px 1px 2px rgba(60, 64, 67, 0.3), 0px 1px 3px 1px rgba(60, 64, 67, 0.15);\n",
              "      fill: #174EA6;\n",
              "    }\n",
              "\n",
              "    .colab-df-buttons div {\n",
              "      margin-bottom: 4px;\n",
              "    }\n",
              "\n",
              "    [theme=dark] .colab-df-convert {\n",
              "      background-color: #3B4455;\n",
              "      fill: #D2E3FC;\n",
              "    }\n",
              "\n",
              "    [theme=dark] .colab-df-convert:hover {\n",
              "      background-color: #434B5C;\n",
              "      box-shadow: 0px 1px 3px 1px rgba(0, 0, 0, 0.15);\n",
              "      filter: drop-shadow(0px 1px 2px rgba(0, 0, 0, 0.3));\n",
              "      fill: #FFFFFF;\n",
              "    }\n",
              "  </style>\n",
              "\n",
              "    <script>\n",
              "      const buttonEl =\n",
              "        document.querySelector('#df-36e59135-b9b2-4ab9-9179-b12ead949c56 button.colab-df-convert');\n",
              "      buttonEl.style.display =\n",
              "        google.colab.kernel.accessAllowed ? 'block' : 'none';\n",
              "\n",
              "      async function convertToInteractive(key) {\n",
              "        const element = document.querySelector('#df-36e59135-b9b2-4ab9-9179-b12ead949c56');\n",
              "        const dataTable =\n",
              "          await google.colab.kernel.invokeFunction('convertToInteractive',\n",
              "                                                    [key], {});\n",
              "        if (!dataTable) return;\n",
              "\n",
              "        const docLinkHtml = 'Like what you see? Visit the ' +\n",
              "          '<a target=\"_blank\" href=https://colab.research.google.com/notebooks/data_table.ipynb>data table notebook</a>'\n",
              "          + ' to learn more about interactive tables.';\n",
              "        element.innerHTML = '';\n",
              "        dataTable['output_type'] = 'display_data';\n",
              "        await google.colab.output.renderOutput(dataTable, element);\n",
              "        const docLink = document.createElement('div');\n",
              "        docLink.innerHTML = docLinkHtml;\n",
              "        element.appendChild(docLink);\n",
              "      }\n",
              "    </script>\n",
              "  </div>\n",
              "\n",
              "\n",
              "<div id=\"df-1297844b-159b-4ae1-bbd8-b634c40047cc\">\n",
              "  <button class=\"colab-df-quickchart\" onclick=\"quickchart('df-1297844b-159b-4ae1-bbd8-b634c40047cc')\"\n",
              "            title=\"Suggest charts\"\n",
              "            style=\"display:none;\">\n",
              "\n",
              "<svg xmlns=\"http://www.w3.org/2000/svg\" height=\"24px\"viewBox=\"0 0 24 24\"\n",
              "     width=\"24px\">\n",
              "    <g>\n",
              "        <path d=\"M19 3H5c-1.1 0-2 .9-2 2v14c0 1.1.9 2 2 2h14c1.1 0 2-.9 2-2V5c0-1.1-.9-2-2-2zM9 17H7v-7h2v7zm4 0h-2V7h2v10zm4 0h-2v-4h2v4z\"/>\n",
              "    </g>\n",
              "</svg>\n",
              "  </button>\n",
              "\n",
              "<style>\n",
              "  .colab-df-quickchart {\n",
              "      --bg-color: #E8F0FE;\n",
              "      --fill-color: #1967D2;\n",
              "      --hover-bg-color: #E2EBFA;\n",
              "      --hover-fill-color: #174EA6;\n",
              "      --disabled-fill-color: #AAA;\n",
              "      --disabled-bg-color: #DDD;\n",
              "  }\n",
              "\n",
              "  [theme=dark] .colab-df-quickchart {\n",
              "      --bg-color: #3B4455;\n",
              "      --fill-color: #D2E3FC;\n",
              "      --hover-bg-color: #434B5C;\n",
              "      --hover-fill-color: #FFFFFF;\n",
              "      --disabled-bg-color: #3B4455;\n",
              "      --disabled-fill-color: #666;\n",
              "  }\n",
              "\n",
              "  .colab-df-quickchart {\n",
              "    background-color: var(--bg-color);\n",
              "    border: none;\n",
              "    border-radius: 50%;\n",
              "    cursor: pointer;\n",
              "    display: none;\n",
              "    fill: var(--fill-color);\n",
              "    height: 32px;\n",
              "    padding: 0;\n",
              "    width: 32px;\n",
              "  }\n",
              "\n",
              "  .colab-df-quickchart:hover {\n",
              "    background-color: var(--hover-bg-color);\n",
              "    box-shadow: 0 1px 2px rgba(60, 64, 67, 0.3), 0 1px 3px 1px rgba(60, 64, 67, 0.15);\n",
              "    fill: var(--button-hover-fill-color);\n",
              "  }\n",
              "\n",
              "  .colab-df-quickchart-complete:disabled,\n",
              "  .colab-df-quickchart-complete:disabled:hover {\n",
              "    background-color: var(--disabled-bg-color);\n",
              "    fill: var(--disabled-fill-color);\n",
              "    box-shadow: none;\n",
              "  }\n",
              "\n",
              "  .colab-df-spinner {\n",
              "    border: 2px solid var(--fill-color);\n",
              "    border-color: transparent;\n",
              "    border-bottom-color: var(--fill-color);\n",
              "    animation:\n",
              "      spin 1s steps(1) infinite;\n",
              "  }\n",
              "\n",
              "  @keyframes spin {\n",
              "    0% {\n",
              "      border-color: transparent;\n",
              "      border-bottom-color: var(--fill-color);\n",
              "      border-left-color: var(--fill-color);\n",
              "    }\n",
              "    20% {\n",
              "      border-color: transparent;\n",
              "      border-left-color: var(--fill-color);\n",
              "      border-top-color: var(--fill-color);\n",
              "    }\n",
              "    30% {\n",
              "      border-color: transparent;\n",
              "      border-left-color: var(--fill-color);\n",
              "      border-top-color: var(--fill-color);\n",
              "      border-right-color: var(--fill-color);\n",
              "    }\n",
              "    40% {\n",
              "      border-color: transparent;\n",
              "      border-right-color: var(--fill-color);\n",
              "      border-top-color: var(--fill-color);\n",
              "    }\n",
              "    60% {\n",
              "      border-color: transparent;\n",
              "      border-right-color: var(--fill-color);\n",
              "    }\n",
              "    80% {\n",
              "      border-color: transparent;\n",
              "      border-right-color: var(--fill-color);\n",
              "      border-bottom-color: var(--fill-color);\n",
              "    }\n",
              "    90% {\n",
              "      border-color: transparent;\n",
              "      border-bottom-color: var(--fill-color);\n",
              "    }\n",
              "  }\n",
              "</style>\n",
              "\n",
              "  <script>\n",
              "    async function quickchart(key) {\n",
              "      const quickchartButtonEl =\n",
              "        document.querySelector('#' + key + ' button');\n",
              "      quickchartButtonEl.disabled = true;  // To prevent multiple clicks.\n",
              "      quickchartButtonEl.classList.add('colab-df-spinner');\n",
              "      try {\n",
              "        const charts = await google.colab.kernel.invokeFunction(\n",
              "            'suggestCharts', [key], {});\n",
              "      } catch (error) {\n",
              "        console.error('Error during call to suggestCharts:', error);\n",
              "      }\n",
              "      quickchartButtonEl.classList.remove('colab-df-spinner');\n",
              "      quickchartButtonEl.classList.add('colab-df-quickchart-complete');\n",
              "    }\n",
              "    (() => {\n",
              "      let quickchartButtonEl =\n",
              "        document.querySelector('#df-1297844b-159b-4ae1-bbd8-b634c40047cc button');\n",
              "      quickchartButtonEl.style.display =\n",
              "        google.colab.kernel.accessAllowed ? 'block' : 'none';\n",
              "    })();\n",
              "  </script>\n",
              "</div>\n",
              "\n",
              "    </div>\n",
              "  </div>\n"
            ],
            "text/plain": [
              "                 timestamp                                                url  \\\n",
              "0  2024-12-15 00:00:00.000  https://www.walmart.com/ip/Sprite-Zero-Sugar-L...   \n",
              "1  2024-12-15 00:00:00.000  https://www.walmart.com/ip/Sprite-Zero-Lemon-L...   \n",
              "2  2024-12-15 00:00:00.000  https://www.walmart.com/ip/Sprite-Lemon-Lime-S...   \n",
              "3  2024-12-15 00:00:00.000  https://www.walmart.com/ip/Hatchimals-Mystery-...   \n",
              "4  2024-12-15 00:00:00.000  https://www.walmart.com/ip/POWERADE-Fruit-Punc...   \n",
              "\n",
              "   final_price         sku currency          gtin  \\\n",
              "0         5.18    21738544      USD  4.900004e+10   \n",
              "1         2.12    15610630      USD  4.900005e+10   \n",
              "2         5.52    55455989      USD  4.900000e+10   \n",
              "3        39.00  5298141020      USD  6.811471e+11   \n",
              "4         5.98    15673629      USD  4.900005e+10   \n",
              "\n",
              "                                      specifications  \\\n",
              "0  [{\"name\":\"Flavor\",\"value\":\"Lemon Lime Soda\"},{...   \n",
              "1  [{\"name\":\"Features\",\"value\":\"Very low sodium, ...   \n",
              "2  [{\"name\":\"Flavor\",\"value\":\"Lemon Lime Soda\"},{...   \n",
              "3  [{\"name\":\"Features\",\"value\":\"Interactive\"},{\"n...   \n",
              "4  [{\"name\":\"Features\",\"value\":\"Natural fruit pun...   \n",
              "\n",
              "                                          image_urls  \\\n",
              "0  [\"https://i5.walmartimages.com/seo/Sprite-Zero...   \n",
              "1  [\"https://i5.walmartimages.com/seo/Sprite-Zero...   \n",
              "2  [\"https://i5.walmartimages.com/seo/Sprite-Lemo...   \n",
              "3  [\"https://i5.walmartimages.com/seo/Hatchimals-...   \n",
              "4  [\"https://i5.walmartimages.com/seo/POWERADE-Fr...   \n",
              "\n",
              "                                         top_reviews  \\\n",
              "0  {\"negative\":{\"rating\":2,\"review\":\"I had someon...   \n",
              "1  {\"negative\":{\"rating\":1,\"review\":\"I ORDERED MO...   \n",
              "2  {\"negative\":{\"rating\":1,\"review\":\"perfect if y...   \n",
              "3  {\"negative\":{\"rating\":1,\"review\":\"Unkown on th...   \n",
              "4  {\"negative\":{\"rating\":1,\"review\":\"was sent Pow...   \n",
              "\n",
              "                                        rating_stars  ... sizes  colors  \\\n",
              "0  {\"five_stars\":926,\"four_stars\":142,\"one_star\":...  ...    []      []   \n",
              "1  {\"five_stars\":790,\"four_stars\":133,\"one_star\":...  ...    []      []   \n",
              "2  {\"five_stars\":5328,\"four_stars\":900,\"one_star\"...  ...    []      []   \n",
              "3  {\"five_stars\":106,\"four_stars\":6,\"one_star\":1,...  ...    []      []   \n",
              "4  {\"five_stars\":968,\"four_stars\":207,\"one_star\":...  ...    []      []   \n",
              "\n",
              "           seller                                   other_attributes  \\\n",
              "0    Wal███t.c███  [{\"name\":\"Instructions\",\"value\":\"Ready to drin...   \n",
              "1    Wal███t.c███  [{\"name\":\"Instructions\",\"value\":\"Ready to drin...   \n",
              "2  Pri███Par███se  [{\"name\":\"Instructions\",\"value\":\"Ready to drin...   \n",
              "3    Wal███t.c███                                                NaN   \n",
              "4    Wal███t.c███  [{\"name\":\"Instructions\",\"value\":\"Ready to drin...   \n",
              "\n",
              "                                    customer_reviews  \\\n",
              "0  [{\"name\":\"Sha███\",\"rating\":5,\"review\":\"grandso...   \n",
              "1  [{\"name\":\"Mar███n\",\"rating\":5,\"review\":\"I love...   \n",
              "2  [{\"name\":\"ari███\",\"rating\":5,\"review\":\"I gener...   \n",
              "3  [{\"name\":\"Lilly\",\"rating\":5,\"review\":\"I love H...   \n",
              "4  [{\"name\":\"Caleb\",\"rating\":5,\"review\":\"Great de...   \n",
              "\n",
              "                                         ingredients  initial_price discount  \\\n",
              "0  CARBONATED WATER, LESS THAN 2% OF: CITRIC ACID...            NaN      NaN   \n",
              "1  CARBONATED WATER, LESS THAN 2% OF: CITRIC ACID...           2.68    $0.56   \n",
              "2  CARBONATED WATER, HIGH FRUCTOSE CORN SYRUP, CI...            NaN      NaN   \n",
              "3                                                NaN          49.00   $10.00   \n",
              "4  WATER, HIGH FRUCTOSE CORN SYRUP, LESS THAN 0.5...            NaN      NaN   \n",
              "\n",
              "                                    ingredients_full  \\\n",
              "0  [{\"type\":\"Ingredients\",\"values\":\"CARBONATED WA...   \n",
              "1  [{\"type\":\"Ingredients\",\"values\":\"CARBONATED WA...   \n",
              "2  [{\"type\":\"Ingredients\",\"values\":\"CARBONATED WA...   \n",
              "3                                                NaN   \n",
              "4  [{\"type\":\"Ingredients\",\"values\":\"WATER, HIGH F...   \n",
              "\n",
              "                                        categories  \n",
              "0         [\"Food\",\"Beverages\",\"Soda Pop\",\"Sprite\"]  \n",
              "1         [\"Food\",\"Beverages\",\"Soda Pop\",\"Sprite\"]  \n",
              "2         [\"Food\",\"Beverages\",\"Soda Pop\",\"Sprite\"]  \n",
              "3       [\"Toys\",\"Shop Toys by Brand\",\"Hatchimals\"]  \n",
              "4  [\"Food\",\"Beverages\",\"Sports Drinks\",\"Powerade\"]  \n",
              "\n",
              "[5 rows x 44 columns]"
            ]
          },
          "execution_count": 420,
          "metadata": {},
          "output_type": "execute_result"
        }
      ],
      "source": [
        "df2 = pd.read_csv(file_path2)\n",
        "df2.head()"
      ]
    },
    {
      "cell_type": "code",
      "execution_count": null,
      "metadata": {
        "colab": {
          "base_uri": "https://localhost:8080/"
        },
        "id": "2CAn7uRKKIXC",
        "outputId": "bf2f3e27-f253-4447-98c2-5fa72f919164"
      },
      "outputs": [
        {
          "name": "stdout",
          "output_type": "stream",
          "text": [
            "Columns: Index(['timestamp', 'url', 'final_price', 'sku', 'currency', 'gtin',\n",
            "       'specifications', 'image_urls', 'top_reviews', 'rating_stars',\n",
            "       'related_pages', 'available_for_delivery', 'available_for_pickup',\n",
            "       'brand', 'breadcrumbs', 'category_ids', 'review_count', 'description',\n",
            "       'product_id', 'product_name', 'review_tags', 'category_url',\n",
            "       'category_name', 'category_path', 'root_category_url',\n",
            "       'root_category_name', 'upc', 'tags', 'main_image', 'rating',\n",
            "       'unit_price', 'unit', 'aisle', 'free_returns', 'sizes', 'colors',\n",
            "       'seller', 'other_attributes', 'customer_reviews', 'ingredients',\n",
            "       'initial_price', 'discount', 'ingredients_full', 'categories'],\n",
            "      dtype='object')\n"
          ]
        }
      ],
      "source": [
        "print(\"Columns:\", df2.columns)"
      ]
    },
    {
      "cell_type": "code",
      "execution_count": null,
      "metadata": {
        "colab": {
          "base_uri": "https://localhost:8080/",
          "height": 1000
        },
        "collapsed": true,
        "id": "4uSpbXeh9yWW",
        "outputId": "2ff6c65c-1212-4072-cdcf-b8c9009a85a0"
      },
      "outputs": [
        {
          "data": {
            "text/html": [
              "<div>\n",
              "<style scoped>\n",
              "    .dataframe tbody tr th:only-of-type {\n",
              "        vertical-align: middle;\n",
              "    }\n",
              "\n",
              "    .dataframe tbody tr th {\n",
              "        vertical-align: top;\n",
              "    }\n",
              "\n",
              "    .dataframe thead th {\n",
              "        text-align: right;\n",
              "    }\n",
              "</style>\n",
              "<table border=\"1\" class=\"dataframe\">\n",
              "  <thead>\n",
              "    <tr style=\"text-align: right;\">\n",
              "      <th></th>\n",
              "      <th>0</th>\n",
              "    </tr>\n",
              "  </thead>\n",
              "  <tbody>\n",
              "    <tr>\n",
              "      <th>timestamp</th>\n",
              "      <td>0</td>\n",
              "    </tr>\n",
              "    <tr>\n",
              "      <th>url</th>\n",
              "      <td>0</td>\n",
              "    </tr>\n",
              "    <tr>\n",
              "      <th>final_price</th>\n",
              "      <td>0</td>\n",
              "    </tr>\n",
              "    <tr>\n",
              "      <th>sku</th>\n",
              "      <td>0</td>\n",
              "    </tr>\n",
              "    <tr>\n",
              "      <th>currency</th>\n",
              "      <td>0</td>\n",
              "    </tr>\n",
              "    <tr>\n",
              "      <th>gtin</th>\n",
              "      <td>2</td>\n",
              "    </tr>\n",
              "    <tr>\n",
              "      <th>specifications</th>\n",
              "      <td>1</td>\n",
              "    </tr>\n",
              "    <tr>\n",
              "      <th>image_urls</th>\n",
              "      <td>0</td>\n",
              "    </tr>\n",
              "    <tr>\n",
              "      <th>top_reviews</th>\n",
              "      <td>0</td>\n",
              "    </tr>\n",
              "    <tr>\n",
              "      <th>rating_stars</th>\n",
              "      <td>0</td>\n",
              "    </tr>\n",
              "    <tr>\n",
              "      <th>related_pages</th>\n",
              "      <td>3</td>\n",
              "    </tr>\n",
              "    <tr>\n",
              "      <th>available_for_delivery</th>\n",
              "      <td>0</td>\n",
              "    </tr>\n",
              "    <tr>\n",
              "      <th>available_for_pickup</th>\n",
              "      <td>0</td>\n",
              "    </tr>\n",
              "    <tr>\n",
              "      <th>brand</th>\n",
              "      <td>0</td>\n",
              "    </tr>\n",
              "    <tr>\n",
              "      <th>breadcrumbs</th>\n",
              "      <td>0</td>\n",
              "    </tr>\n",
              "    <tr>\n",
              "      <th>category_ids</th>\n",
              "      <td>0</td>\n",
              "    </tr>\n",
              "    <tr>\n",
              "      <th>review_count</th>\n",
              "      <td>0</td>\n",
              "    </tr>\n",
              "    <tr>\n",
              "      <th>description</th>\n",
              "      <td>0</td>\n",
              "    </tr>\n",
              "    <tr>\n",
              "      <th>product_id</th>\n",
              "      <td>0</td>\n",
              "    </tr>\n",
              "    <tr>\n",
              "      <th>product_name</th>\n",
              "      <td>0</td>\n",
              "    </tr>\n",
              "    <tr>\n",
              "      <th>review_tags</th>\n",
              "      <td>0</td>\n",
              "    </tr>\n",
              "    <tr>\n",
              "      <th>category_url</th>\n",
              "      <td>0</td>\n",
              "    </tr>\n",
              "    <tr>\n",
              "      <th>category_name</th>\n",
              "      <td>0</td>\n",
              "    </tr>\n",
              "    <tr>\n",
              "      <th>category_path</th>\n",
              "      <td>0</td>\n",
              "    </tr>\n",
              "    <tr>\n",
              "      <th>root_category_url</th>\n",
              "      <td>0</td>\n",
              "    </tr>\n",
              "    <tr>\n",
              "      <th>root_category_name</th>\n",
              "      <td>0</td>\n",
              "    </tr>\n",
              "    <tr>\n",
              "      <th>upc</th>\n",
              "      <td>2</td>\n",
              "    </tr>\n",
              "    <tr>\n",
              "      <th>tags</th>\n",
              "      <td>427</td>\n",
              "    </tr>\n",
              "    <tr>\n",
              "      <th>main_image</th>\n",
              "      <td>0</td>\n",
              "    </tr>\n",
              "    <tr>\n",
              "      <th>rating</th>\n",
              "      <td>0</td>\n",
              "    </tr>\n",
              "    <tr>\n",
              "      <th>unit_price</th>\n",
              "      <td>95</td>\n",
              "    </tr>\n",
              "    <tr>\n",
              "      <th>unit</th>\n",
              "      <td>95</td>\n",
              "    </tr>\n",
              "    <tr>\n",
              "      <th>aisle</th>\n",
              "      <td>543</td>\n",
              "    </tr>\n",
              "    <tr>\n",
              "      <th>free_returns</th>\n",
              "      <td>153</td>\n",
              "    </tr>\n",
              "    <tr>\n",
              "      <th>sizes</th>\n",
              "      <td>0</td>\n",
              "    </tr>\n",
              "    <tr>\n",
              "      <th>colors</th>\n",
              "      <td>0</td>\n",
              "    </tr>\n",
              "    <tr>\n",
              "      <th>seller</th>\n",
              "      <td>0</td>\n",
              "    </tr>\n",
              "    <tr>\n",
              "      <th>other_attributes</th>\n",
              "      <td>289</td>\n",
              "    </tr>\n",
              "    <tr>\n",
              "      <th>customer_reviews</th>\n",
              "      <td>0</td>\n",
              "    </tr>\n",
              "    <tr>\n",
              "      <th>ingredients</th>\n",
              "      <td>100</td>\n",
              "    </tr>\n",
              "    <tr>\n",
              "      <th>initial_price</th>\n",
              "      <td>693</td>\n",
              "    </tr>\n",
              "    <tr>\n",
              "      <th>discount</th>\n",
              "      <td>693</td>\n",
              "    </tr>\n",
              "    <tr>\n",
              "      <th>ingredients_full</th>\n",
              "      <td>98</td>\n",
              "    </tr>\n",
              "    <tr>\n",
              "      <th>categories</th>\n",
              "      <td>0</td>\n",
              "    </tr>\n",
              "  </tbody>\n",
              "</table>\n",
              "</div><br><label><b>dtype:</b> int64</label>"
            ],
            "text/plain": [
              "timestamp                   0\n",
              "url                         0\n",
              "final_price                 0\n",
              "sku                         0\n",
              "currency                    0\n",
              "gtin                        2\n",
              "specifications              1\n",
              "image_urls                  0\n",
              "top_reviews                 0\n",
              "rating_stars                0\n",
              "related_pages               3\n",
              "available_for_delivery      0\n",
              "available_for_pickup        0\n",
              "brand                       0\n",
              "breadcrumbs                 0\n",
              "category_ids                0\n",
              "review_count                0\n",
              "description                 0\n",
              "product_id                  0\n",
              "product_name                0\n",
              "review_tags                 0\n",
              "category_url                0\n",
              "category_name               0\n",
              "category_path               0\n",
              "root_category_url           0\n",
              "root_category_name          0\n",
              "upc                         2\n",
              "tags                      427\n",
              "main_image                  0\n",
              "rating                      0\n",
              "unit_price                 95\n",
              "unit                       95\n",
              "aisle                     543\n",
              "free_returns              153\n",
              "sizes                       0\n",
              "colors                      0\n",
              "seller                      0\n",
              "other_attributes          289\n",
              "customer_reviews            0\n",
              "ingredients               100\n",
              "initial_price             693\n",
              "discount                  693\n",
              "ingredients_full           98\n",
              "categories                  0\n",
              "dtype: int64"
            ]
          },
          "execution_count": 422,
          "metadata": {},
          "output_type": "execute_result"
        }
      ],
      "source": [
        "df2.isnull().sum()"
      ]
    },
    {
      "cell_type": "code",
      "execution_count": null,
      "metadata": {
        "colab": {
          "base_uri": "https://localhost:8080/",
          "height": 458
        },
        "id": "hPNEg06L9yM6",
        "outputId": "201747d8-2605-4cdb-b059-5a119f191220"
      },
      "outputs": [
        {
          "data": {
            "text/html": [
              "<div>\n",
              "<style scoped>\n",
              "    .dataframe tbody tr th:only-of-type {\n",
              "        vertical-align: middle;\n",
              "    }\n",
              "\n",
              "    .dataframe tbody tr th {\n",
              "        vertical-align: top;\n",
              "    }\n",
              "\n",
              "    .dataframe thead th {\n",
              "        text-align: right;\n",
              "    }\n",
              "</style>\n",
              "<table border=\"1\" class=\"dataframe\">\n",
              "  <thead>\n",
              "    <tr style=\"text-align: right;\">\n",
              "      <th></th>\n",
              "      <th>0</th>\n",
              "    </tr>\n",
              "  </thead>\n",
              "  <tbody>\n",
              "    <tr>\n",
              "      <th>0</th>\n",
              "      <td>2</td>\n",
              "    </tr>\n",
              "    <tr>\n",
              "      <th>1</th>\n",
              "      <td>0</td>\n",
              "    </tr>\n",
              "    <tr>\n",
              "      <th>2</th>\n",
              "      <td>4</td>\n",
              "    </tr>\n",
              "    <tr>\n",
              "      <th>3</th>\n",
              "      <td>5</td>\n",
              "    </tr>\n",
              "    <tr>\n",
              "      <th>4</th>\n",
              "      <td>2</td>\n",
              "    </tr>\n",
              "    <tr>\n",
              "      <th>...</th>\n",
              "      <td>...</td>\n",
              "    </tr>\n",
              "    <tr>\n",
              "      <th>995</th>\n",
              "      <td>1</td>\n",
              "    </tr>\n",
              "    <tr>\n",
              "      <th>996</th>\n",
              "      <td>2</td>\n",
              "    </tr>\n",
              "    <tr>\n",
              "      <th>997</th>\n",
              "      <td>4</td>\n",
              "    </tr>\n",
              "    <tr>\n",
              "      <th>998</th>\n",
              "      <td>3</td>\n",
              "    </tr>\n",
              "    <tr>\n",
              "      <th>999</th>\n",
              "      <td>2</td>\n",
              "    </tr>\n",
              "  </tbody>\n",
              "</table>\n",
              "<p>1000 rows × 1 columns</p>\n",
              "</div><br><label><b>dtype:</b> int64</label>"
            ],
            "text/plain": [
              "0      2\n",
              "1      0\n",
              "2      4\n",
              "3      5\n",
              "4      2\n",
              "      ..\n",
              "995    1\n",
              "996    2\n",
              "997    4\n",
              "998    3\n",
              "999    2\n",
              "Length: 1000, dtype: int64"
            ]
          },
          "execution_count": 423,
          "metadata": {},
          "output_type": "execute_result"
        }
      ],
      "source": [
        "df2.isnull().sum(axis=1)"
      ]
    },
    {
      "cell_type": "code",
      "execution_count": null,
      "metadata": {
        "colab": {
          "base_uri": "https://localhost:8080/"
        },
        "id": "LoOG4kop96ip",
        "outputId": "724c06c4-dc32-4455-947e-18fe04d7e034"
      },
      "outputs": [
        {
          "data": {
            "text/plain": [
              "(1000, 44)"
            ]
          },
          "execution_count": 424,
          "metadata": {},
          "output_type": "execute_result"
        }
      ],
      "source": [
        "df2.shape"
      ]
    },
    {
      "cell_type": "code",
      "execution_count": null,
      "metadata": {
        "colab": {
          "base_uri": "https://localhost:8080/",
          "height": 504
        },
        "collapsed": true,
        "id": "SG3bu-Og2dmk",
        "outputId": "0a7ce659-14b0-43f5-d025-fbbaf28b9c60"
      },
      "outputs": [
        {
          "data": {
            "application/vnd.google.colaboratory.intrinsic+json": {
              "summary": "{\n  \"name\": \"df3\",\n  \"rows\": 5234,\n  \"fields\": [\n    {\n      \"column\": \"OBJECTID\",\n      \"properties\": {\n        \"dtype\": \"number\",\n        \"std\": 2176,\n        \"min\": 29040,\n        \"max\": 36706,\n        \"num_unique_values\": 5234,\n        \"samples\": [\n          32862,\n          30423,\n          29544\n        ],\n        \"semantic_type\": \"\",\n        \"description\": \"\"\n      }\n    },\n    {\n      \"column\": \"businessUnit_name\",\n      \"properties\": {\n        \"dtype\": \"string\",\n        \"num_unique_values\": 4783,\n        \"samples\": [\n          \"CAPE GIRARDEAU E MO\",\n          \"OXFORD MS\",\n          \"PEACHTREE CITY GA\"\n        ],\n        \"semantic_type\": \"\",\n        \"description\": \"\"\n      }\n    },\n    {\n      \"column\": \"businessUnit_number\",\n      \"properties\": {\n        \"dtype\": \"number\",\n        \"std\": 2165,\n        \"min\": 1,\n        \"max\": 11017,\n        \"num_unique_values\": 5234,\n        \"samples\": [\n          411,\n          2537,\n          1382\n        ],\n        \"semantic_type\": \"\",\n        \"description\": \"\"\n      }\n    },\n    {\n      \"column\": \"Description\",\n      \"properties\": {\n        \"dtype\": \"category\",\n        \"num_unique_values\": 9,\n        \"samples\": [\n          \"Other\",\n          \"Wal-Mart\",\n          \"MOBILE OPTICAL\"\n        ],\n        \"semantic_type\": \"\",\n        \"description\": \"\"\n      }\n    },\n    {\n      \"column\": \"Type\",\n      \"properties\": {\n        \"dtype\": \"category\",\n        \"num_unique_values\": 2,\n        \"samples\": [\n          \"Wholesale\",\n          \"Retail\"\n        ],\n        \"semantic_type\": \"\",\n        \"description\": \"\"\n      }\n    },\n    {\n      \"column\": \"Address\",\n      \"properties\": {\n        \"dtype\": \"string\",\n        \"num_unique_values\": 5226,\n        \"samples\": [\n          \"508 NW BYPASS 72\",\n          \"1821 S PADRE ISLAND DR\"\n        ],\n        \"semantic_type\": \"\",\n        \"description\": \"\"\n      }\n    },\n    {\n      \"column\": \"City\",\n      \"properties\": {\n        \"dtype\": \"string\",\n        \"num_unique_values\": 2679,\n        \"samples\": [\n          \"LEBANON\",\n          \"ROCHESTER HILLS\"\n        ],\n        \"semantic_type\": \"\",\n        \"description\": \"\"\n      }\n    },\n    {\n      \"column\": \"County\",\n      \"properties\": {\n        \"dtype\": \"category\",\n        \"num_unique_values\": 1236,\n        \"samples\": [\n          \"DUPLIN\",\n          \"LAPEER\"\n        ],\n        \"semantic_type\": \"\",\n        \"description\": \"\"\n      }\n    },\n    {\n      \"column\": \"State\",\n      \"properties\": {\n        \"dtype\": \"category\",\n        \"num_unique_values\": 52,\n        \"samples\": [\n          \"MN\",\n          \"ME\"\n        ],\n        \"semantic_type\": \"\",\n        \"description\": \"\"\n      }\n    },\n    {\n      \"column\": \"Postal Code\",\n      \"properties\": {\n        \"dtype\": \"string\",\n        \"num_unique_values\": 5140,\n        \"samples\": [\n          \"62040-6848\",\n          \"63501-1906\"\n        ],\n        \"semantic_type\": \"\",\n        \"description\": \"\"\n      }\n    },\n    {\n      \"column\": \"Operation Status\",\n      \"properties\": {\n        \"dtype\": \"category\",\n        \"num_unique_values\": 2,\n        \"samples\": [\n          \"Closed\",\n          \"Open\"\n        ],\n        \"semantic_type\": \"\",\n        \"description\": \"\"\n      }\n    },\n    {\n      \"column\": \"GlobalID\",\n      \"properties\": {\n        \"dtype\": \"string\",\n        \"num_unique_values\": 5234,\n        \"samples\": [\n          \"c64fe857-871f-4197-bc2a-b2f75f1c4383\",\n          \"caf52808-a9e4-4e89-94a0-ab88bc163376\"\n        ],\n        \"semantic_type\": \"\",\n        \"description\": \"\"\n      }\n    },\n    {\n      \"column\": \"x\",\n      \"properties\": {\n        \"dtype\": \"number\",\n        \"std\": 1507580.074863507,\n        \"min\": -17740433.4333,\n        \"max\": 0.0,\n        \"num_unique_values\": 5231,\n        \"samples\": [\n          -9413397.8899,\n          -10098027.8977\n        ],\n        \"semantic_type\": \"\",\n        \"description\": \"\"\n      }\n    },\n    {\n      \"column\": \"y\",\n      \"properties\": {\n        \"dtype\": \"number\",\n        \"std\": 731422.808112793,\n        \"min\": 0.0,\n        \"max\": 9570642.1283,\n        \"num_unique_values\": 5230,\n        \"samples\": [\n          4565191.8324,\n          3996249.9415\n        ],\n        \"semantic_type\": \"\",\n        \"description\": \"\"\n      }\n    }\n  ]\n}",
              "type": "dataframe",
              "variable_name": "df3"
            },
            "text/html": [
              "\n",
              "  <div id=\"df-44df7523-0178-4537-9ac3-98ca6adae549\" class=\"colab-df-container\">\n",
              "    <div>\n",
              "<style scoped>\n",
              "    .dataframe tbody tr th:only-of-type {\n",
              "        vertical-align: middle;\n",
              "    }\n",
              "\n",
              "    .dataframe tbody tr th {\n",
              "        vertical-align: top;\n",
              "    }\n",
              "\n",
              "    .dataframe thead th {\n",
              "        text-align: right;\n",
              "    }\n",
              "</style>\n",
              "<table border=\"1\" class=\"dataframe\">\n",
              "  <thead>\n",
              "    <tr style=\"text-align: right;\">\n",
              "      <th></th>\n",
              "      <th>OBJECTID</th>\n",
              "      <th>businessUnit_name</th>\n",
              "      <th>businessUnit_number</th>\n",
              "      <th>Description</th>\n",
              "      <th>Type</th>\n",
              "      <th>Address</th>\n",
              "      <th>City</th>\n",
              "      <th>County</th>\n",
              "      <th>State</th>\n",
              "      <th>Postal Code</th>\n",
              "      <th>Operation Status</th>\n",
              "      <th>GlobalID</th>\n",
              "      <th>x</th>\n",
              "      <th>y</th>\n",
              "    </tr>\n",
              "  </thead>\n",
              "  <tbody>\n",
              "    <tr>\n",
              "      <th>0</th>\n",
              "      <td>29040</td>\n",
              "      <td>ROGERS, AR</td>\n",
              "      <td>1</td>\n",
              "      <td>WM Supercenter</td>\n",
              "      <td>Retail</td>\n",
              "      <td>2110 W WALNUT ST</td>\n",
              "      <td>ROGERS</td>\n",
              "      <td>BENTON</td>\n",
              "      <td>AR</td>\n",
              "      <td>72756-3246</td>\n",
              "      <td>Open</td>\n",
              "      <td>ad1180d5-9602-4c31-8f8d-79279b68bb00</td>\n",
              "      <td>-1.048062e+07</td>\n",
              "      <td>4.346304e+06</td>\n",
              "    </tr>\n",
              "    <tr>\n",
              "      <th>1</th>\n",
              "      <td>29041</td>\n",
              "      <td>TUNKHANNOCK, PA</td>\n",
              "      <td>2024</td>\n",
              "      <td>WM Supercenter</td>\n",
              "      <td>Retail</td>\n",
              "      <td>808 HUNTER HWY</td>\n",
              "      <td>TUNKHANNOCK</td>\n",
              "      <td>WYOMING</td>\n",
              "      <td>PA</td>\n",
              "      <td>18657-8071</td>\n",
              "      <td>Open</td>\n",
              "      <td>9713a3b8-52d2-4fd6-bd7d-ab35e83bd006</td>\n",
              "      <td>-8.454430e+06</td>\n",
              "      <td>5.089939e+06</td>\n",
              "    </tr>\n",
              "    <tr>\n",
              "      <th>2</th>\n",
              "      <td>29042</td>\n",
              "      <td>TAHLEQUAH OK</td>\n",
              "      <td>10</td>\n",
              "      <td>WM Supercenter</td>\n",
              "      <td>Retail</td>\n",
              "      <td>2020 S MUSKOGEE AVE</td>\n",
              "      <td>TAHLEQUAH</td>\n",
              "      <td>CHEROKEE</td>\n",
              "      <td>OK</td>\n",
              "      <td>74464-5439</td>\n",
              "      <td>Open</td>\n",
              "      <td>66724ffd-8b3d-4247-8d2b-815e0672cc16</td>\n",
              "      <td>-1.057310e+07</td>\n",
              "      <td>4.285332e+06</td>\n",
              "    </tr>\n",
              "    <tr>\n",
              "      <th>3</th>\n",
              "      <td>29043</td>\n",
              "      <td>TRACY, CA</td>\n",
              "      <td>2025</td>\n",
              "      <td>WM Supercenter</td>\n",
              "      <td>Retail</td>\n",
              "      <td>3010 W GRANT LINE RD</td>\n",
              "      <td>TRACY</td>\n",
              "      <td>SAN JOAQUIN</td>\n",
              "      <td>CA</td>\n",
              "      <td>95304-9402</td>\n",
              "      <td>Open</td>\n",
              "      <td>1ffdd775-7a2e-49d7-8480-7f58124fc6af</td>\n",
              "      <td>-1.352217e+07</td>\n",
              "      <td>4.544403e+06</td>\n",
              "    </tr>\n",
              "    <tr>\n",
              "      <th>4</th>\n",
              "      <td>29044</td>\n",
              "      <td>BENTONVILLE, AR</td>\n",
              "      <td>100</td>\n",
              "      <td>WM Supercenter</td>\n",
              "      <td>Retail</td>\n",
              "      <td>406 S WALTON BLVD</td>\n",
              "      <td>BENTONVILLE</td>\n",
              "      <td>BENTON</td>\n",
              "      <td>AR</td>\n",
              "      <td>72712-5705</td>\n",
              "      <td>Open</td>\n",
              "      <td>cf1f267b-9737-4539-952d-a7ae0fe284af</td>\n",
              "      <td>-1.048906e+07</td>\n",
              "      <td>4.351400e+06</td>\n",
              "    </tr>\n",
              "  </tbody>\n",
              "</table>\n",
              "</div>\n",
              "    <div class=\"colab-df-buttons\">\n",
              "\n",
              "  <div class=\"colab-df-container\">\n",
              "    <button class=\"colab-df-convert\" onclick=\"convertToInteractive('df-44df7523-0178-4537-9ac3-98ca6adae549')\"\n",
              "            title=\"Convert this dataframe to an interactive table.\"\n",
              "            style=\"display:none;\">\n",
              "\n",
              "  <svg xmlns=\"http://www.w3.org/2000/svg\" height=\"24px\" viewBox=\"0 -960 960 960\">\n",
              "    <path d=\"M120-120v-720h720v720H120Zm60-500h600v-160H180v160Zm220 220h160v-160H400v160Zm0 220h160v-160H400v160ZM180-400h160v-160H180v160Zm440 0h160v-160H620v160ZM180-180h160v-160H180v160Zm440 0h160v-160H620v160Z\"/>\n",
              "  </svg>\n",
              "    </button>\n",
              "\n",
              "  <style>\n",
              "    .colab-df-container {\n",
              "      display:flex;\n",
              "      gap: 12px;\n",
              "    }\n",
              "\n",
              "    .colab-df-convert {\n",
              "      background-color: #E8F0FE;\n",
              "      border: none;\n",
              "      border-radius: 50%;\n",
              "      cursor: pointer;\n",
              "      display: none;\n",
              "      fill: #1967D2;\n",
              "      height: 32px;\n",
              "      padding: 0 0 0 0;\n",
              "      width: 32px;\n",
              "    }\n",
              "\n",
              "    .colab-df-convert:hover {\n",
              "      background-color: #E2EBFA;\n",
              "      box-shadow: 0px 1px 2px rgba(60, 64, 67, 0.3), 0px 1px 3px 1px rgba(60, 64, 67, 0.15);\n",
              "      fill: #174EA6;\n",
              "    }\n",
              "\n",
              "    .colab-df-buttons div {\n",
              "      margin-bottom: 4px;\n",
              "    }\n",
              "\n",
              "    [theme=dark] .colab-df-convert {\n",
              "      background-color: #3B4455;\n",
              "      fill: #D2E3FC;\n",
              "    }\n",
              "\n",
              "    [theme=dark] .colab-df-convert:hover {\n",
              "      background-color: #434B5C;\n",
              "      box-shadow: 0px 1px 3px 1px rgba(0, 0, 0, 0.15);\n",
              "      filter: drop-shadow(0px 1px 2px rgba(0, 0, 0, 0.3));\n",
              "      fill: #FFFFFF;\n",
              "    }\n",
              "  </style>\n",
              "\n",
              "    <script>\n",
              "      const buttonEl =\n",
              "        document.querySelector('#df-44df7523-0178-4537-9ac3-98ca6adae549 button.colab-df-convert');\n",
              "      buttonEl.style.display =\n",
              "        google.colab.kernel.accessAllowed ? 'block' : 'none';\n",
              "\n",
              "      async function convertToInteractive(key) {\n",
              "        const element = document.querySelector('#df-44df7523-0178-4537-9ac3-98ca6adae549');\n",
              "        const dataTable =\n",
              "          await google.colab.kernel.invokeFunction('convertToInteractive',\n",
              "                                                    [key], {});\n",
              "        if (!dataTable) return;\n",
              "\n",
              "        const docLinkHtml = 'Like what you see? Visit the ' +\n",
              "          '<a target=\"_blank\" href=https://colab.research.google.com/notebooks/data_table.ipynb>data table notebook</a>'\n",
              "          + ' to learn more about interactive tables.';\n",
              "        element.innerHTML = '';\n",
              "        dataTable['output_type'] = 'display_data';\n",
              "        await google.colab.output.renderOutput(dataTable, element);\n",
              "        const docLink = document.createElement('div');\n",
              "        docLink.innerHTML = docLinkHtml;\n",
              "        element.appendChild(docLink);\n",
              "      }\n",
              "    </script>\n",
              "  </div>\n",
              "\n",
              "\n",
              "<div id=\"df-0d7e565f-0bbc-475a-b77e-2da8342b5a1a\">\n",
              "  <button class=\"colab-df-quickchart\" onclick=\"quickchart('df-0d7e565f-0bbc-475a-b77e-2da8342b5a1a')\"\n",
              "            title=\"Suggest charts\"\n",
              "            style=\"display:none;\">\n",
              "\n",
              "<svg xmlns=\"http://www.w3.org/2000/svg\" height=\"24px\"viewBox=\"0 0 24 24\"\n",
              "     width=\"24px\">\n",
              "    <g>\n",
              "        <path d=\"M19 3H5c-1.1 0-2 .9-2 2v14c0 1.1.9 2 2 2h14c1.1 0 2-.9 2-2V5c0-1.1-.9-2-2-2zM9 17H7v-7h2v7zm4 0h-2V7h2v10zm4 0h-2v-4h2v4z\"/>\n",
              "    </g>\n",
              "</svg>\n",
              "  </button>\n",
              "\n",
              "<style>\n",
              "  .colab-df-quickchart {\n",
              "      --bg-color: #E8F0FE;\n",
              "      --fill-color: #1967D2;\n",
              "      --hover-bg-color: #E2EBFA;\n",
              "      --hover-fill-color: #174EA6;\n",
              "      --disabled-fill-color: #AAA;\n",
              "      --disabled-bg-color: #DDD;\n",
              "  }\n",
              "\n",
              "  [theme=dark] .colab-df-quickchart {\n",
              "      --bg-color: #3B4455;\n",
              "      --fill-color: #D2E3FC;\n",
              "      --hover-bg-color: #434B5C;\n",
              "      --hover-fill-color: #FFFFFF;\n",
              "      --disabled-bg-color: #3B4455;\n",
              "      --disabled-fill-color: #666;\n",
              "  }\n",
              "\n",
              "  .colab-df-quickchart {\n",
              "    background-color: var(--bg-color);\n",
              "    border: none;\n",
              "    border-radius: 50%;\n",
              "    cursor: pointer;\n",
              "    display: none;\n",
              "    fill: var(--fill-color);\n",
              "    height: 32px;\n",
              "    padding: 0;\n",
              "    width: 32px;\n",
              "  }\n",
              "\n",
              "  .colab-df-quickchart:hover {\n",
              "    background-color: var(--hover-bg-color);\n",
              "    box-shadow: 0 1px 2px rgba(60, 64, 67, 0.3), 0 1px 3px 1px rgba(60, 64, 67, 0.15);\n",
              "    fill: var(--button-hover-fill-color);\n",
              "  }\n",
              "\n",
              "  .colab-df-quickchart-complete:disabled,\n",
              "  .colab-df-quickchart-complete:disabled:hover {\n",
              "    background-color: var(--disabled-bg-color);\n",
              "    fill: var(--disabled-fill-color);\n",
              "    box-shadow: none;\n",
              "  }\n",
              "\n",
              "  .colab-df-spinner {\n",
              "    border: 2px solid var(--fill-color);\n",
              "    border-color: transparent;\n",
              "    border-bottom-color: var(--fill-color);\n",
              "    animation:\n",
              "      spin 1s steps(1) infinite;\n",
              "  }\n",
              "\n",
              "  @keyframes spin {\n",
              "    0% {\n",
              "      border-color: transparent;\n",
              "      border-bottom-color: var(--fill-color);\n",
              "      border-left-color: var(--fill-color);\n",
              "    }\n",
              "    20% {\n",
              "      border-color: transparent;\n",
              "      border-left-color: var(--fill-color);\n",
              "      border-top-color: var(--fill-color);\n",
              "    }\n",
              "    30% {\n",
              "      border-color: transparent;\n",
              "      border-left-color: var(--fill-color);\n",
              "      border-top-color: var(--fill-color);\n",
              "      border-right-color: var(--fill-color);\n",
              "    }\n",
              "    40% {\n",
              "      border-color: transparent;\n",
              "      border-right-color: var(--fill-color);\n",
              "      border-top-color: var(--fill-color);\n",
              "    }\n",
              "    60% {\n",
              "      border-color: transparent;\n",
              "      border-right-color: var(--fill-color);\n",
              "    }\n",
              "    80% {\n",
              "      border-color: transparent;\n",
              "      border-right-color: var(--fill-color);\n",
              "      border-bottom-color: var(--fill-color);\n",
              "    }\n",
              "    90% {\n",
              "      border-color: transparent;\n",
              "      border-bottom-color: var(--fill-color);\n",
              "    }\n",
              "  }\n",
              "</style>\n",
              "\n",
              "  <script>\n",
              "    async function quickchart(key) {\n",
              "      const quickchartButtonEl =\n",
              "        document.querySelector('#' + key + ' button');\n",
              "      quickchartButtonEl.disabled = true;  // To prevent multiple clicks.\n",
              "      quickchartButtonEl.classList.add('colab-df-spinner');\n",
              "      try {\n",
              "        const charts = await google.colab.kernel.invokeFunction(\n",
              "            'suggestCharts', [key], {});\n",
              "      } catch (error) {\n",
              "        console.error('Error during call to suggestCharts:', error);\n",
              "      }\n",
              "      quickchartButtonEl.classList.remove('colab-df-spinner');\n",
              "      quickchartButtonEl.classList.add('colab-df-quickchart-complete');\n",
              "    }\n",
              "    (() => {\n",
              "      let quickchartButtonEl =\n",
              "        document.querySelector('#df-0d7e565f-0bbc-475a-b77e-2da8342b5a1a button');\n",
              "      quickchartButtonEl.style.display =\n",
              "        google.colab.kernel.accessAllowed ? 'block' : 'none';\n",
              "    })();\n",
              "  </script>\n",
              "</div>\n",
              "\n",
              "    </div>\n",
              "  </div>\n"
            ],
            "text/plain": [
              "   OBJECTID businessUnit_name  businessUnit_number     Description    Type  \\\n",
              "0     29040        ROGERS, AR                    1  WM Supercenter  Retail   \n",
              "1     29041   TUNKHANNOCK, PA                 2024  WM Supercenter  Retail   \n",
              "2     29042      TAHLEQUAH OK                   10  WM Supercenter  Retail   \n",
              "3     29043         TRACY, CA                 2025  WM Supercenter  Retail   \n",
              "4     29044   BENTONVILLE, AR                  100  WM Supercenter  Retail   \n",
              "\n",
              "                Address         City       County State Postal Code  \\\n",
              "0      2110 W WALNUT ST       ROGERS       BENTON    AR  72756-3246   \n",
              "1        808 HUNTER HWY  TUNKHANNOCK      WYOMING    PA  18657-8071   \n",
              "2   2020 S MUSKOGEE AVE    TAHLEQUAH     CHEROKEE    OK  74464-5439   \n",
              "3  3010 W GRANT LINE RD        TRACY  SAN JOAQUIN    CA  95304-9402   \n",
              "4     406 S WALTON BLVD  BENTONVILLE       BENTON    AR  72712-5705   \n",
              "\n",
              "  Operation Status                              GlobalID             x  \\\n",
              "0             Open  ad1180d5-9602-4c31-8f8d-79279b68bb00 -1.048062e+07   \n",
              "1             Open  9713a3b8-52d2-4fd6-bd7d-ab35e83bd006 -8.454430e+06   \n",
              "2             Open  66724ffd-8b3d-4247-8d2b-815e0672cc16 -1.057310e+07   \n",
              "3             Open  1ffdd775-7a2e-49d7-8480-7f58124fc6af -1.352217e+07   \n",
              "4             Open  cf1f267b-9737-4539-952d-a7ae0fe284af -1.048906e+07   \n",
              "\n",
              "              y  \n",
              "0  4.346304e+06  \n",
              "1  5.089939e+06  \n",
              "2  4.285332e+06  \n",
              "3  4.544403e+06  \n",
              "4  4.351400e+06  "
            ]
          },
          "execution_count": 425,
          "metadata": {},
          "output_type": "execute_result"
        }
      ],
      "source": [
        "df3 = pd.read_csv(file_path3)\n",
        "df3.head()"
      ]
    },
    {
      "cell_type": "code",
      "execution_count": null,
      "metadata": {
        "colab": {
          "base_uri": "https://localhost:8080/",
          "height": 523
        },
        "id": "2AbodFpA9-0J",
        "outputId": "0d10b9bc-db0a-4751-bbac-f927433d69bd"
      },
      "outputs": [
        {
          "data": {
            "text/html": [
              "<div>\n",
              "<style scoped>\n",
              "    .dataframe tbody tr th:only-of-type {\n",
              "        vertical-align: middle;\n",
              "    }\n",
              "\n",
              "    .dataframe tbody tr th {\n",
              "        vertical-align: top;\n",
              "    }\n",
              "\n",
              "    .dataframe thead th {\n",
              "        text-align: right;\n",
              "    }\n",
              "</style>\n",
              "<table border=\"1\" class=\"dataframe\">\n",
              "  <thead>\n",
              "    <tr style=\"text-align: right;\">\n",
              "      <th></th>\n",
              "      <th>0</th>\n",
              "    </tr>\n",
              "  </thead>\n",
              "  <tbody>\n",
              "    <tr>\n",
              "      <th>OBJECTID</th>\n",
              "      <td>0</td>\n",
              "    </tr>\n",
              "    <tr>\n",
              "      <th>businessUnit_name</th>\n",
              "      <td>0</td>\n",
              "    </tr>\n",
              "    <tr>\n",
              "      <th>businessUnit_number</th>\n",
              "      <td>0</td>\n",
              "    </tr>\n",
              "    <tr>\n",
              "      <th>Description</th>\n",
              "      <td>0</td>\n",
              "    </tr>\n",
              "    <tr>\n",
              "      <th>Type</th>\n",
              "      <td>0</td>\n",
              "    </tr>\n",
              "    <tr>\n",
              "      <th>Address</th>\n",
              "      <td>0</td>\n",
              "    </tr>\n",
              "    <tr>\n",
              "      <th>City</th>\n",
              "      <td>0</td>\n",
              "    </tr>\n",
              "    <tr>\n",
              "      <th>County</th>\n",
              "      <td>1</td>\n",
              "    </tr>\n",
              "    <tr>\n",
              "      <th>State</th>\n",
              "      <td>0</td>\n",
              "    </tr>\n",
              "    <tr>\n",
              "      <th>Postal Code</th>\n",
              "      <td>0</td>\n",
              "    </tr>\n",
              "    <tr>\n",
              "      <th>Operation Status</th>\n",
              "      <td>0</td>\n",
              "    </tr>\n",
              "    <tr>\n",
              "      <th>GlobalID</th>\n",
              "      <td>0</td>\n",
              "    </tr>\n",
              "    <tr>\n",
              "      <th>x</th>\n",
              "      <td>0</td>\n",
              "    </tr>\n",
              "    <tr>\n",
              "      <th>y</th>\n",
              "      <td>0</td>\n",
              "    </tr>\n",
              "  </tbody>\n",
              "</table>\n",
              "</div><br><label><b>dtype:</b> int64</label>"
            ],
            "text/plain": [
              "OBJECTID               0\n",
              "businessUnit_name      0\n",
              "businessUnit_number    0\n",
              "Description            0\n",
              "Type                   0\n",
              "Address                0\n",
              "City                   0\n",
              "County                 1\n",
              "State                  0\n",
              "Postal Code            0\n",
              "Operation Status       0\n",
              "GlobalID               0\n",
              "x                      0\n",
              "y                      0\n",
              "dtype: int64"
            ]
          },
          "execution_count": 426,
          "metadata": {},
          "output_type": "execute_result"
        }
      ],
      "source": [
        "df3.isnull().sum()"
      ]
    },
    {
      "cell_type": "code",
      "execution_count": null,
      "metadata": {
        "colab": {
          "base_uri": "https://localhost:8080/",
          "height": 458
        },
        "id": "gSw2Mgtf-B6p",
        "outputId": "1f6434a1-b5e4-4660-cb5c-7143674d5f15"
      },
      "outputs": [
        {
          "data": {
            "text/html": [
              "<div>\n",
              "<style scoped>\n",
              "    .dataframe tbody tr th:only-of-type {\n",
              "        vertical-align: middle;\n",
              "    }\n",
              "\n",
              "    .dataframe tbody tr th {\n",
              "        vertical-align: top;\n",
              "    }\n",
              "\n",
              "    .dataframe thead th {\n",
              "        text-align: right;\n",
              "    }\n",
              "</style>\n",
              "<table border=\"1\" class=\"dataframe\">\n",
              "  <thead>\n",
              "    <tr style=\"text-align: right;\">\n",
              "      <th></th>\n",
              "      <th>0</th>\n",
              "    </tr>\n",
              "  </thead>\n",
              "  <tbody>\n",
              "    <tr>\n",
              "      <th>0</th>\n",
              "      <td>0</td>\n",
              "    </tr>\n",
              "    <tr>\n",
              "      <th>1</th>\n",
              "      <td>0</td>\n",
              "    </tr>\n",
              "    <tr>\n",
              "      <th>2</th>\n",
              "      <td>0</td>\n",
              "    </tr>\n",
              "    <tr>\n",
              "      <th>3</th>\n",
              "      <td>0</td>\n",
              "    </tr>\n",
              "    <tr>\n",
              "      <th>4</th>\n",
              "      <td>0</td>\n",
              "    </tr>\n",
              "    <tr>\n",
              "      <th>...</th>\n",
              "      <td>...</td>\n",
              "    </tr>\n",
              "    <tr>\n",
              "      <th>5229</th>\n",
              "      <td>0</td>\n",
              "    </tr>\n",
              "    <tr>\n",
              "      <th>5230</th>\n",
              "      <td>0</td>\n",
              "    </tr>\n",
              "    <tr>\n",
              "      <th>5231</th>\n",
              "      <td>0</td>\n",
              "    </tr>\n",
              "    <tr>\n",
              "      <th>5232</th>\n",
              "      <td>0</td>\n",
              "    </tr>\n",
              "    <tr>\n",
              "      <th>5233</th>\n",
              "      <td>0</td>\n",
              "    </tr>\n",
              "  </tbody>\n",
              "</table>\n",
              "<p>5234 rows × 1 columns</p>\n",
              "</div><br><label><b>dtype:</b> int64</label>"
            ],
            "text/plain": [
              "0       0\n",
              "1       0\n",
              "2       0\n",
              "3       0\n",
              "4       0\n",
              "       ..\n",
              "5229    0\n",
              "5230    0\n",
              "5231    0\n",
              "5232    0\n",
              "5233    0\n",
              "Length: 5234, dtype: int64"
            ]
          },
          "execution_count": 427,
          "metadata": {},
          "output_type": "execute_result"
        }
      ],
      "source": [
        "df3.isnull().sum(axis=1)"
      ]
    },
    {
      "cell_type": "code",
      "execution_count": null,
      "metadata": {
        "colab": {
          "base_uri": "https://localhost:8080/"
        },
        "id": "zVuXiVyO-ECx",
        "outputId": "00bfdfdc-a326-47cb-d3c4-24f5561f0cbc"
      },
      "outputs": [
        {
          "data": {
            "text/plain": [
              "(5234, 14)"
            ]
          },
          "execution_count": 428,
          "metadata": {},
          "output_type": "execute_result"
        }
      ],
      "source": [
        "df3.shape"
      ]
    },
    {
      "cell_type": "markdown",
      "metadata": {
        "id": "vYg3f6ZTpTz_"
      },
      "source": [
        "# **Extract from excel file**"
      ]
    },
    {
      "cell_type": "code",
      "execution_count": null,
      "metadata": {
        "collapsed": true,
        "id": "YMCU2b-kOVe8"
      },
      "outputs": [],
      "source": [
        "# Path to the file\n",
        "file_path6 = '/content/walmart_data/Clients.xlsx'\n",
        "file_path7 = '/content/walmart_data/Walmart-Sales.xlsx'\n",
        "file_path8 = '/content/walmart_data/walmart-US-Retail-Data-2012-2015.xlsx'\n",
        "\n",
        "\n",
        "# Read the Excel file\n",
        "df6 = pd.read_excel(file_path6, engine='openpyxl')\n",
        "df7 = pd.read_excel(file_path7, engine='openpyxl')\n",
        "df8 = pd.read_excel(file_path8, engine='openpyxl')\n",
        "\n",
        "\n"
      ]
    },
    {
      "cell_type": "code",
      "execution_count": null,
      "metadata": {
        "colab": {
          "base_uri": "https://localhost:8080/",
          "height": 206
        },
        "collapsed": true,
        "id": "iD6gOk8gpk4G",
        "outputId": "301a71c2-ad81-403d-9132-193866c4b9a1"
      },
      "outputs": [
        {
          "data": {
            "application/vnd.google.colaboratory.intrinsic+json": {
              "summary": "{\n  \"name\": \"df6\",\n  \"rows\": 10127,\n  \"fields\": [\n    {\n      \"column\": \"Customer_ID\",\n      \"properties\": {\n        \"dtype\": \"number\",\n        \"std\": 36903783,\n        \"min\": 708082083,\n        \"max\": 828343083,\n        \"num_unique_values\": 10127,\n        \"samples\": [\n          719455083,\n          773503308,\n          715452408\n        ],\n        \"semantic_type\": \"\",\n        \"description\": \"\"\n      }\n    },\n    {\n      \"column\": \"Attrition_Flag\",\n      \"properties\": {\n        \"dtype\": \"category\",\n        \"num_unique_values\": 2,\n        \"samples\": [\n          \"Attrited Customer\",\n          \"Existing Customer\"\n        ],\n        \"semantic_type\": \"\",\n        \"description\": \"\"\n      }\n    },\n    {\n      \"column\": \"Customer_Age\",\n      \"properties\": {\n        \"dtype\": \"number\",\n        \"std\": 8,\n        \"min\": 26,\n        \"max\": 73,\n        \"num_unique_values\": 45,\n        \"samples\": [\n          26,\n          38\n        ],\n        \"semantic_type\": \"\",\n        \"description\": \"\"\n      }\n    },\n    {\n      \"column\": \"Gender\",\n      \"properties\": {\n        \"dtype\": \"category\",\n        \"num_unique_values\": 2,\n        \"samples\": [\n          \"M\",\n          \"F\"\n        ],\n        \"semantic_type\": \"\",\n        \"description\": \"\"\n      }\n    },\n    {\n      \"column\": \"Education_Level\",\n      \"properties\": {\n        \"dtype\": \"category\",\n        \"num_unique_values\": 7,\n        \"samples\": [\n          \"High School\",\n          \"Graduate\"\n        ],\n        \"semantic_type\": \"\",\n        \"description\": \"\"\n      }\n    },\n    {\n      \"column\": \"Marital_Status\",\n      \"properties\": {\n        \"dtype\": \"category\",\n        \"num_unique_values\": 4,\n        \"samples\": [\n          \"Single\",\n          \"Divorced\"\n        ],\n        \"semantic_type\": \"\",\n        \"description\": \"\"\n      }\n    },\n    {\n      \"column\": \"Income_Category\",\n      \"properties\": {\n        \"dtype\": \"category\",\n        \"num_unique_values\": 6,\n        \"samples\": [\n          \"$60K - $80K\",\n          \"Less than $40K\"\n        ],\n        \"semantic_type\": \"\",\n        \"description\": \"\"\n      }\n    },\n    {\n      \"column\": \"State\",\n      \"properties\": {\n        \"dtype\": \"category\",\n        \"num_unique_values\": 50,\n        \"samples\": [\n          \"Missouri\",\n          \"Alabama\"\n        ],\n        \"semantic_type\": \"\",\n        \"description\": \"\"\n      }\n    },\n    {\n      \"column\": \"name\",\n      \"properties\": {\n        \"dtype\": \"category\",\n        \"num_unique_values\": 3252,\n        \"samples\": [\n          \"Okey Goldner\",\n          \"Brittany Veum\"\n        ],\n        \"semantic_type\": \"\",\n        \"description\": \"\"\n      }\n    }\n  ]\n}",
              "type": "dataframe",
              "variable_name": "df6"
            },
            "text/html": [
              "\n",
              "  <div id=\"df-6ba1b46b-14fc-4a7c-a7eb-3544ae92b85c\" class=\"colab-df-container\">\n",
              "    <div>\n",
              "<style scoped>\n",
              "    .dataframe tbody tr th:only-of-type {\n",
              "        vertical-align: middle;\n",
              "    }\n",
              "\n",
              "    .dataframe tbody tr th {\n",
              "        vertical-align: top;\n",
              "    }\n",
              "\n",
              "    .dataframe thead th {\n",
              "        text-align: right;\n",
              "    }\n",
              "</style>\n",
              "<table border=\"1\" class=\"dataframe\">\n",
              "  <thead>\n",
              "    <tr style=\"text-align: right;\">\n",
              "      <th></th>\n",
              "      <th>Customer_ID</th>\n",
              "      <th>Attrition_Flag</th>\n",
              "      <th>Customer_Age</th>\n",
              "      <th>Gender</th>\n",
              "      <th>Education_Level</th>\n",
              "      <th>Marital_Status</th>\n",
              "      <th>Income_Category</th>\n",
              "      <th>State</th>\n",
              "      <th>name</th>\n",
              "    </tr>\n",
              "  </thead>\n",
              "  <tbody>\n",
              "    <tr>\n",
              "      <th>0</th>\n",
              "      <td>768805383</td>\n",
              "      <td>Existing Customer</td>\n",
              "      <td>45</td>\n",
              "      <td>F</td>\n",
              "      <td>High School</td>\n",
              "      <td>Married</td>\n",
              "      <td>$60K - $80K</td>\n",
              "      <td>Virginia</td>\n",
              "      <td>Kenza Bacha</td>\n",
              "    </tr>\n",
              "    <tr>\n",
              "      <th>1</th>\n",
              "      <td>818770008</td>\n",
              "      <td>Existing Customer</td>\n",
              "      <td>49</td>\n",
              "      <td>F</td>\n",
              "      <td>Graduate</td>\n",
              "      <td>Single</td>\n",
              "      <td>Less than $40K</td>\n",
              "      <td>New York</td>\n",
              "      <td>Lina Bogisich</td>\n",
              "    </tr>\n",
              "    <tr>\n",
              "      <th>2</th>\n",
              "      <td>713982108</td>\n",
              "      <td>Existing Customer</td>\n",
              "      <td>51</td>\n",
              "      <td>M</td>\n",
              "      <td>Graduate</td>\n",
              "      <td>Married</td>\n",
              "      <td>$80K - $120K</td>\n",
              "      <td>Maryland</td>\n",
              "      <td>Prof. Shanon Braun PhD</td>\n",
              "    </tr>\n",
              "    <tr>\n",
              "      <th>3</th>\n",
              "      <td>769911858</td>\n",
              "      <td>Existing Customer</td>\n",
              "      <td>40</td>\n",
              "      <td>F</td>\n",
              "      <td>High School</td>\n",
              "      <td>Unknown</td>\n",
              "      <td>Less than $40K</td>\n",
              "      <td>Virginia</td>\n",
              "      <td>Jacinthe Stokes</td>\n",
              "    </tr>\n",
              "    <tr>\n",
              "      <th>4</th>\n",
              "      <td>709106358</td>\n",
              "      <td>Existing Customer</td>\n",
              "      <td>40</td>\n",
              "      <td>M</td>\n",
              "      <td>Uneducated</td>\n",
              "      <td>Married</td>\n",
              "      <td>$60K - $80K</td>\n",
              "      <td>Connecticut</td>\n",
              "      <td>Herman Goyette</td>\n",
              "    </tr>\n",
              "  </tbody>\n",
              "</table>\n",
              "</div>\n",
              "    <div class=\"colab-df-buttons\">\n",
              "\n",
              "  <div class=\"colab-df-container\">\n",
              "    <button class=\"colab-df-convert\" onclick=\"convertToInteractive('df-6ba1b46b-14fc-4a7c-a7eb-3544ae92b85c')\"\n",
              "            title=\"Convert this dataframe to an interactive table.\"\n",
              "            style=\"display:none;\">\n",
              "\n",
              "  <svg xmlns=\"http://www.w3.org/2000/svg\" height=\"24px\" viewBox=\"0 -960 960 960\">\n",
              "    <path d=\"M120-120v-720h720v720H120Zm60-500h600v-160H180v160Zm220 220h160v-160H400v160Zm0 220h160v-160H400v160ZM180-400h160v-160H180v160Zm440 0h160v-160H620v160ZM180-180h160v-160H180v160Zm440 0h160v-160H620v160Z\"/>\n",
              "  </svg>\n",
              "    </button>\n",
              "\n",
              "  <style>\n",
              "    .colab-df-container {\n",
              "      display:flex;\n",
              "      gap: 12px;\n",
              "    }\n",
              "\n",
              "    .colab-df-convert {\n",
              "      background-color: #E8F0FE;\n",
              "      border: none;\n",
              "      border-radius: 50%;\n",
              "      cursor: pointer;\n",
              "      display: none;\n",
              "      fill: #1967D2;\n",
              "      height: 32px;\n",
              "      padding: 0 0 0 0;\n",
              "      width: 32px;\n",
              "    }\n",
              "\n",
              "    .colab-df-convert:hover {\n",
              "      background-color: #E2EBFA;\n",
              "      box-shadow: 0px 1px 2px rgba(60, 64, 67, 0.3), 0px 1px 3px 1px rgba(60, 64, 67, 0.15);\n",
              "      fill: #174EA6;\n",
              "    }\n",
              "\n",
              "    .colab-df-buttons div {\n",
              "      margin-bottom: 4px;\n",
              "    }\n",
              "\n",
              "    [theme=dark] .colab-df-convert {\n",
              "      background-color: #3B4455;\n",
              "      fill: #D2E3FC;\n",
              "    }\n",
              "\n",
              "    [theme=dark] .colab-df-convert:hover {\n",
              "      background-color: #434B5C;\n",
              "      box-shadow: 0px 1px 3px 1px rgba(0, 0, 0, 0.15);\n",
              "      filter: drop-shadow(0px 1px 2px rgba(0, 0, 0, 0.3));\n",
              "      fill: #FFFFFF;\n",
              "    }\n",
              "  </style>\n",
              "\n",
              "    <script>\n",
              "      const buttonEl =\n",
              "        document.querySelector('#df-6ba1b46b-14fc-4a7c-a7eb-3544ae92b85c button.colab-df-convert');\n",
              "      buttonEl.style.display =\n",
              "        google.colab.kernel.accessAllowed ? 'block' : 'none';\n",
              "\n",
              "      async function convertToInteractive(key) {\n",
              "        const element = document.querySelector('#df-6ba1b46b-14fc-4a7c-a7eb-3544ae92b85c');\n",
              "        const dataTable =\n",
              "          await google.colab.kernel.invokeFunction('convertToInteractive',\n",
              "                                                    [key], {});\n",
              "        if (!dataTable) return;\n",
              "\n",
              "        const docLinkHtml = 'Like what you see? Visit the ' +\n",
              "          '<a target=\"_blank\" href=https://colab.research.google.com/notebooks/data_table.ipynb>data table notebook</a>'\n",
              "          + ' to learn more about interactive tables.';\n",
              "        element.innerHTML = '';\n",
              "        dataTable['output_type'] = 'display_data';\n",
              "        await google.colab.output.renderOutput(dataTable, element);\n",
              "        const docLink = document.createElement('div');\n",
              "        docLink.innerHTML = docLinkHtml;\n",
              "        element.appendChild(docLink);\n",
              "      }\n",
              "    </script>\n",
              "  </div>\n",
              "\n",
              "\n",
              "<div id=\"df-4336c221-6c9a-43f5-843c-926d1a567634\">\n",
              "  <button class=\"colab-df-quickchart\" onclick=\"quickchart('df-4336c221-6c9a-43f5-843c-926d1a567634')\"\n",
              "            title=\"Suggest charts\"\n",
              "            style=\"display:none;\">\n",
              "\n",
              "<svg xmlns=\"http://www.w3.org/2000/svg\" height=\"24px\"viewBox=\"0 0 24 24\"\n",
              "     width=\"24px\">\n",
              "    <g>\n",
              "        <path d=\"M19 3H5c-1.1 0-2 .9-2 2v14c0 1.1.9 2 2 2h14c1.1 0 2-.9 2-2V5c0-1.1-.9-2-2-2zM9 17H7v-7h2v7zm4 0h-2V7h2v10zm4 0h-2v-4h2v4z\"/>\n",
              "    </g>\n",
              "</svg>\n",
              "  </button>\n",
              "\n",
              "<style>\n",
              "  .colab-df-quickchart {\n",
              "      --bg-color: #E8F0FE;\n",
              "      --fill-color: #1967D2;\n",
              "      --hover-bg-color: #E2EBFA;\n",
              "      --hover-fill-color: #174EA6;\n",
              "      --disabled-fill-color: #AAA;\n",
              "      --disabled-bg-color: #DDD;\n",
              "  }\n",
              "\n",
              "  [theme=dark] .colab-df-quickchart {\n",
              "      --bg-color: #3B4455;\n",
              "      --fill-color: #D2E3FC;\n",
              "      --hover-bg-color: #434B5C;\n",
              "      --hover-fill-color: #FFFFFF;\n",
              "      --disabled-bg-color: #3B4455;\n",
              "      --disabled-fill-color: #666;\n",
              "  }\n",
              "\n",
              "  .colab-df-quickchart {\n",
              "    background-color: var(--bg-color);\n",
              "    border: none;\n",
              "    border-radius: 50%;\n",
              "    cursor: pointer;\n",
              "    display: none;\n",
              "    fill: var(--fill-color);\n",
              "    height: 32px;\n",
              "    padding: 0;\n",
              "    width: 32px;\n",
              "  }\n",
              "\n",
              "  .colab-df-quickchart:hover {\n",
              "    background-color: var(--hover-bg-color);\n",
              "    box-shadow: 0 1px 2px rgba(60, 64, 67, 0.3), 0 1px 3px 1px rgba(60, 64, 67, 0.15);\n",
              "    fill: var(--button-hover-fill-color);\n",
              "  }\n",
              "\n",
              "  .colab-df-quickchart-complete:disabled,\n",
              "  .colab-df-quickchart-complete:disabled:hover {\n",
              "    background-color: var(--disabled-bg-color);\n",
              "    fill: var(--disabled-fill-color);\n",
              "    box-shadow: none;\n",
              "  }\n",
              "\n",
              "  .colab-df-spinner {\n",
              "    border: 2px solid var(--fill-color);\n",
              "    border-color: transparent;\n",
              "    border-bottom-color: var(--fill-color);\n",
              "    animation:\n",
              "      spin 1s steps(1) infinite;\n",
              "  }\n",
              "\n",
              "  @keyframes spin {\n",
              "    0% {\n",
              "      border-color: transparent;\n",
              "      border-bottom-color: var(--fill-color);\n",
              "      border-left-color: var(--fill-color);\n",
              "    }\n",
              "    20% {\n",
              "      border-color: transparent;\n",
              "      border-left-color: var(--fill-color);\n",
              "      border-top-color: var(--fill-color);\n",
              "    }\n",
              "    30% {\n",
              "      border-color: transparent;\n",
              "      border-left-color: var(--fill-color);\n",
              "      border-top-color: var(--fill-color);\n",
              "      border-right-color: var(--fill-color);\n",
              "    }\n",
              "    40% {\n",
              "      border-color: transparent;\n",
              "      border-right-color: var(--fill-color);\n",
              "      border-top-color: var(--fill-color);\n",
              "    }\n",
              "    60% {\n",
              "      border-color: transparent;\n",
              "      border-right-color: var(--fill-color);\n",
              "    }\n",
              "    80% {\n",
              "      border-color: transparent;\n",
              "      border-right-color: var(--fill-color);\n",
              "      border-bottom-color: var(--fill-color);\n",
              "    }\n",
              "    90% {\n",
              "      border-color: transparent;\n",
              "      border-bottom-color: var(--fill-color);\n",
              "    }\n",
              "  }\n",
              "</style>\n",
              "\n",
              "  <script>\n",
              "    async function quickchart(key) {\n",
              "      const quickchartButtonEl =\n",
              "        document.querySelector('#' + key + ' button');\n",
              "      quickchartButtonEl.disabled = true;  // To prevent multiple clicks.\n",
              "      quickchartButtonEl.classList.add('colab-df-spinner');\n",
              "      try {\n",
              "        const charts = await google.colab.kernel.invokeFunction(\n",
              "            'suggestCharts', [key], {});\n",
              "      } catch (error) {\n",
              "        console.error('Error during call to suggestCharts:', error);\n",
              "      }\n",
              "      quickchartButtonEl.classList.remove('colab-df-spinner');\n",
              "      quickchartButtonEl.classList.add('colab-df-quickchart-complete');\n",
              "    }\n",
              "    (() => {\n",
              "      let quickchartButtonEl =\n",
              "        document.querySelector('#df-4336c221-6c9a-43f5-843c-926d1a567634 button');\n",
              "      quickchartButtonEl.style.display =\n",
              "        google.colab.kernel.accessAllowed ? 'block' : 'none';\n",
              "    })();\n",
              "  </script>\n",
              "</div>\n",
              "\n",
              "    </div>\n",
              "  </div>\n"
            ],
            "text/plain": [
              "   Customer_ID     Attrition_Flag  Customer_Age Gender Education_Level  \\\n",
              "0    768805383  Existing Customer            45      F     High School   \n",
              "1    818770008  Existing Customer            49      F        Graduate   \n",
              "2    713982108  Existing Customer            51      M        Graduate   \n",
              "3    769911858  Existing Customer            40      F     High School   \n",
              "4    709106358  Existing Customer            40      M      Uneducated   \n",
              "\n",
              "  Marital_Status Income_Category        State                    name  \n",
              "0        Married     $60K - $80K     Virginia             Kenza Bacha  \n",
              "1         Single  Less than $40K     New York           Lina Bogisich  \n",
              "2        Married    $80K - $120K     Maryland  Prof. Shanon Braun PhD  \n",
              "3        Unknown  Less than $40K     Virginia         Jacinthe Stokes  \n",
              "4        Married     $60K - $80K  Connecticut          Herman Goyette  "
            ]
          },
          "execution_count": 430,
          "metadata": {},
          "output_type": "execute_result"
        }
      ],
      "source": [
        "df6.head()"
      ]
    },
    {
      "cell_type": "code",
      "execution_count": null,
      "metadata": {
        "colab": {
          "base_uri": "https://localhost:8080/",
          "height": 206
        },
        "collapsed": true,
        "id": "kQ-iWGNwCvIQ",
        "outputId": "969f795e-c704-4d74-eb17-260da3ccb3a0"
      },
      "outputs": [
        {
          "data": {
            "application/vnd.google.colaboratory.intrinsic+json": {
              "summary": "{\n  \"name\": \"df7\",\n  \"rows\": 1000,\n  \"fields\": [\n    {\n      \"column\": \"Invoice ID\",\n      \"properties\": {\n        \"dtype\": \"string\",\n        \"num_unique_values\": 1000,\n        \"samples\": [\n          \"451-28-5717\",\n          \"137-63-5492\",\n          \"733-29-1227\"\n        ],\n        \"semantic_type\": \"\",\n        \"description\": \"\"\n      }\n    },\n    {\n      \"column\": \"Branch\",\n      \"properties\": {\n        \"dtype\": \"category\",\n        \"num_unique_values\": 3,\n        \"samples\": [\n          \"A\",\n          \"B\",\n          \"C\"\n        ],\n        \"semantic_type\": \"\",\n        \"description\": \"\"\n      }\n    },\n    {\n      \"column\": \"City\",\n      \"properties\": {\n        \"dtype\": \"category\",\n        \"num_unique_values\": 3,\n        \"samples\": [\n          \"Yangon\",\n          \"Naypyitaw\",\n          \"Mandalay\"\n        ],\n        \"semantic_type\": \"\",\n        \"description\": \"\"\n      }\n    },\n    {\n      \"column\": \"Customer type\",\n      \"properties\": {\n        \"dtype\": \"category\",\n        \"num_unique_values\": 2,\n        \"samples\": [\n          \"Normal\",\n          \"Member\"\n        ],\n        \"semantic_type\": \"\",\n        \"description\": \"\"\n      }\n    },\n    {\n      \"column\": \"Gender\",\n      \"properties\": {\n        \"dtype\": \"category\",\n        \"num_unique_values\": 2,\n        \"samples\": [\n          \"Male\",\n          \"Female\"\n        ],\n        \"semantic_type\": \"\",\n        \"description\": \"\"\n      }\n    },\n    {\n      \"column\": \"Product line\",\n      \"properties\": {\n        \"dtype\": \"category\",\n        \"num_unique_values\": 6,\n        \"samples\": [\n          \"Health and beauty\",\n          \"Electronic accessories\"\n        ],\n        \"semantic_type\": \"\",\n        \"description\": \"\"\n      }\n    },\n    {\n      \"column\": \"Unit price\",\n      \"properties\": {\n        \"dtype\": \"number\",\n        \"std\": 26.494628347919768,\n        \"min\": 10.08,\n        \"max\": 99.96,\n        \"num_unique_values\": 943,\n        \"samples\": [\n          12.45,\n          70.74\n        ],\n        \"semantic_type\": \"\",\n        \"description\": \"\"\n      }\n    },\n    {\n      \"column\": \"Quantity\",\n      \"properties\": {\n        \"dtype\": \"number\",\n        \"std\": 2,\n        \"min\": 1,\n        \"max\": 10,\n        \"num_unique_values\": 10,\n        \"samples\": [\n          1,\n          5\n        ],\n        \"semantic_type\": \"\",\n        \"description\": \"\"\n      }\n    },\n    {\n      \"column\": \"Date\",\n      \"properties\": {\n        \"dtype\": \"object\",\n        \"num_unique_values\": 89,\n        \"samples\": [\n          \"2/14/2019\",\n          \"1/26/2019\"\n        ],\n        \"semantic_type\": \"\",\n        \"description\": \"\"\n      }\n    },\n    {\n      \"column\": \"Time\",\n      \"properties\": {\n        \"dtype\": \"string\",\n        \"num_unique_values\": 506,\n        \"samples\": [\n          \"10:13:00\",\n          \"11:21:00\"\n        ],\n        \"semantic_type\": \"\",\n        \"description\": \"\"\n      }\n    },\n    {\n      \"column\": \"Payment\",\n      \"properties\": {\n        \"dtype\": \"category\",\n        \"num_unique_values\": 3,\n        \"samples\": [\n          \"Ewallet\",\n          \"Cash\"\n        ],\n        \"semantic_type\": \"\",\n        \"description\": \"\"\n      }\n    },\n    {\n      \"column\": \"Rating\",\n      \"properties\": {\n        \"dtype\": \"number\",\n        \"std\": 1.718580294379123,\n        \"min\": 4.0,\n        \"max\": 10.0,\n        \"num_unique_values\": 61,\n        \"samples\": [\n          9.1,\n          4.1\n        ],\n        \"semantic_type\": \"\",\n        \"description\": \"\"\n      }\n    }\n  ]\n}",
              "type": "dataframe",
              "variable_name": "df7"
            },
            "text/html": [
              "\n",
              "  <div id=\"df-75863140-9caa-48f1-a19d-f5930a8842d5\" class=\"colab-df-container\">\n",
              "    <div>\n",
              "<style scoped>\n",
              "    .dataframe tbody tr th:only-of-type {\n",
              "        vertical-align: middle;\n",
              "    }\n",
              "\n",
              "    .dataframe tbody tr th {\n",
              "        vertical-align: top;\n",
              "    }\n",
              "\n",
              "    .dataframe thead th {\n",
              "        text-align: right;\n",
              "    }\n",
              "</style>\n",
              "<table border=\"1\" class=\"dataframe\">\n",
              "  <thead>\n",
              "    <tr style=\"text-align: right;\">\n",
              "      <th></th>\n",
              "      <th>Invoice ID</th>\n",
              "      <th>Branch</th>\n",
              "      <th>City</th>\n",
              "      <th>Customer type</th>\n",
              "      <th>Gender</th>\n",
              "      <th>Product line</th>\n",
              "      <th>Unit price</th>\n",
              "      <th>Quantity</th>\n",
              "      <th>Date</th>\n",
              "      <th>Time</th>\n",
              "      <th>Payment</th>\n",
              "      <th>Rating</th>\n",
              "    </tr>\n",
              "  </thead>\n",
              "  <tbody>\n",
              "    <tr>\n",
              "      <th>0</th>\n",
              "      <td>750-67-8428</td>\n",
              "      <td>A</td>\n",
              "      <td>Yangon</td>\n",
              "      <td>Member</td>\n",
              "      <td>Female</td>\n",
              "      <td>Health and beauty</td>\n",
              "      <td>74.69</td>\n",
              "      <td>7</td>\n",
              "      <td>1/5/2019</td>\n",
              "      <td>13:08:00</td>\n",
              "      <td>Ewallet</td>\n",
              "      <td>9.1</td>\n",
              "    </tr>\n",
              "    <tr>\n",
              "      <th>1</th>\n",
              "      <td>226-31-3081</td>\n",
              "      <td>A</td>\n",
              "      <td>Naypyitaw</td>\n",
              "      <td>Normal</td>\n",
              "      <td>Female</td>\n",
              "      <td>Electronic accessories</td>\n",
              "      <td>15.28</td>\n",
              "      <td>5</td>\n",
              "      <td>3/8/2019</td>\n",
              "      <td>10:29:00</td>\n",
              "      <td>Cash</td>\n",
              "      <td>9.6</td>\n",
              "    </tr>\n",
              "    <tr>\n",
              "      <th>2</th>\n",
              "      <td>631-41-3108</td>\n",
              "      <td>A</td>\n",
              "      <td>Yangon</td>\n",
              "      <td>Normal</td>\n",
              "      <td>Male</td>\n",
              "      <td>Home and lifestyle</td>\n",
              "      <td>46.33</td>\n",
              "      <td>7</td>\n",
              "      <td>3/3/2019</td>\n",
              "      <td>13:23:00</td>\n",
              "      <td>Credit card</td>\n",
              "      <td>7.4</td>\n",
              "    </tr>\n",
              "    <tr>\n",
              "      <th>3</th>\n",
              "      <td>123-19-1176</td>\n",
              "      <td>B</td>\n",
              "      <td>Yangon</td>\n",
              "      <td>Member</td>\n",
              "      <td>Male</td>\n",
              "      <td>Health and beauty</td>\n",
              "      <td>58.22</td>\n",
              "      <td>8</td>\n",
              "      <td>1/27/2019</td>\n",
              "      <td>20:33:00</td>\n",
              "      <td>Ewallet</td>\n",
              "      <td>8.4</td>\n",
              "    </tr>\n",
              "    <tr>\n",
              "      <th>4</th>\n",
              "      <td>373-73-7910</td>\n",
              "      <td>C</td>\n",
              "      <td>Yangon</td>\n",
              "      <td>Normal</td>\n",
              "      <td>Male</td>\n",
              "      <td>Sports and travel</td>\n",
              "      <td>86.31</td>\n",
              "      <td>7</td>\n",
              "      <td>2/8/2019</td>\n",
              "      <td>10:37:00</td>\n",
              "      <td>Ewallet</td>\n",
              "      <td>5.3</td>\n",
              "    </tr>\n",
              "  </tbody>\n",
              "</table>\n",
              "</div>\n",
              "    <div class=\"colab-df-buttons\">\n",
              "\n",
              "  <div class=\"colab-df-container\">\n",
              "    <button class=\"colab-df-convert\" onclick=\"convertToInteractive('df-75863140-9caa-48f1-a19d-f5930a8842d5')\"\n",
              "            title=\"Convert this dataframe to an interactive table.\"\n",
              "            style=\"display:none;\">\n",
              "\n",
              "  <svg xmlns=\"http://www.w3.org/2000/svg\" height=\"24px\" viewBox=\"0 -960 960 960\">\n",
              "    <path d=\"M120-120v-720h720v720H120Zm60-500h600v-160H180v160Zm220 220h160v-160H400v160Zm0 220h160v-160H400v160ZM180-400h160v-160H180v160Zm440 0h160v-160H620v160ZM180-180h160v-160H180v160Zm440 0h160v-160H620v160Z\"/>\n",
              "  </svg>\n",
              "    </button>\n",
              "\n",
              "  <style>\n",
              "    .colab-df-container {\n",
              "      display:flex;\n",
              "      gap: 12px;\n",
              "    }\n",
              "\n",
              "    .colab-df-convert {\n",
              "      background-color: #E8F0FE;\n",
              "      border: none;\n",
              "      border-radius: 50%;\n",
              "      cursor: pointer;\n",
              "      display: none;\n",
              "      fill: #1967D2;\n",
              "      height: 32px;\n",
              "      padding: 0 0 0 0;\n",
              "      width: 32px;\n",
              "    }\n",
              "\n",
              "    .colab-df-convert:hover {\n",
              "      background-color: #E2EBFA;\n",
              "      box-shadow: 0px 1px 2px rgba(60, 64, 67, 0.3), 0px 1px 3px 1px rgba(60, 64, 67, 0.15);\n",
              "      fill: #174EA6;\n",
              "    }\n",
              "\n",
              "    .colab-df-buttons div {\n",
              "      margin-bottom: 4px;\n",
              "    }\n",
              "\n",
              "    [theme=dark] .colab-df-convert {\n",
              "      background-color: #3B4455;\n",
              "      fill: #D2E3FC;\n",
              "    }\n",
              "\n",
              "    [theme=dark] .colab-df-convert:hover {\n",
              "      background-color: #434B5C;\n",
              "      box-shadow: 0px 1px 3px 1px rgba(0, 0, 0, 0.15);\n",
              "      filter: drop-shadow(0px 1px 2px rgba(0, 0, 0, 0.3));\n",
              "      fill: #FFFFFF;\n",
              "    }\n",
              "  </style>\n",
              "\n",
              "    <script>\n",
              "      const buttonEl =\n",
              "        document.querySelector('#df-75863140-9caa-48f1-a19d-f5930a8842d5 button.colab-df-convert');\n",
              "      buttonEl.style.display =\n",
              "        google.colab.kernel.accessAllowed ? 'block' : 'none';\n",
              "\n",
              "      async function convertToInteractive(key) {\n",
              "        const element = document.querySelector('#df-75863140-9caa-48f1-a19d-f5930a8842d5');\n",
              "        const dataTable =\n",
              "          await google.colab.kernel.invokeFunction('convertToInteractive',\n",
              "                                                    [key], {});\n",
              "        if (!dataTable) return;\n",
              "\n",
              "        const docLinkHtml = 'Like what you see? Visit the ' +\n",
              "          '<a target=\"_blank\" href=https://colab.research.google.com/notebooks/data_table.ipynb>data table notebook</a>'\n",
              "          + ' to learn more about interactive tables.';\n",
              "        element.innerHTML = '';\n",
              "        dataTable['output_type'] = 'display_data';\n",
              "        await google.colab.output.renderOutput(dataTable, element);\n",
              "        const docLink = document.createElement('div');\n",
              "        docLink.innerHTML = docLinkHtml;\n",
              "        element.appendChild(docLink);\n",
              "      }\n",
              "    </script>\n",
              "  </div>\n",
              "\n",
              "\n",
              "<div id=\"df-7fa8a4c0-f4bd-42ac-8155-24a7c5f99a10\">\n",
              "  <button class=\"colab-df-quickchart\" onclick=\"quickchart('df-7fa8a4c0-f4bd-42ac-8155-24a7c5f99a10')\"\n",
              "            title=\"Suggest charts\"\n",
              "            style=\"display:none;\">\n",
              "\n",
              "<svg xmlns=\"http://www.w3.org/2000/svg\" height=\"24px\"viewBox=\"0 0 24 24\"\n",
              "     width=\"24px\">\n",
              "    <g>\n",
              "        <path d=\"M19 3H5c-1.1 0-2 .9-2 2v14c0 1.1.9 2 2 2h14c1.1 0 2-.9 2-2V5c0-1.1-.9-2-2-2zM9 17H7v-7h2v7zm4 0h-2V7h2v10zm4 0h-2v-4h2v4z\"/>\n",
              "    </g>\n",
              "</svg>\n",
              "  </button>\n",
              "\n",
              "<style>\n",
              "  .colab-df-quickchart {\n",
              "      --bg-color: #E8F0FE;\n",
              "      --fill-color: #1967D2;\n",
              "      --hover-bg-color: #E2EBFA;\n",
              "      --hover-fill-color: #174EA6;\n",
              "      --disabled-fill-color: #AAA;\n",
              "      --disabled-bg-color: #DDD;\n",
              "  }\n",
              "\n",
              "  [theme=dark] .colab-df-quickchart {\n",
              "      --bg-color: #3B4455;\n",
              "      --fill-color: #D2E3FC;\n",
              "      --hover-bg-color: #434B5C;\n",
              "      --hover-fill-color: #FFFFFF;\n",
              "      --disabled-bg-color: #3B4455;\n",
              "      --disabled-fill-color: #666;\n",
              "  }\n",
              "\n",
              "  .colab-df-quickchart {\n",
              "    background-color: var(--bg-color);\n",
              "    border: none;\n",
              "    border-radius: 50%;\n",
              "    cursor: pointer;\n",
              "    display: none;\n",
              "    fill: var(--fill-color);\n",
              "    height: 32px;\n",
              "    padding: 0;\n",
              "    width: 32px;\n",
              "  }\n",
              "\n",
              "  .colab-df-quickchart:hover {\n",
              "    background-color: var(--hover-bg-color);\n",
              "    box-shadow: 0 1px 2px rgba(60, 64, 67, 0.3), 0 1px 3px 1px rgba(60, 64, 67, 0.15);\n",
              "    fill: var(--button-hover-fill-color);\n",
              "  }\n",
              "\n",
              "  .colab-df-quickchart-complete:disabled,\n",
              "  .colab-df-quickchart-complete:disabled:hover {\n",
              "    background-color: var(--disabled-bg-color);\n",
              "    fill: var(--disabled-fill-color);\n",
              "    box-shadow: none;\n",
              "  }\n",
              "\n",
              "  .colab-df-spinner {\n",
              "    border: 2px solid var(--fill-color);\n",
              "    border-color: transparent;\n",
              "    border-bottom-color: var(--fill-color);\n",
              "    animation:\n",
              "      spin 1s steps(1) infinite;\n",
              "  }\n",
              "\n",
              "  @keyframes spin {\n",
              "    0% {\n",
              "      border-color: transparent;\n",
              "      border-bottom-color: var(--fill-color);\n",
              "      border-left-color: var(--fill-color);\n",
              "    }\n",
              "    20% {\n",
              "      border-color: transparent;\n",
              "      border-left-color: var(--fill-color);\n",
              "      border-top-color: var(--fill-color);\n",
              "    }\n",
              "    30% {\n",
              "      border-color: transparent;\n",
              "      border-left-color: var(--fill-color);\n",
              "      border-top-color: var(--fill-color);\n",
              "      border-right-color: var(--fill-color);\n",
              "    }\n",
              "    40% {\n",
              "      border-color: transparent;\n",
              "      border-right-color: var(--fill-color);\n",
              "      border-top-color: var(--fill-color);\n",
              "    }\n",
              "    60% {\n",
              "      border-color: transparent;\n",
              "      border-right-color: var(--fill-color);\n",
              "    }\n",
              "    80% {\n",
              "      border-color: transparent;\n",
              "      border-right-color: var(--fill-color);\n",
              "      border-bottom-color: var(--fill-color);\n",
              "    }\n",
              "    90% {\n",
              "      border-color: transparent;\n",
              "      border-bottom-color: var(--fill-color);\n",
              "    }\n",
              "  }\n",
              "</style>\n",
              "\n",
              "  <script>\n",
              "    async function quickchart(key) {\n",
              "      const quickchartButtonEl =\n",
              "        document.querySelector('#' + key + ' button');\n",
              "      quickchartButtonEl.disabled = true;  // To prevent multiple clicks.\n",
              "      quickchartButtonEl.classList.add('colab-df-spinner');\n",
              "      try {\n",
              "        const charts = await google.colab.kernel.invokeFunction(\n",
              "            'suggestCharts', [key], {});\n",
              "      } catch (error) {\n",
              "        console.error('Error during call to suggestCharts:', error);\n",
              "      }\n",
              "      quickchartButtonEl.classList.remove('colab-df-spinner');\n",
              "      quickchartButtonEl.classList.add('colab-df-quickchart-complete');\n",
              "    }\n",
              "    (() => {\n",
              "      let quickchartButtonEl =\n",
              "        document.querySelector('#df-7fa8a4c0-f4bd-42ac-8155-24a7c5f99a10 button');\n",
              "      quickchartButtonEl.style.display =\n",
              "        google.colab.kernel.accessAllowed ? 'block' : 'none';\n",
              "    })();\n",
              "  </script>\n",
              "</div>\n",
              "\n",
              "    </div>\n",
              "  </div>\n"
            ],
            "text/plain": [
              "    Invoice ID Branch       City Customer type  Gender  \\\n",
              "0  750-67-8428      A     Yangon        Member  Female   \n",
              "1  226-31-3081      A  Naypyitaw        Normal  Female   \n",
              "2  631-41-3108      A     Yangon        Normal    Male   \n",
              "3  123-19-1176      B     Yangon        Member    Male   \n",
              "4  373-73-7910      C     Yangon        Normal    Male   \n",
              "\n",
              "             Product line  Unit price  Quantity       Date      Time  \\\n",
              "0       Health and beauty       74.69         7   1/5/2019  13:08:00   \n",
              "1  Electronic accessories       15.28         5   3/8/2019  10:29:00   \n",
              "2      Home and lifestyle       46.33         7   3/3/2019  13:23:00   \n",
              "3       Health and beauty       58.22         8  1/27/2019  20:33:00   \n",
              "4       Sports and travel       86.31         7   2/8/2019  10:37:00   \n",
              "\n",
              "       Payment  Rating  \n",
              "0      Ewallet     9.1  \n",
              "1         Cash     9.6  \n",
              "2  Credit card     7.4  \n",
              "3      Ewallet     8.4  \n",
              "4      Ewallet     5.3  "
            ]
          },
          "execution_count": 431,
          "metadata": {},
          "output_type": "execute_result"
        }
      ],
      "source": [
        "df7.head()"
      ]
    },
    {
      "cell_type": "code",
      "execution_count": null,
      "metadata": {
        "colab": {
          "base_uri": "https://localhost:8080/",
          "height": 377
        },
        "collapsed": true,
        "id": "6c2RRTEADXxK",
        "outputId": "058286ec-a95c-484f-fbcc-d98a96a568cb"
      },
      "outputs": [
        {
          "data": {
            "application/vnd.google.colaboratory.intrinsic+json": {
              "type": "dataframe",
              "variable_name": "df8"
            },
            "text/html": [
              "\n",
              "  <div id=\"df-36e702dd-6369-4188-b8b4-856c5278def4\" class=\"colab-df-container\">\n",
              "    <div>\n",
              "<style scoped>\n",
              "    .dataframe tbody tr th:only-of-type {\n",
              "        vertical-align: middle;\n",
              "    }\n",
              "\n",
              "    .dataframe tbody tr th {\n",
              "        vertical-align: top;\n",
              "    }\n",
              "\n",
              "    .dataframe thead th {\n",
              "        text-align: right;\n",
              "    }\n",
              "</style>\n",
              "<table border=\"1\" class=\"dataframe\">\n",
              "  <thead>\n",
              "    <tr style=\"text-align: right;\">\n",
              "      <th></th>\n",
              "      <th>City</th>\n",
              "      <th>Customer Age</th>\n",
              "      <th>Customer Name</th>\n",
              "      <th>Customer Segment</th>\n",
              "      <th>Discount</th>\n",
              "      <th>Number of Records</th>\n",
              "      <th>Order Date</th>\n",
              "      <th>Order ID</th>\n",
              "      <th>Order Priority</th>\n",
              "      <th>Order Quantity</th>\n",
              "      <th>...</th>\n",
              "      <th>Profit</th>\n",
              "      <th>Region</th>\n",
              "      <th>Row ID</th>\n",
              "      <th>Sales</th>\n",
              "      <th>Ship Date</th>\n",
              "      <th>Ship Mode</th>\n",
              "      <th>Shipping Cost</th>\n",
              "      <th>State</th>\n",
              "      <th>Unit Price</th>\n",
              "      <th>Zip Code</th>\n",
              "    </tr>\n",
              "  </thead>\n",
              "  <tbody>\n",
              "    <tr>\n",
              "      <th>0</th>\n",
              "      <td>McKeesport</td>\n",
              "      <td>NaN</td>\n",
              "      <td>Jessica Myrick</td>\n",
              "      <td>Small Business</td>\n",
              "      <td>0.10</td>\n",
              "      <td>1</td>\n",
              "      <td>2012-01-01</td>\n",
              "      <td>28774</td>\n",
              "      <td>High</td>\n",
              "      <td>32</td>\n",
              "      <td>...</td>\n",
              "      <td>-111.80</td>\n",
              "      <td>East</td>\n",
              "      <td>4031</td>\n",
              "      <td>180.36</td>\n",
              "      <td>2012-01-02</td>\n",
              "      <td>Regular Air</td>\n",
              "      <td>4.69</td>\n",
              "      <td>Pennsylvania</td>\n",
              "      <td>5.98</td>\n",
              "      <td>15131</td>\n",
              "    </tr>\n",
              "    <tr>\n",
              "      <th>1</th>\n",
              "      <td>Bowie</td>\n",
              "      <td>NaN</td>\n",
              "      <td>Matt Collister</td>\n",
              "      <td>Home Office</td>\n",
              "      <td>0.08</td>\n",
              "      <td>1</td>\n",
              "      <td>2012-01-01</td>\n",
              "      <td>13729</td>\n",
              "      <td>Not Specified</td>\n",
              "      <td>9</td>\n",
              "      <td>...</td>\n",
              "      <td>-342.91</td>\n",
              "      <td>East</td>\n",
              "      <td>1914</td>\n",
              "      <td>872.48</td>\n",
              "      <td>2012-01-03</td>\n",
              "      <td>Express Air</td>\n",
              "      <td>35.00</td>\n",
              "      <td>Maryland</td>\n",
              "      <td>95.99</td>\n",
              "      <td>20715</td>\n",
              "    </tr>\n",
              "    <tr>\n",
              "      <th>2</th>\n",
              "      <td>Napa</td>\n",
              "      <td>NaN</td>\n",
              "      <td>Alan Schoenberger</td>\n",
              "      <td>Corporate</td>\n",
              "      <td>0.00</td>\n",
              "      <td>1</td>\n",
              "      <td>2012-01-02</td>\n",
              "      <td>37537</td>\n",
              "      <td>Low</td>\n",
              "      <td>4</td>\n",
              "      <td>...</td>\n",
              "      <td>-193.08</td>\n",
              "      <td>West</td>\n",
              "      <td>5272</td>\n",
              "      <td>1239.06</td>\n",
              "      <td>2012-01-02</td>\n",
              "      <td>Delivery Truck</td>\n",
              "      <td>48.80</td>\n",
              "      <td>California</td>\n",
              "      <td>291.73</td>\n",
              "      <td>94559</td>\n",
              "    </tr>\n",
              "    <tr>\n",
              "      <th>3</th>\n",
              "      <td>Montebello</td>\n",
              "      <td>NaN</td>\n",
              "      <td>Elizabeth Moffitt</td>\n",
              "      <td>Consumer</td>\n",
              "      <td>0.08</td>\n",
              "      <td>1</td>\n",
              "      <td>2012-01-02</td>\n",
              "      <td>44069</td>\n",
              "      <td>Critical</td>\n",
              "      <td>43</td>\n",
              "      <td>...</td>\n",
              "      <td>247.79</td>\n",
              "      <td>West</td>\n",
              "      <td>6225</td>\n",
              "      <td>614.80</td>\n",
              "      <td>2012-01-02</td>\n",
              "      <td>Regular Air</td>\n",
              "      <td>1.97</td>\n",
              "      <td>California</td>\n",
              "      <td>15.04</td>\n",
              "      <td>90640</td>\n",
              "    </tr>\n",
              "    <tr>\n",
              "      <th>4</th>\n",
              "      <td>Napa</td>\n",
              "      <td>NaN</td>\n",
              "      <td>Alan Schoenberger</td>\n",
              "      <td>Corporate</td>\n",
              "      <td>0.07</td>\n",
              "      <td>1</td>\n",
              "      <td>2012-01-02</td>\n",
              "      <td>37537</td>\n",
              "      <td>Low</td>\n",
              "      <td>43</td>\n",
              "      <td>...</td>\n",
              "      <td>-1049.85</td>\n",
              "      <td>West</td>\n",
              "      <td>5273</td>\n",
              "      <td>4083.19</td>\n",
              "      <td>2012-01-04</td>\n",
              "      <td>Delivery Truck</td>\n",
              "      <td>45.00</td>\n",
              "      <td>California</td>\n",
              "      <td>100.98</td>\n",
              "      <td>94559</td>\n",
              "    </tr>\n",
              "  </tbody>\n",
              "</table>\n",
              "<p>5 rows × 25 columns</p>\n",
              "</div>\n",
              "    <div class=\"colab-df-buttons\">\n",
              "\n",
              "  <div class=\"colab-df-container\">\n",
              "    <button class=\"colab-df-convert\" onclick=\"convertToInteractive('df-36e702dd-6369-4188-b8b4-856c5278def4')\"\n",
              "            title=\"Convert this dataframe to an interactive table.\"\n",
              "            style=\"display:none;\">\n",
              "\n",
              "  <svg xmlns=\"http://www.w3.org/2000/svg\" height=\"24px\" viewBox=\"0 -960 960 960\">\n",
              "    <path d=\"M120-120v-720h720v720H120Zm60-500h600v-160H180v160Zm220 220h160v-160H400v160Zm0 220h160v-160H400v160ZM180-400h160v-160H180v160Zm440 0h160v-160H620v160ZM180-180h160v-160H180v160Zm440 0h160v-160H620v160Z\"/>\n",
              "  </svg>\n",
              "    </button>\n",
              "\n",
              "  <style>\n",
              "    .colab-df-container {\n",
              "      display:flex;\n",
              "      gap: 12px;\n",
              "    }\n",
              "\n",
              "    .colab-df-convert {\n",
              "      background-color: #E8F0FE;\n",
              "      border: none;\n",
              "      border-radius: 50%;\n",
              "      cursor: pointer;\n",
              "      display: none;\n",
              "      fill: #1967D2;\n",
              "      height: 32px;\n",
              "      padding: 0 0 0 0;\n",
              "      width: 32px;\n",
              "    }\n",
              "\n",
              "    .colab-df-convert:hover {\n",
              "      background-color: #E2EBFA;\n",
              "      box-shadow: 0px 1px 2px rgba(60, 64, 67, 0.3), 0px 1px 3px 1px rgba(60, 64, 67, 0.15);\n",
              "      fill: #174EA6;\n",
              "    }\n",
              "\n",
              "    .colab-df-buttons div {\n",
              "      margin-bottom: 4px;\n",
              "    }\n",
              "\n",
              "    [theme=dark] .colab-df-convert {\n",
              "      background-color: #3B4455;\n",
              "      fill: #D2E3FC;\n",
              "    }\n",
              "\n",
              "    [theme=dark] .colab-df-convert:hover {\n",
              "      background-color: #434B5C;\n",
              "      box-shadow: 0px 1px 3px 1px rgba(0, 0, 0, 0.15);\n",
              "      filter: drop-shadow(0px 1px 2px rgba(0, 0, 0, 0.3));\n",
              "      fill: #FFFFFF;\n",
              "    }\n",
              "  </style>\n",
              "\n",
              "    <script>\n",
              "      const buttonEl =\n",
              "        document.querySelector('#df-36e702dd-6369-4188-b8b4-856c5278def4 button.colab-df-convert');\n",
              "      buttonEl.style.display =\n",
              "        google.colab.kernel.accessAllowed ? 'block' : 'none';\n",
              "\n",
              "      async function convertToInteractive(key) {\n",
              "        const element = document.querySelector('#df-36e702dd-6369-4188-b8b4-856c5278def4');\n",
              "        const dataTable =\n",
              "          await google.colab.kernel.invokeFunction('convertToInteractive',\n",
              "                                                    [key], {});\n",
              "        if (!dataTable) return;\n",
              "\n",
              "        const docLinkHtml = 'Like what you see? Visit the ' +\n",
              "          '<a target=\"_blank\" href=https://colab.research.google.com/notebooks/data_table.ipynb>data table notebook</a>'\n",
              "          + ' to learn more about interactive tables.';\n",
              "        element.innerHTML = '';\n",
              "        dataTable['output_type'] = 'display_data';\n",
              "        await google.colab.output.renderOutput(dataTable, element);\n",
              "        const docLink = document.createElement('div');\n",
              "        docLink.innerHTML = docLinkHtml;\n",
              "        element.appendChild(docLink);\n",
              "      }\n",
              "    </script>\n",
              "  </div>\n",
              "\n",
              "\n",
              "<div id=\"df-6dd82e34-64f2-4f06-8f1f-778675b3538a\">\n",
              "  <button class=\"colab-df-quickchart\" onclick=\"quickchart('df-6dd82e34-64f2-4f06-8f1f-778675b3538a')\"\n",
              "            title=\"Suggest charts\"\n",
              "            style=\"display:none;\">\n",
              "\n",
              "<svg xmlns=\"http://www.w3.org/2000/svg\" height=\"24px\"viewBox=\"0 0 24 24\"\n",
              "     width=\"24px\">\n",
              "    <g>\n",
              "        <path d=\"M19 3H5c-1.1 0-2 .9-2 2v14c0 1.1.9 2 2 2h14c1.1 0 2-.9 2-2V5c0-1.1-.9-2-2-2zM9 17H7v-7h2v7zm4 0h-2V7h2v10zm4 0h-2v-4h2v4z\"/>\n",
              "    </g>\n",
              "</svg>\n",
              "  </button>\n",
              "\n",
              "<style>\n",
              "  .colab-df-quickchart {\n",
              "      --bg-color: #E8F0FE;\n",
              "      --fill-color: #1967D2;\n",
              "      --hover-bg-color: #E2EBFA;\n",
              "      --hover-fill-color: #174EA6;\n",
              "      --disabled-fill-color: #AAA;\n",
              "      --disabled-bg-color: #DDD;\n",
              "  }\n",
              "\n",
              "  [theme=dark] .colab-df-quickchart {\n",
              "      --bg-color: #3B4455;\n",
              "      --fill-color: #D2E3FC;\n",
              "      --hover-bg-color: #434B5C;\n",
              "      --hover-fill-color: #FFFFFF;\n",
              "      --disabled-bg-color: #3B4455;\n",
              "      --disabled-fill-color: #666;\n",
              "  }\n",
              "\n",
              "  .colab-df-quickchart {\n",
              "    background-color: var(--bg-color);\n",
              "    border: none;\n",
              "    border-radius: 50%;\n",
              "    cursor: pointer;\n",
              "    display: none;\n",
              "    fill: var(--fill-color);\n",
              "    height: 32px;\n",
              "    padding: 0;\n",
              "    width: 32px;\n",
              "  }\n",
              "\n",
              "  .colab-df-quickchart:hover {\n",
              "    background-color: var(--hover-bg-color);\n",
              "    box-shadow: 0 1px 2px rgba(60, 64, 67, 0.3), 0 1px 3px 1px rgba(60, 64, 67, 0.15);\n",
              "    fill: var(--button-hover-fill-color);\n",
              "  }\n",
              "\n",
              "  .colab-df-quickchart-complete:disabled,\n",
              "  .colab-df-quickchart-complete:disabled:hover {\n",
              "    background-color: var(--disabled-bg-color);\n",
              "    fill: var(--disabled-fill-color);\n",
              "    box-shadow: none;\n",
              "  }\n",
              "\n",
              "  .colab-df-spinner {\n",
              "    border: 2px solid var(--fill-color);\n",
              "    border-color: transparent;\n",
              "    border-bottom-color: var(--fill-color);\n",
              "    animation:\n",
              "      spin 1s steps(1) infinite;\n",
              "  }\n",
              "\n",
              "  @keyframes spin {\n",
              "    0% {\n",
              "      border-color: transparent;\n",
              "      border-bottom-color: var(--fill-color);\n",
              "      border-left-color: var(--fill-color);\n",
              "    }\n",
              "    20% {\n",
              "      border-color: transparent;\n",
              "      border-left-color: var(--fill-color);\n",
              "      border-top-color: var(--fill-color);\n",
              "    }\n",
              "    30% {\n",
              "      border-color: transparent;\n",
              "      border-left-color: var(--fill-color);\n",
              "      border-top-color: var(--fill-color);\n",
              "      border-right-color: var(--fill-color);\n",
              "    }\n",
              "    40% {\n",
              "      border-color: transparent;\n",
              "      border-right-color: var(--fill-color);\n",
              "      border-top-color: var(--fill-color);\n",
              "    }\n",
              "    60% {\n",
              "      border-color: transparent;\n",
              "      border-right-color: var(--fill-color);\n",
              "    }\n",
              "    80% {\n",
              "      border-color: transparent;\n",
              "      border-right-color: var(--fill-color);\n",
              "      border-bottom-color: var(--fill-color);\n",
              "    }\n",
              "    90% {\n",
              "      border-color: transparent;\n",
              "      border-bottom-color: var(--fill-color);\n",
              "    }\n",
              "  }\n",
              "</style>\n",
              "\n",
              "  <script>\n",
              "    async function quickchart(key) {\n",
              "      const quickchartButtonEl =\n",
              "        document.querySelector('#' + key + ' button');\n",
              "      quickchartButtonEl.disabled = true;  // To prevent multiple clicks.\n",
              "      quickchartButtonEl.classList.add('colab-df-spinner');\n",
              "      try {\n",
              "        const charts = await google.colab.kernel.invokeFunction(\n",
              "            'suggestCharts', [key], {});\n",
              "      } catch (error) {\n",
              "        console.error('Error during call to suggestCharts:', error);\n",
              "      }\n",
              "      quickchartButtonEl.classList.remove('colab-df-spinner');\n",
              "      quickchartButtonEl.classList.add('colab-df-quickchart-complete');\n",
              "    }\n",
              "    (() => {\n",
              "      let quickchartButtonEl =\n",
              "        document.querySelector('#df-6dd82e34-64f2-4f06-8f1f-778675b3538a button');\n",
              "      quickchartButtonEl.style.display =\n",
              "        google.colab.kernel.accessAllowed ? 'block' : 'none';\n",
              "    })();\n",
              "  </script>\n",
              "</div>\n",
              "\n",
              "    </div>\n",
              "  </div>\n"
            ],
            "text/plain": [
              "         City  Customer Age      Customer Name Customer Segment  Discount  \\\n",
              "0  McKeesport           NaN     Jessica Myrick   Small Business      0.10   \n",
              "1       Bowie           NaN     Matt Collister      Home Office      0.08   \n",
              "2        Napa           NaN  Alan Schoenberger        Corporate      0.00   \n",
              "3  Montebello           NaN  Elizabeth Moffitt         Consumer      0.08   \n",
              "4        Napa           NaN  Alan Schoenberger        Corporate      0.07   \n",
              "\n",
              "   Number of Records Order Date  Order ID Order Priority  Order Quantity  ...  \\\n",
              "0                  1 2012-01-01     28774           High              32  ...   \n",
              "1                  1 2012-01-01     13729  Not Specified               9  ...   \n",
              "2                  1 2012-01-02     37537            Low               4  ...   \n",
              "3                  1 2012-01-02     44069       Critical              43  ...   \n",
              "4                  1 2012-01-02     37537            Low              43  ...   \n",
              "\n",
              "    Profit Region Row ID    Sales  Ship Date       Ship Mode Shipping Cost  \\\n",
              "0  -111.80   East   4031   180.36 2012-01-02     Regular Air          4.69   \n",
              "1  -342.91   East   1914   872.48 2012-01-03     Express Air         35.00   \n",
              "2  -193.08   West   5272  1239.06 2012-01-02  Delivery Truck         48.80   \n",
              "3   247.79   West   6225   614.80 2012-01-02     Regular Air          1.97   \n",
              "4 -1049.85   West   5273  4083.19 2012-01-04  Delivery Truck         45.00   \n",
              "\n",
              "          State  Unit Price Zip Code  \n",
              "0  Pennsylvania        5.98    15131  \n",
              "1      Maryland       95.99    20715  \n",
              "2    California      291.73    94559  \n",
              "3    California       15.04    90640  \n",
              "4    California      100.98    94559  \n",
              "\n",
              "[5 rows x 25 columns]"
            ]
          },
          "execution_count": 432,
          "metadata": {},
          "output_type": "execute_result"
        }
      ],
      "source": [
        "df8.head()"
      ]
    },
    {
      "cell_type": "markdown",
      "metadata": {
        "id": "oHzZYxw6odWW"
      },
      "source": [
        "# **Extract From a JSON file**"
      ]
    },
    {
      "cell_type": "code",
      "execution_count": null,
      "metadata": {
        "colab": {
          "base_uri": "https://localhost:8080/"
        },
        "collapsed": true,
        "id": "FX-yoG41Vhne",
        "outputId": "b1bbce5d-fda5-48f0-8d91-12df83eba8a6"
      },
      "outputs": [
        {
          "name": "stdout",
          "output_type": "stream",
          "text": [
            "   objectid businessunit_name  businessunit_number  \\\n",
            "0     29040        ROGERS, AR                    1   \n",
            "1     29041   TUNKHANNOCK, PA                 2024   \n",
            "2     29042      TAHLEQUAH OK                   10   \n",
            "3     29043         TRACY, CA                 2025   \n",
            "4     29044   BENTONVILLE, AR                  100   \n",
            "\n",
            "  businessunit_banner_description businessunit_type_description  \\\n",
            "0                  WM Supercenter                        Retail   \n",
            "1                  WM Supercenter                        Retail   \n",
            "2                  WM Supercenter                        Retail   \n",
            "3                  WM Supercenter                        Retail   \n",
            "4                  WM Supercenter                        Retail   \n",
            "\n",
            "  facilitydetails_location_locati facilitydetails_location_loca_1  \\\n",
            "0                2110 W WALNUT ST                          ROGERS   \n",
            "1                  808 HUNTER HWY                     TUNKHANNOCK   \n",
            "2             2020 S MUSKOGEE AVE                       TAHLEQUAH   \n",
            "3            3010 W GRANT LINE RD                           TRACY   \n",
            "4               406 S WALTON BLVD                     BENTONVILLE   \n",
            "\n",
            "  facilitydetails_location_loca_2 facilitydetails_location_loca_3  \\\n",
            "0                          BENTON                              AR   \n",
            "1                         WYOMING                              PA   \n",
            "2                        CHEROKEE                              OK   \n",
            "3                     SAN JOAQUIN                              CA   \n",
            "4                          BENTON                              AR   \n",
            "\n",
            "  facilitydetails_location_loca_8 op_status  \\\n",
            "0                      72756-3246      Open   \n",
            "1                      18657-8071      Open   \n",
            "2                      74464-5439      Open   \n",
            "3                      95304-9402      Open   \n",
            "4                      72712-5705      Open   \n",
            "\n",
            "                               GlobalID                     geometry  \n",
            "0  ad1180d5-9602-4c31-8f8d-79279b68bb00    POINT (-94.14905 36.3313)  \n",
            "1  9713a3b8-52d2-4fd6-bd7d-ab35e83bd006   POINT (-75.94744 41.52398)  \n",
            "2  66724ffd-8b3d-4247-8d2b-815e0672cc16   POINT (-94.97981 35.88881)  \n",
            "3  1ffdd775-7a2e-49d7-8480-7f58124fc6af  POINT (-121.47172 37.75166)  \n",
            "4  cf1f267b-9737-4539-952d-a7ae0fe284af   POINT (-94.22484 36.36817)  \n",
            "      objectid         businessunit_name  businessunit_number  \\\n",
            "0        29040                ROGERS, AR                    1   \n",
            "1        29041           TUNKHANNOCK, PA                 2024   \n",
            "2        29042              TAHLEQUAH OK                   10   \n",
            "3        29043                 TRACY, CA                 2025   \n",
            "4        29044           BENTONVILLE, AR                  100   \n",
            "...        ...                       ...                  ...   \n",
            "5229     36700                  TOMAH WI                  965   \n",
            "5230     36702                 CORTEZ CO                  966   \n",
            "5231     36704  SPRINGHILL / BROOKSVILLE                  967   \n",
            "5232     36705           WINTER HAVEN FL                  968   \n",
            "5233     36706               GULFPORT MS                  969   \n",
            "\n",
            "     businessunit_banner_description businessunit_type_description  \\\n",
            "0                     WM Supercenter                        Retail   \n",
            "1                     WM Supercenter                        Retail   \n",
            "2                     WM Supercenter                        Retail   \n",
            "3                     WM Supercenter                        Retail   \n",
            "4                     WM Supercenter                        Retail   \n",
            "...                              ...                           ...   \n",
            "5229                  WM Supercenter                        Retail   \n",
            "5230                  WM Supercenter                        Retail   \n",
            "5231                  WM Supercenter                        Retail   \n",
            "5232                  WM Supercenter                        Retail   \n",
            "5233                  WM Supercenter                        Retail   \n",
            "\n",
            "     facilitydetails_location_locati facilitydetails_location_loca_1  \\\n",
            "0                   2110 W WALNUT ST                          ROGERS   \n",
            "1                     808 HUNTER HWY                     TUNKHANNOCK   \n",
            "2                2020 S MUSKOGEE AVE                       TAHLEQUAH   \n",
            "3               3010 W GRANT LINE RD                           TRACY   \n",
            "4                  406 S WALTON BLVD                     BENTONVILLE   \n",
            "...                              ...                             ...   \n",
            "5229                222 W MCCOY BLVD                           TOMAH   \n",
            "5230                  1835 E MAIN ST                          CORTEZ   \n",
            "5231             1485 COMMERCIAL WAY                     SPRING HILL   \n",
            "5232        355 CYPRESS GARDENS BLVD                    WINTER HAVEN   \n",
            "5233                 9350 HIGHWAY 49                        GULFPORT   \n",
            "\n",
            "     facilitydetails_location_loca_2 facilitydetails_location_loca_3  \\\n",
            "0                             BENTON                              AR   \n",
            "1                            WYOMING                              PA   \n",
            "2                           CHEROKEE                              OK   \n",
            "3                        SAN JOAQUIN                              CA   \n",
            "4                             BENTON                              AR   \n",
            "...                              ...                             ...   \n",
            "5229                          MONROE                              WI   \n",
            "5230                       MONTEZUMA                              CO   \n",
            "5231                        HERNANDO                              FL   \n",
            "5232                            POLK                              FL   \n",
            "5233                        HARRISON                              MS   \n",
            "\n",
            "     facilitydetails_location_loca_8 op_status  \\\n",
            "0                         72756-3246      Open   \n",
            "1                         18657-8071      Open   \n",
            "2                         74464-5439      Open   \n",
            "3                         95304-9402      Open   \n",
            "4                         72712-5705      Open   \n",
            "...                              ...       ...   \n",
            "5229                      54660-3291      Open   \n",
            "5230                      81321-3037      Open   \n",
            "5231                      34606-4525      Open   \n",
            "5232                      33880-4452      Open   \n",
            "5233                      39503-4213      Open   \n",
            "\n",
            "                                  GlobalID                     geometry  \n",
            "0     ad1180d5-9602-4c31-8f8d-79279b68bb00    POINT (-94.14905 36.3313)  \n",
            "1     9713a3b8-52d2-4fd6-bd7d-ab35e83bd006   POINT (-75.94744 41.52398)  \n",
            "2     66724ffd-8b3d-4247-8d2b-815e0672cc16   POINT (-94.97981 35.88881)  \n",
            "3     1ffdd775-7a2e-49d7-8480-7f58124fc6af  POINT (-121.47172 37.75166)  \n",
            "4     cf1f267b-9737-4539-952d-a7ae0fe284af   POINT (-94.22484 36.36817)  \n",
            "...                                    ...                          ...  \n",
            "5229  b280128d-f530-4b49-9a23-7df36c8df66c   POINT (-90.50858 44.02102)  \n",
            "5230  9ad6e77e-f8b8-48c9-905a-6118a5ad6861  POINT (-108.56199 37.34657)  \n",
            "5231  cf41e311-4128-4750-88b8-5c983eda2849    POINT (-82.63122 28.4584)  \n",
            "5232  67529e17-7d3a-4e3c-b2b7-8b4973ade226   POINT (-81.72225 28.00665)  \n",
            "5233  5b7a8957-22d5-4ec2-a2ed-f2ea9de3f24c    POINT (-89.0887 30.42322)  \n",
            "\n",
            "[5234 rows x 13 columns]\n"
          ]
        }
      ],
      "source": [
        "import geopandas as gpd\n",
        "\n",
        "# Define the file path\n",
        "geojson_path = '/content/json.geojson'\n",
        "\n",
        "# Read the GeoJSON file\n",
        "gdf = gpd.read_file(geojson_path)\n",
        "\n",
        "# Display the first few rows of the data\n",
        "print(gdf.head())\n",
        "\n",
        "# Display the full GeoDataFrame\n",
        "print(gdf)\n"
      ]
    },
    {
      "cell_type": "code",
      "execution_count": null,
      "metadata": {
        "colab": {
          "base_uri": "https://localhost:8080/"
        },
        "id": "9Wj9YXLOSB0S",
        "outputId": "ca97b473-c1d9-4dd0-c20f-f18687ee3b60"
      },
      "outputs": [
        {
          "data": {
            "text/plain": [
              "(5234, 13)"
            ]
          },
          "execution_count": 14,
          "metadata": {},
          "output_type": "execute_result"
        }
      ],
      "source": [
        "gdf.shape"
      ]
    },
    {
      "cell_type": "code",
      "execution_count": null,
      "metadata": {
        "colab": {
          "base_uri": "https://localhost:8080/"
        },
        "id": "ECv4SIEyEhE7",
        "outputId": "08004e81-aeae-4072-eb49-3fe6329c99f3"
      },
      "outputs": [
        {
          "name": "stdout",
          "output_type": "stream",
          "text": [
            "Columns: Index(['objectid', 'businessunit_name', 'businessunit_number',\n",
            "       'businessunit_banner_description', 'businessunit_type_description',\n",
            "       'facilitydetails_location_locati', 'facilitydetails_location_loca_1',\n",
            "       'facilitydetails_location_loca_2', 'facilitydetails_location_loca_3',\n",
            "       'facilitydetails_location_loca_8', 'op_status', 'GlobalID', 'geometry'],\n",
            "      dtype='object')\n"
          ]
        }
      ],
      "source": [
        "print(\"Columns:\", gdf.columns)"
      ]
    },
    {
      "cell_type": "markdown",
      "metadata": {
        "id": "TJMWA_pqHWJi"
      },
      "source": [
        "## **Extract from API**"
      ]
    },
    {
      "cell_type": "markdown",
      "metadata": {
        "id": "26zJqHO_oT-H"
      },
      "source": [
        "**Extract From HuggingFace API**"
      ]
    },
    {
      "cell_type": "code",
      "execution_count": null,
      "metadata": {
        "colab": {
          "base_uri": "https://localhost:8080/"
        },
        "collapsed": true,
        "id": "eVSGbo3RUfld",
        "outputId": "51e6d379-a2f4-477d-e2f9-6edff3edf72b"
      },
      "outputs": [
        {
          "name": "stdout",
          "output_type": "stream",
          "text": [
            "   storenum OPENDATE date_super  conversion  st  county  \\\n",
            "0         1   7/1/62     3/1/97         1.0   5       7   \n",
            "1         2   8/1/64     3/1/96         1.0   5       9   \n",
            "2         4   8/1/65     3/1/02         1.0   5       7   \n",
            "3         8  10/1/67     3/1/93         1.0   5      29   \n",
            "4         7  10/1/67       None         NaN   5     119   \n",
            "\n",
            "               STREETADDR            STRCITY STRSTATE  ZIPCODE   type_store  \\\n",
            "0        2110 WEST WALNUT             Rogers       AR    72756  Supercenter   \n",
            "1        1417 HWY 62/65 N           Harrison       AR    72601  Supercenter   \n",
            "2       2901 HWY 412 EAST     Siloam Springs       AR    72761  Supercenter   \n",
            "3   1621 NORTH BUSINESS 9          Morrilton       AR    72110  Supercenter   \n",
            "4  3801 CAMP ROBINSON RD.  North Little Rock       AR    72118     Wal-Mart   \n",
            "\n",
            "         LAT       LON  MONTH  DAY  YEAR  \n",
            "0  36.342235 -94.07141      7    1  1962  \n",
            "1  36.236984 -93.09345      8    1  1964  \n",
            "2  36.179905 -94.50208      8    1  1965  \n",
            "3  35.156491 -92.75858     10    1  1967  \n",
            "4  34.813269 -92.30229     10    1  1967  \n"
          ]
        }
      ],
      "source": [
        "# Import necessary libraries\n",
        "import requests\n",
        "import pandas as pd\n",
        "\n",
        "# API URL\n",
        "url = \"https://datasets-server.huggingface.co/rows?dataset=flojobeau%2Fwalmart.csv&config=default&split=train&offset=0&length=100\"\n",
        "\n",
        "# Send GET request to the API\n",
        "response = requests.get(url)\n",
        "\n",
        "# Check if the response is successful\n",
        "if response.status_code == 200:\n",
        "    # Parse JSON response\n",
        "    data = response.json()\n",
        "\n",
        "    # Extract rows from the JSON response\n",
        "    rows = data['rows']\n",
        "\n",
        "    # Convert the rows into a DataFrame\n",
        "    df9 = pd.DataFrame([row['row'] for row in rows])\n",
        "\n",
        "    # Display the first few rows of the DataFrame\n",
        "    print(df9.head())\n",
        "else:\n",
        "    print(f\"Failed to fetch data. HTTP Status code: {response.status_code}\")\n"
      ]
    },
    {
      "cell_type": "code",
      "execution_count": null,
      "metadata": {
        "colab": {
          "base_uri": "https://localhost:8080/"
        },
        "id": "FxCezpQyTO4C",
        "outputId": "f352a84d-a0a0-4a9e-ca57-d23e9939635d"
      },
      "outputs": [
        {
          "data": {
            "text/plain": [
              "(100, 16)"
            ]
          },
          "execution_count": 16,
          "metadata": {},
          "output_type": "execute_result"
        }
      ],
      "source": [
        "df9.shape"
      ]
    },
    {
      "cell_type": "markdown",
      "metadata": {
        "id": "nL41O8RrxO_N"
      },
      "source": [
        "**Extract from kaggle API**"
      ]
    },
    {
      "cell_type": "code",
      "execution_count": null,
      "metadata": {
        "colab": {
          "base_uri": "https://localhost:8080/"
        },
        "id": "xsL5w0wquPOD",
        "outputId": "3ac9ddde-793a-4125-9133-542ba0f83692"
      },
      "outputs": [
        {
          "name": "stdout",
          "output_type": "stream",
          "text": [
            "Downloading from https://www.kaggle.com/api/v1/datasets/download/yasserh/walmart-dataset?dataset_version_number=1...\n"
          ]
        },
        {
          "name": "stderr",
          "output_type": "stream",
          "text": [
            "100%|██████████| 122k/122k [00:00<00:00, 39.1MB/s]"
          ]
        },
        {
          "name": "stdout",
          "output_type": "stream",
          "text": [
            "Extracting files...\n",
            "Path to dataset files: /root/.cache/kagglehub/datasets/yasserh/walmart-dataset/versions/1\n",
            "Files in the dataset folder:\n",
            "['Walmart.csv']\n"
          ]
        },
        {
          "name": "stderr",
          "output_type": "stream",
          "text": [
            "\n"
          ]
        }
      ],
      "source": [
        "import kagglehub\n",
        "import os\n",
        "\n",
        "# Download the latest version of the dataset\n",
        "path = kagglehub.dataset_download(\"yasserh/walmart-dataset\")\n",
        "\n",
        "# Print the path to the downloaded dataset files\n",
        "print(\"Path to dataset files:\", path)\n",
        "\n",
        "# List files in the downloaded dataset folder\n",
        "print(\"Files in the dataset folder:\")\n",
        "print(os.listdir(path))"
      ]
    },
    {
      "cell_type": "code",
      "execution_count": null,
      "metadata": {
        "colab": {
          "base_uri": "https://localhost:8080/"
        },
        "collapsed": true,
        "id": "BBC4QnZOuYn9",
        "outputId": "ae975415-9649-4501-ba5f-5e5c9c447bdb"
      },
      "outputs": [
        {
          "name": "stdout",
          "output_type": "stream",
          "text": [
            "   Store        Date  Weekly_Sales  Holiday_Flag  Temperature  Fuel_Price  \\\n",
            "0      1  05-02-2010    1643690.90             0        42.31       2.572   \n",
            "1      1  12-02-2010    1641957.44             1        38.51       2.548   \n",
            "2      1  19-02-2010    1611968.17             0        39.93       2.514   \n",
            "3      1  26-02-2010    1409727.59             0        46.63       2.561   \n",
            "4      1  05-03-2010    1554806.68             0        46.50       2.625   \n",
            "\n",
            "          CPI  Unemployment  \n",
            "0  211.096358         8.106  \n",
            "1  211.242170         8.106  \n",
            "2  211.289143         8.106  \n",
            "3  211.319643         8.106  \n",
            "4  211.350143         8.106  \n"
          ]
        }
      ],
      "source": [
        "# Load the dataset into a pandas DataFrame\n",
        "df11 = pd.read_csv(os.path.join(path, \"Walmart.csv\"))\n",
        "\n",
        "# Display the first few rows of the dataset\n",
        "print(df11.head())\n"
      ]
    },
    {
      "cell_type": "code",
      "execution_count": null,
      "metadata": {
        "colab": {
          "base_uri": "https://localhost:8080/"
        },
        "id": "Xd7Wo4fvUf-q",
        "outputId": "73dc1f14-ddd8-463d-d7c6-c4ae7e057436"
      },
      "outputs": [
        {
          "data": {
            "text/plain": [
              "(6435, 8)"
            ]
          },
          "execution_count": 19,
          "metadata": {},
          "output_type": "execute_result"
        }
      ],
      "source": [
        "df11.shape"
      ]
    },
    {
      "cell_type": "markdown",
      "metadata": {
        "id": "-xWbvv7c1E5J"
      },
      "source": [
        "# **Transform (diff Methods)**"
      ]
    },
    {
      "cell_type": "markdown",
      "metadata": {
        "id": "QMmyPkZRAL-i"
      },
      "source": [
        "## **Combining Data**"
      ]
    },
    {
      "cell_type": "markdown",
      "metadata": {
        "id": "Kc_m6sOEJtaq"
      },
      "source": [
        " Assuming you want to merge the datasets, you should decide on a key column that is common to both datasets (e.g., Product_ID or Category)."
      ]
    },
    {
      "cell_type": "markdown",
      "metadata": {
        "id": "QBrJwe2TL3gy"
      },
      "source": [
        "**1) Comnbining df1 and df2**"
      ]
    },
    {
      "cell_type": "markdown",
      "metadata": {
        "id": "Y_VQf-sSH99q"
      },
      "source": [
        "There are two csv files:\n",
        "\n",
        "df1 and df2 are both related to products (2 csv files)."
      ]
    },
    {
      "cell_type": "code",
      "execution_count": null,
      "metadata": {
        "colab": {
          "base_uri": "https://localhost:8080/"
        },
        "id": "PAJSI_WRLAzT",
        "outputId": "8826e449-a7fe-4653-c515-f9725987543d"
      },
      "outputs": [
        {
          "name": "stdout",
          "output_type": "stream",
          "text": [
            "Common Columns: {'product_name', 'brand', 'sku', 'breadcrumbs'}\n"
          ]
        }
      ],
      "source": [
        "# Convert columns to lowercase to ensure case-insensitive comparison\n",
        "columns1 = set([col.lower() for col in df1.columns])\n",
        "columns2 = set([col.lower() for col in df2.columns])\n",
        "\n",
        "# Find common columns\n",
        "common_columns = columns1.intersection(columns2)\n",
        "print(\"Common Columns:\", common_columns)\n"
      ]
    },
    {
      "cell_type": "code",
      "execution_count": null,
      "metadata": {
        "id": "sr3chZj2LYMr"
      },
      "outputs": [],
      "source": [
        "#Normalize Column Names\n",
        "df1.columns = df1.columns.str.lower()\n",
        "df2.columns = df2.columns.str.lower()"
      ]
    },
    {
      "cell_type": "code",
      "execution_count": null,
      "metadata": {
        "id": "CLgna-2TLivK"
      },
      "outputs": [],
      "source": [
        "# Combine the datasets on their common columns, such as sku\n",
        "combined_data_1 = pd.merge(df1, df2, on='sku', how='inner')  # Use 'inner' to keep only matching rows"
      ]
    },
    {
      "cell_type": "code",
      "execution_count": null,
      "metadata": {
        "colab": {
          "base_uri": "https://localhost:8080/",
          "height": 516
        },
        "collapsed": true,
        "id": "VesRWn37LyoS",
        "outputId": "57c6f319-449d-4c56-b6e2-5dcdabc2bd93"
      },
      "outputs": [
        {
          "data": {
            "application/vnd.google.colaboratory.intrinsic+json": {
              "type": "dataframe",
              "variable_name": "combined_data_1"
            },
            "text/html": [
              "\n",
              "  <div id=\"df-6a748faa-b0a4-41d4-a0e4-e56bb946e9a9\" class=\"colab-df-container\">\n",
              "    <div>\n",
              "<style scoped>\n",
              "    .dataframe tbody tr th:only-of-type {\n",
              "        vertical-align: middle;\n",
              "    }\n",
              "\n",
              "    .dataframe tbody tr th {\n",
              "        vertical-align: top;\n",
              "    }\n",
              "\n",
              "    .dataframe thead th {\n",
              "        text-align: right;\n",
              "    }\n",
              "</style>\n",
              "<table border=\"1\" class=\"dataframe\">\n",
              "  <thead>\n",
              "    <tr style=\"text-align: right;\">\n",
              "      <th></th>\n",
              "      <th>index</th>\n",
              "      <th>shipping_location</th>\n",
              "      <th>department</th>\n",
              "      <th>category</th>\n",
              "      <th>subcategory</th>\n",
              "      <th>breadcrumbs_x</th>\n",
              "      <th>sku</th>\n",
              "      <th>product_url</th>\n",
              "      <th>product_name_x</th>\n",
              "      <th>brand_x</th>\n",
              "      <th>...</th>\n",
              "      <th>sizes</th>\n",
              "      <th>colors</th>\n",
              "      <th>seller</th>\n",
              "      <th>other_attributes</th>\n",
              "      <th>customer_reviews</th>\n",
              "      <th>ingredients</th>\n",
              "      <th>initial_price</th>\n",
              "      <th>discount</th>\n",
              "      <th>ingredients_full</th>\n",
              "      <th>categories</th>\n",
              "    </tr>\n",
              "  </thead>\n",
              "  <tbody>\n",
              "    <tr>\n",
              "      <th>0</th>\n",
              "      <td>84</td>\n",
              "      <td>48180</td>\n",
              "      <td>Beverages</td>\n",
              "      <td>Energy Drinks</td>\n",
              "      <td>NaN</td>\n",
              "      <td>Beverages/Energy Drinks</td>\n",
              "      <td>10316267</td>\n",
              "      <td>https://www.walmart.com/ip/Red-Bull-Energy-Dri...</td>\n",
              "      <td>Red Bull Energy Drink, 8.4 Fl Oz (12 pack)</td>\n",
              "      <td>Red Bull</td>\n",
              "      <td>...</td>\n",
              "      <td>[]</td>\n",
              "      <td>[]</td>\n",
              "      <td>Wal███t.c███</td>\n",
              "      <td>[{\"name\":\"Instructions\",\"value\":\"Serve chilled...</td>\n",
              "      <td>[{\"name\":\"Alton\",\"rating\":5,\"review\":\"i truly ...</td>\n",
              "      <td>Carbonated Water, Sugar, Glucose, Citric Acid,...</td>\n",
              "      <td>21.98</td>\n",
              "      <td>$2.20</td>\n",
              "      <td>[{\"type\":\"Ingredients\",\"values\":\"Carbonated Wa...</td>\n",
              "      <td>[\"Food\",\"Beverages\",\"Energy Drinks\",\"Red Bull\"]</td>\n",
              "    </tr>\n",
              "    <tr>\n",
              "      <th>1</th>\n",
              "      <td>92</td>\n",
              "      <td>48180</td>\n",
              "      <td>Beverages</td>\n",
              "      <td>Energy Drinks</td>\n",
              "      <td>NaN</td>\n",
              "      <td>Beverages/Energy Drinks</td>\n",
              "      <td>493786197</td>\n",
              "      <td>https://www.walmart.com/ip/Red-Bull-Energy-Dri...</td>\n",
              "      <td>Red Bull Energy Drink, Watermelon, 12 Fl Oz (4...</td>\n",
              "      <td>Red Bull</td>\n",
              "      <td>...</td>\n",
              "      <td>[]</td>\n",
              "      <td>[]</td>\n",
              "      <td>Wal███t.c███</td>\n",
              "      <td>[{\"name\":\"Instructions\",\"value\":\"Best before: ...</td>\n",
              "      <td>[{\"name\":\"Paula\",\"rating\":5,\"review\":\"Good fla...</td>\n",
              "      <td>Carbonated Water, Sugar, Glucose, Citric Acid,...</td>\n",
              "      <td>NaN</td>\n",
              "      <td>NaN</td>\n",
              "      <td>[{\"type\":\"Ingredients\",\"values\":\"Carbonated Wa...</td>\n",
              "      <td>[\"Food\",\"Beverages\",\"Energy Drinks\",\"Red Bull\"]</td>\n",
              "    </tr>\n",
              "    <tr>\n",
              "      <th>2</th>\n",
              "      <td>113</td>\n",
              "      <td>48180</td>\n",
              "      <td>Beverages</td>\n",
              "      <td>Energy Drinks</td>\n",
              "      <td>NaN</td>\n",
              "      <td>Beverages/Energy Drinks</td>\n",
              "      <td>10316268</td>\n",
              "      <td>https://www.walmart.com/ip/Red-Bull-Energy-Dri...</td>\n",
              "      <td>Red Bull Energy Drink, Sugar Free, 8.4 Fl Oz (...</td>\n",
              "      <td>Red Bull</td>\n",
              "      <td>...</td>\n",
              "      <td>[]</td>\n",
              "      <td>[]</td>\n",
              "      <td>Wal███t.c███</td>\n",
              "      <td>[{\"name\":\"Instructions\",\"value\":\"Serve chilled\"}]</td>\n",
              "      <td>[{\"name\":\"3rd███k\",\"rating\":5,\"review\":\"We lik...</td>\n",
              "      <td>Carbonated Water, Citric Acid, Taurine, Natura...</td>\n",
              "      <td>NaN</td>\n",
              "      <td>NaN</td>\n",
              "      <td>[{\"type\":\"Ingredients\",\"values\":\"Carbonated Wa...</td>\n",
              "      <td>[\"Food\",\"Beverages\",\"Energy Drinks\",\"Red Bull\"]</td>\n",
              "    </tr>\n",
              "    <tr>\n",
              "      <th>3</th>\n",
              "      <td>154</td>\n",
              "      <td>48180</td>\n",
              "      <td>Beverages</td>\n",
              "      <td>Energy Drinks</td>\n",
              "      <td>NaN</td>\n",
              "      <td>Beverages/Energy Drinks</td>\n",
              "      <td>109000435</td>\n",
              "      <td>https://www.walmart.com/ip/C4-Energy-Drink-Fro...</td>\n",
              "      <td>C4 Energy Drink + Frozen Bombsicle + Zero Suga...</td>\n",
              "      <td>C4</td>\n",
              "      <td>...</td>\n",
              "      <td>[]</td>\n",
              "      <td>[]</td>\n",
              "      <td>Wal███t.c███</td>\n",
              "      <td>[{\"name\":\"Instructions\",\"value\":\"Consume one c...</td>\n",
              "      <td>[{\"name\":\"Tha███y\",\"rating\":5,\"review\":\"love t...</td>\n",
              "      <td>Carbonated Water, CarnoSyn Beta-Alanine, L-Cit...</td>\n",
              "      <td>2.46</td>\n",
              "      <td>$0.46</td>\n",
              "      <td>[{\"type\":\"Ingredients\",\"values\":\"Carbonated Wa...</td>\n",
              "      <td>[\"Food\",\"Beverages\",\"Energy Drinks\",\"Energy Dr...</td>\n",
              "    </tr>\n",
              "    <tr>\n",
              "      <th>4</th>\n",
              "      <td>170</td>\n",
              "      <td>96797</td>\n",
              "      <td>Baking</td>\n",
              "      <td>Oils &amp; Shortening</td>\n",
              "      <td>NaN</td>\n",
              "      <td>Baking/Oils &amp; Shortening</td>\n",
              "      <td>10292273</td>\n",
              "      <td>https://www.walmart.com/ip/Bertolli-Original-E...</td>\n",
              "      <td>Bertolli, Original, ExtraVirgin Olive Oil, 16....</td>\n",
              "      <td>Bertolli</td>\n",
              "      <td>...</td>\n",
              "      <td>[]</td>\n",
              "      <td>[]</td>\n",
              "      <td>Wal███t.c███</td>\n",
              "      <td>[{\"name\":\"Instructions\",\"value\":\"Store tightly...</td>\n",
              "      <td>[{\"name\":\"gra███ah2███\",\"rating\":5,\"review\":\"t...</td>\n",
              "      <td>EXTRA VIRGIN OLIVE OIL</td>\n",
              "      <td>NaN</td>\n",
              "      <td>NaN</td>\n",
              "      <td>[{\"type\":\"Active Ingredient Name\",\"values\":\"Ex...</td>\n",
              "      <td>[\"Food\",\"Pantry\",\"Cooking oils &amp; vinegar\",\"Coo...</td>\n",
              "    </tr>\n",
              "  </tbody>\n",
              "</table>\n",
              "<p>5 rows × 59 columns</p>\n",
              "</div>\n",
              "    <div class=\"colab-df-buttons\">\n",
              "\n",
              "  <div class=\"colab-df-container\">\n",
              "    <button class=\"colab-df-convert\" onclick=\"convertToInteractive('df-6a748faa-b0a4-41d4-a0e4-e56bb946e9a9')\"\n",
              "            title=\"Convert this dataframe to an interactive table.\"\n",
              "            style=\"display:none;\">\n",
              "\n",
              "  <svg xmlns=\"http://www.w3.org/2000/svg\" height=\"24px\" viewBox=\"0 -960 960 960\">\n",
              "    <path d=\"M120-120v-720h720v720H120Zm60-500h600v-160H180v160Zm220 220h160v-160H400v160Zm0 220h160v-160H400v160ZM180-400h160v-160H180v160Zm440 0h160v-160H620v160ZM180-180h160v-160H180v160Zm440 0h160v-160H620v160Z\"/>\n",
              "  </svg>\n",
              "    </button>\n",
              "\n",
              "  <style>\n",
              "    .colab-df-container {\n",
              "      display:flex;\n",
              "      gap: 12px;\n",
              "    }\n",
              "\n",
              "    .colab-df-convert {\n",
              "      background-color: #E8F0FE;\n",
              "      border: none;\n",
              "      border-radius: 50%;\n",
              "      cursor: pointer;\n",
              "      display: none;\n",
              "      fill: #1967D2;\n",
              "      height: 32px;\n",
              "      padding: 0 0 0 0;\n",
              "      width: 32px;\n",
              "    }\n",
              "\n",
              "    .colab-df-convert:hover {\n",
              "      background-color: #E2EBFA;\n",
              "      box-shadow: 0px 1px 2px rgba(60, 64, 67, 0.3), 0px 1px 3px 1px rgba(60, 64, 67, 0.15);\n",
              "      fill: #174EA6;\n",
              "    }\n",
              "\n",
              "    .colab-df-buttons div {\n",
              "      margin-bottom: 4px;\n",
              "    }\n",
              "\n",
              "    [theme=dark] .colab-df-convert {\n",
              "      background-color: #3B4455;\n",
              "      fill: #D2E3FC;\n",
              "    }\n",
              "\n",
              "    [theme=dark] .colab-df-convert:hover {\n",
              "      background-color: #434B5C;\n",
              "      box-shadow: 0px 1px 3px 1px rgba(0, 0, 0, 0.15);\n",
              "      filter: drop-shadow(0px 1px 2px rgba(0, 0, 0, 0.3));\n",
              "      fill: #FFFFFF;\n",
              "    }\n",
              "  </style>\n",
              "\n",
              "    <script>\n",
              "      const buttonEl =\n",
              "        document.querySelector('#df-6a748faa-b0a4-41d4-a0e4-e56bb946e9a9 button.colab-df-convert');\n",
              "      buttonEl.style.display =\n",
              "        google.colab.kernel.accessAllowed ? 'block' : 'none';\n",
              "\n",
              "      async function convertToInteractive(key) {\n",
              "        const element = document.querySelector('#df-6a748faa-b0a4-41d4-a0e4-e56bb946e9a9');\n",
              "        const dataTable =\n",
              "          await google.colab.kernel.invokeFunction('convertToInteractive',\n",
              "                                                    [key], {});\n",
              "        if (!dataTable) return;\n",
              "\n",
              "        const docLinkHtml = 'Like what you see? Visit the ' +\n",
              "          '<a target=\"_blank\" href=https://colab.research.google.com/notebooks/data_table.ipynb>data table notebook</a>'\n",
              "          + ' to learn more about interactive tables.';\n",
              "        element.innerHTML = '';\n",
              "        dataTable['output_type'] = 'display_data';\n",
              "        await google.colab.output.renderOutput(dataTable, element);\n",
              "        const docLink = document.createElement('div');\n",
              "        docLink.innerHTML = docLinkHtml;\n",
              "        element.appendChild(docLink);\n",
              "      }\n",
              "    </script>\n",
              "  </div>\n",
              "\n",
              "\n",
              "<div id=\"df-2b6fa62c-de98-459e-b038-6d3d668bdb29\">\n",
              "  <button class=\"colab-df-quickchart\" onclick=\"quickchart('df-2b6fa62c-de98-459e-b038-6d3d668bdb29')\"\n",
              "            title=\"Suggest charts\"\n",
              "            style=\"display:none;\">\n",
              "\n",
              "<svg xmlns=\"http://www.w3.org/2000/svg\" height=\"24px\"viewBox=\"0 0 24 24\"\n",
              "     width=\"24px\">\n",
              "    <g>\n",
              "        <path d=\"M19 3H5c-1.1 0-2 .9-2 2v14c0 1.1.9 2 2 2h14c1.1 0 2-.9 2-2V5c0-1.1-.9-2-2-2zM9 17H7v-7h2v7zm4 0h-2V7h2v10zm4 0h-2v-4h2v4z\"/>\n",
              "    </g>\n",
              "</svg>\n",
              "  </button>\n",
              "\n",
              "<style>\n",
              "  .colab-df-quickchart {\n",
              "      --bg-color: #E8F0FE;\n",
              "      --fill-color: #1967D2;\n",
              "      --hover-bg-color: #E2EBFA;\n",
              "      --hover-fill-color: #174EA6;\n",
              "      --disabled-fill-color: #AAA;\n",
              "      --disabled-bg-color: #DDD;\n",
              "  }\n",
              "\n",
              "  [theme=dark] .colab-df-quickchart {\n",
              "      --bg-color: #3B4455;\n",
              "      --fill-color: #D2E3FC;\n",
              "      --hover-bg-color: #434B5C;\n",
              "      --hover-fill-color: #FFFFFF;\n",
              "      --disabled-bg-color: #3B4455;\n",
              "      --disabled-fill-color: #666;\n",
              "  }\n",
              "\n",
              "  .colab-df-quickchart {\n",
              "    background-color: var(--bg-color);\n",
              "    border: none;\n",
              "    border-radius: 50%;\n",
              "    cursor: pointer;\n",
              "    display: none;\n",
              "    fill: var(--fill-color);\n",
              "    height: 32px;\n",
              "    padding: 0;\n",
              "    width: 32px;\n",
              "  }\n",
              "\n",
              "  .colab-df-quickchart:hover {\n",
              "    background-color: var(--hover-bg-color);\n",
              "    box-shadow: 0 1px 2px rgba(60, 64, 67, 0.3), 0 1px 3px 1px rgba(60, 64, 67, 0.15);\n",
              "    fill: var(--button-hover-fill-color);\n",
              "  }\n",
              "\n",
              "  .colab-df-quickchart-complete:disabled,\n",
              "  .colab-df-quickchart-complete:disabled:hover {\n",
              "    background-color: var(--disabled-bg-color);\n",
              "    fill: var(--disabled-fill-color);\n",
              "    box-shadow: none;\n",
              "  }\n",
              "\n",
              "  .colab-df-spinner {\n",
              "    border: 2px solid var(--fill-color);\n",
              "    border-color: transparent;\n",
              "    border-bottom-color: var(--fill-color);\n",
              "    animation:\n",
              "      spin 1s steps(1) infinite;\n",
              "  }\n",
              "\n",
              "  @keyframes spin {\n",
              "    0% {\n",
              "      border-color: transparent;\n",
              "      border-bottom-color: var(--fill-color);\n",
              "      border-left-color: var(--fill-color);\n",
              "    }\n",
              "    20% {\n",
              "      border-color: transparent;\n",
              "      border-left-color: var(--fill-color);\n",
              "      border-top-color: var(--fill-color);\n",
              "    }\n",
              "    30% {\n",
              "      border-color: transparent;\n",
              "      border-left-color: var(--fill-color);\n",
              "      border-top-color: var(--fill-color);\n",
              "      border-right-color: var(--fill-color);\n",
              "    }\n",
              "    40% {\n",
              "      border-color: transparent;\n",
              "      border-right-color: var(--fill-color);\n",
              "      border-top-color: var(--fill-color);\n",
              "    }\n",
              "    60% {\n",
              "      border-color: transparent;\n",
              "      border-right-color: var(--fill-color);\n",
              "    }\n",
              "    80% {\n",
              "      border-color: transparent;\n",
              "      border-right-color: var(--fill-color);\n",
              "      border-bottom-color: var(--fill-color);\n",
              "    }\n",
              "    90% {\n",
              "      border-color: transparent;\n",
              "      border-bottom-color: var(--fill-color);\n",
              "    }\n",
              "  }\n",
              "</style>\n",
              "\n",
              "  <script>\n",
              "    async function quickchart(key) {\n",
              "      const quickchartButtonEl =\n",
              "        document.querySelector('#' + key + ' button');\n",
              "      quickchartButtonEl.disabled = true;  // To prevent multiple clicks.\n",
              "      quickchartButtonEl.classList.add('colab-df-spinner');\n",
              "      try {\n",
              "        const charts = await google.colab.kernel.invokeFunction(\n",
              "            'suggestCharts', [key], {});\n",
              "      } catch (error) {\n",
              "        console.error('Error during call to suggestCharts:', error);\n",
              "      }\n",
              "      quickchartButtonEl.classList.remove('colab-df-spinner');\n",
              "      quickchartButtonEl.classList.add('colab-df-quickchart-complete');\n",
              "    }\n",
              "    (() => {\n",
              "      let quickchartButtonEl =\n",
              "        document.querySelector('#df-2b6fa62c-de98-459e-b038-6d3d668bdb29 button');\n",
              "      quickchartButtonEl.style.display =\n",
              "        google.colab.kernel.accessAllowed ? 'block' : 'none';\n",
              "    })();\n",
              "  </script>\n",
              "</div>\n",
              "\n",
              "    </div>\n",
              "  </div>\n"
            ],
            "text/plain": [
              "   index  shipping_location department           category  subcategory  \\\n",
              "0     84              48180  Beverages      Energy Drinks          NaN   \n",
              "1     92              48180  Beverages      Energy Drinks          NaN   \n",
              "2    113              48180  Beverages      Energy Drinks          NaN   \n",
              "3    154              48180  Beverages      Energy Drinks          NaN   \n",
              "4    170              96797     Baking  Oils & Shortening          NaN   \n",
              "\n",
              "              breadcrumbs_x        sku  \\\n",
              "0   Beverages/Energy Drinks   10316267   \n",
              "1   Beverages/Energy Drinks  493786197   \n",
              "2   Beverages/Energy Drinks   10316268   \n",
              "3   Beverages/Energy Drinks  109000435   \n",
              "4  Baking/Oils & Shortening   10292273   \n",
              "\n",
              "                                         product_url  \\\n",
              "0  https://www.walmart.com/ip/Red-Bull-Energy-Dri...   \n",
              "1  https://www.walmart.com/ip/Red-Bull-Energy-Dri...   \n",
              "2  https://www.walmart.com/ip/Red-Bull-Energy-Dri...   \n",
              "3  https://www.walmart.com/ip/C4-Energy-Drink-Fro...   \n",
              "4  https://www.walmart.com/ip/Bertolli-Original-E...   \n",
              "\n",
              "                                      product_name_x   brand_x  ...  sizes  \\\n",
              "0         Red Bull Energy Drink, 8.4 Fl Oz (12 pack)  Red Bull  ...     []   \n",
              "1  Red Bull Energy Drink, Watermelon, 12 Fl Oz (4...  Red Bull  ...     []   \n",
              "2  Red Bull Energy Drink, Sugar Free, 8.4 Fl Oz (...  Red Bull  ...     []   \n",
              "3  C4 Energy Drink + Frozen Bombsicle + Zero Suga...        C4  ...     []   \n",
              "4  Bertolli, Original, ExtraVirgin Olive Oil, 16....  Bertolli  ...     []   \n",
              "\n",
              "   colors        seller                                   other_attributes  \\\n",
              "0      []  Wal███t.c███  [{\"name\":\"Instructions\",\"value\":\"Serve chilled...   \n",
              "1      []  Wal███t.c███  [{\"name\":\"Instructions\",\"value\":\"Best before: ...   \n",
              "2      []  Wal███t.c███  [{\"name\":\"Instructions\",\"value\":\"Serve chilled\"}]   \n",
              "3      []  Wal███t.c███  [{\"name\":\"Instructions\",\"value\":\"Consume one c...   \n",
              "4      []  Wal███t.c███  [{\"name\":\"Instructions\",\"value\":\"Store tightly...   \n",
              "\n",
              "                                    customer_reviews  \\\n",
              "0  [{\"name\":\"Alton\",\"rating\":5,\"review\":\"i truly ...   \n",
              "1  [{\"name\":\"Paula\",\"rating\":5,\"review\":\"Good fla...   \n",
              "2  [{\"name\":\"3rd███k\",\"rating\":5,\"review\":\"We lik...   \n",
              "3  [{\"name\":\"Tha███y\",\"rating\":5,\"review\":\"love t...   \n",
              "4  [{\"name\":\"gra███ah2███\",\"rating\":5,\"review\":\"t...   \n",
              "\n",
              "                                         ingredients initial_price discount  \\\n",
              "0  Carbonated Water, Sugar, Glucose, Citric Acid,...         21.98    $2.20   \n",
              "1  Carbonated Water, Sugar, Glucose, Citric Acid,...           NaN      NaN   \n",
              "2  Carbonated Water, Citric Acid, Taurine, Natura...           NaN      NaN   \n",
              "3  Carbonated Water, CarnoSyn Beta-Alanine, L-Cit...          2.46    $0.46   \n",
              "4                             EXTRA VIRGIN OLIVE OIL           NaN      NaN   \n",
              "\n",
              "                                    ingredients_full  \\\n",
              "0  [{\"type\":\"Ingredients\",\"values\":\"Carbonated Wa...   \n",
              "1  [{\"type\":\"Ingredients\",\"values\":\"Carbonated Wa...   \n",
              "2  [{\"type\":\"Ingredients\",\"values\":\"Carbonated Wa...   \n",
              "3  [{\"type\":\"Ingredients\",\"values\":\"Carbonated Wa...   \n",
              "4  [{\"type\":\"Active Ingredient Name\",\"values\":\"Ex...   \n",
              "\n",
              "                                          categories  \n",
              "0    [\"Food\",\"Beverages\",\"Energy Drinks\",\"Red Bull\"]  \n",
              "1    [\"Food\",\"Beverages\",\"Energy Drinks\",\"Red Bull\"]  \n",
              "2    [\"Food\",\"Beverages\",\"Energy Drinks\",\"Red Bull\"]  \n",
              "3  [\"Food\",\"Beverages\",\"Energy Drinks\",\"Energy Dr...  \n",
              "4  [\"Food\",\"Pantry\",\"Cooking oils & vinegar\",\"Coo...  \n",
              "\n",
              "[5 rows x 59 columns]"
            ]
          },
          "execution_count": 441,
          "metadata": {},
          "output_type": "execute_result"
        }
      ],
      "source": [
        "combined_data_1.head()"
      ]
    },
    {
      "cell_type": "markdown",
      "metadata": {
        "id": "QGZZsn1_MJeC"
      },
      "source": [
        "**2) Comnbining df3 and HuggingFace API dataframe (df9)**"
      ]
    },
    {
      "cell_type": "code",
      "execution_count": null,
      "metadata": {
        "colab": {
          "base_uri": "https://localhost:8080/"
        },
        "id": "u_EMIcVuMUZ1",
        "outputId": "276c8238-0e66-4c97-8fbe-aa51f31c2fd0"
      },
      "outputs": [
        {
          "name": "stdout",
          "output_type": "stream",
          "text": [
            "Common Columns: {'county'}\n"
          ]
        }
      ],
      "source": [
        "# Convert columns to lowercase to ensure case-insensitive comparison\n",
        "columns1 = set([col.lower() for col in df3.columns])\n",
        "columns2 = set([col.lower() for col in df9.columns])\n",
        "\n",
        "# Find common columns\n",
        "common_columns = columns1.intersection(columns2)\n",
        "print(\"Common Columns:\", common_columns)"
      ]
    },
    {
      "cell_type": "code",
      "execution_count": null,
      "metadata": {
        "id": "_RxMX_kmMUTS"
      },
      "outputs": [],
      "source": [
        "#Normalize Column Names\n",
        "df3.columns = df3.columns.str.lower()\n",
        "df9.columns = df9.columns.str.lower()"
      ]
    },
    {
      "cell_type": "code",
      "execution_count": null,
      "metadata": {
        "colab": {
          "base_uri": "https://localhost:8080/"
        },
        "id": "r3P9IvCLNnJi",
        "outputId": "5b2c255d-1d4d-4050-a62c-8057a1f0fa8b"
      },
      "outputs": [
        {
          "name": "stdout",
          "output_type": "stream",
          "text": [
            "object\n",
            "int64\n"
          ]
        }
      ],
      "source": [
        "print(df3['county'].dtype)  # Check the dtype of `county` in df3\n",
        "print(df9['county'].dtype)"
      ]
    },
    {
      "cell_type": "code",
      "execution_count": null,
      "metadata": {
        "id": "fzO5_IPXNqTc"
      },
      "outputs": [],
      "source": [
        "df3['county'] = df3['county'].astype(str)\n",
        "df9['county'] = df9['county'].astype(str)"
      ]
    },
    {
      "cell_type": "code",
      "execution_count": null,
      "metadata": {
        "id": "ABFsXiigMUOD"
      },
      "outputs": [],
      "source": [
        "# Combine the datasets on their common columns, such as sku\n",
        "combined_data_2 = pd.merge(df3, df9, on='county', how='inner')"
      ]
    },
    {
      "cell_type": "code",
      "execution_count": null,
      "metadata": {
        "colab": {
          "base_uri": "https://localhost:8080/",
          "height": 116
        },
        "id": "7PEeN3dUMbV7",
        "outputId": "1cc219c4-d788-4a68-af39-7e94fb77af2f"
      },
      "outputs": [
        {
          "data": {
            "application/vnd.google.colaboratory.intrinsic+json": {
              "type": "dataframe",
              "variable_name": "combined_data_2"
            },
            "text/html": [
              "\n",
              "  <div id=\"df-d1705e06-76db-49f8-8e45-6da11f7b1fda\" class=\"colab-df-container\">\n",
              "    <div>\n",
              "<style scoped>\n",
              "    .dataframe tbody tr th:only-of-type {\n",
              "        vertical-align: middle;\n",
              "    }\n",
              "\n",
              "    .dataframe tbody tr th {\n",
              "        vertical-align: top;\n",
              "    }\n",
              "\n",
              "    .dataframe thead th {\n",
              "        text-align: right;\n",
              "    }\n",
              "</style>\n",
              "<table border=\"1\" class=\"dataframe\">\n",
              "  <thead>\n",
              "    <tr style=\"text-align: right;\">\n",
              "      <th></th>\n",
              "      <th>objectid</th>\n",
              "      <th>businessunit_name</th>\n",
              "      <th>businessunit_number</th>\n",
              "      <th>description</th>\n",
              "      <th>type</th>\n",
              "      <th>address</th>\n",
              "      <th>city</th>\n",
              "      <th>county</th>\n",
              "      <th>state</th>\n",
              "      <th>postal code</th>\n",
              "      <th>...</th>\n",
              "      <th>streetaddr</th>\n",
              "      <th>strcity</th>\n",
              "      <th>strstate</th>\n",
              "      <th>zipcode</th>\n",
              "      <th>type_store</th>\n",
              "      <th>lat</th>\n",
              "      <th>lon</th>\n",
              "      <th>month</th>\n",
              "      <th>day</th>\n",
              "      <th>year</th>\n",
              "    </tr>\n",
              "  </thead>\n",
              "  <tbody>\n",
              "  </tbody>\n",
              "</table>\n",
              "<p>0 rows × 29 columns</p>\n",
              "</div>\n",
              "    <div class=\"colab-df-buttons\">\n",
              "\n",
              "  <div class=\"colab-df-container\">\n",
              "    <button class=\"colab-df-convert\" onclick=\"convertToInteractive('df-d1705e06-76db-49f8-8e45-6da11f7b1fda')\"\n",
              "            title=\"Convert this dataframe to an interactive table.\"\n",
              "            style=\"display:none;\">\n",
              "\n",
              "  <svg xmlns=\"http://www.w3.org/2000/svg\" height=\"24px\" viewBox=\"0 -960 960 960\">\n",
              "    <path d=\"M120-120v-720h720v720H120Zm60-500h600v-160H180v160Zm220 220h160v-160H400v160Zm0 220h160v-160H400v160ZM180-400h160v-160H180v160Zm440 0h160v-160H620v160ZM180-180h160v-160H180v160Zm440 0h160v-160H620v160Z\"/>\n",
              "  </svg>\n",
              "    </button>\n",
              "\n",
              "  <style>\n",
              "    .colab-df-container {\n",
              "      display:flex;\n",
              "      gap: 12px;\n",
              "    }\n",
              "\n",
              "    .colab-df-convert {\n",
              "      background-color: #E8F0FE;\n",
              "      border: none;\n",
              "      border-radius: 50%;\n",
              "      cursor: pointer;\n",
              "      display: none;\n",
              "      fill: #1967D2;\n",
              "      height: 32px;\n",
              "      padding: 0 0 0 0;\n",
              "      width: 32px;\n",
              "    }\n",
              "\n",
              "    .colab-df-convert:hover {\n",
              "      background-color: #E2EBFA;\n",
              "      box-shadow: 0px 1px 2px rgba(60, 64, 67, 0.3), 0px 1px 3px 1px rgba(60, 64, 67, 0.15);\n",
              "      fill: #174EA6;\n",
              "    }\n",
              "\n",
              "    .colab-df-buttons div {\n",
              "      margin-bottom: 4px;\n",
              "    }\n",
              "\n",
              "    [theme=dark] .colab-df-convert {\n",
              "      background-color: #3B4455;\n",
              "      fill: #D2E3FC;\n",
              "    }\n",
              "\n",
              "    [theme=dark] .colab-df-convert:hover {\n",
              "      background-color: #434B5C;\n",
              "      box-shadow: 0px 1px 3px 1px rgba(0, 0, 0, 0.15);\n",
              "      filter: drop-shadow(0px 1px 2px rgba(0, 0, 0, 0.3));\n",
              "      fill: #FFFFFF;\n",
              "    }\n",
              "  </style>\n",
              "\n",
              "    <script>\n",
              "      const buttonEl =\n",
              "        document.querySelector('#df-d1705e06-76db-49f8-8e45-6da11f7b1fda button.colab-df-convert');\n",
              "      buttonEl.style.display =\n",
              "        google.colab.kernel.accessAllowed ? 'block' : 'none';\n",
              "\n",
              "      async function convertToInteractive(key) {\n",
              "        const element = document.querySelector('#df-d1705e06-76db-49f8-8e45-6da11f7b1fda');\n",
              "        const dataTable =\n",
              "          await google.colab.kernel.invokeFunction('convertToInteractive',\n",
              "                                                    [key], {});\n",
              "        if (!dataTable) return;\n",
              "\n",
              "        const docLinkHtml = 'Like what you see? Visit the ' +\n",
              "          '<a target=\"_blank\" href=https://colab.research.google.com/notebooks/data_table.ipynb>data table notebook</a>'\n",
              "          + ' to learn more about interactive tables.';\n",
              "        element.innerHTML = '';\n",
              "        dataTable['output_type'] = 'display_data';\n",
              "        await google.colab.output.renderOutput(dataTable, element);\n",
              "        const docLink = document.createElement('div');\n",
              "        docLink.innerHTML = docLinkHtml;\n",
              "        element.appendChild(docLink);\n",
              "      }\n",
              "    </script>\n",
              "  </div>\n",
              "\n",
              "\n",
              "    </div>\n",
              "  </div>\n"
            ],
            "text/plain": [
              "Empty DataFrame\n",
              "Columns: [objectid, businessunit_name, businessunit_number, description, type, address, city, county, state, postal code, operation status, globalid, x, y, storenum, opendate, date_super, conversion, st, streetaddr, strcity, strstate, zipcode, type_store, lat, lon, month, day, year]\n",
              "Index: []\n",
              "\n",
              "[0 rows x 29 columns]"
            ]
          },
          "execution_count": 447,
          "metadata": {},
          "output_type": "execute_result"
        }
      ],
      "source": [
        "combined_data_2.head()"
      ]
    },
    {
      "cell_type": "markdown",
      "metadata": {
        "id": "Y2ESJJbrN3rq"
      },
      "source": [
        "**There are no matching values in the county column between the two datasets (df3 and df9).**"
      ]
    },
    {
      "cell_type": "markdown",
      "metadata": {
        "id": "uIjQ41aJOOvk"
      },
      "source": [
        "**3) Comnbining df7 and Kaggle API dataframe (df11)**"
      ]
    },
    {
      "cell_type": "code",
      "execution_count": null,
      "metadata": {
        "colab": {
          "base_uri": "https://localhost:8080/"
        },
        "id": "Vh2SRoG-OOK7",
        "outputId": "115dc1de-6355-4e92-a602-610684a4b8bd"
      },
      "outputs": [
        {
          "name": "stdout",
          "output_type": "stream",
          "text": [
            "Common Columns: {'date'}\n"
          ]
        }
      ],
      "source": [
        "# Convert columns to lowercase to ensure case-insensitive comparison\n",
        "columns1 = set([col.lower() for col in df7.columns])\n",
        "columns2 = set([col.lower() for col in df11.columns])\n",
        "\n",
        "# Find common columns\n",
        "common_columns = columns1.intersection(columns2)\n",
        "print(\"Common Columns:\", common_columns)"
      ]
    },
    {
      "cell_type": "code",
      "execution_count": null,
      "metadata": {
        "id": "adzv0yKsO_Sj"
      },
      "outputs": [],
      "source": [
        "#Normalize Column Names\n",
        "df7.columns = df7.columns.str.lower()\n",
        "df11.columns = df11.columns.str.lower()"
      ]
    },
    {
      "cell_type": "code",
      "execution_count": null,
      "metadata": {
        "id": "PyQBjikDPE2L"
      },
      "outputs": [],
      "source": [
        "# Combine the datasets on their common columns, such as sku\n",
        "combined_data_3 = pd.merge(df7, df11, on='date', how='inner')  # Use 'inner' to keep only matching rows"
      ]
    },
    {
      "cell_type": "code",
      "execution_count": null,
      "metadata": {
        "colab": {
          "base_uri": "https://localhost:8080/",
          "height": 87
        },
        "id": "s1mFelaTPJp7",
        "outputId": "e5da2cfc-6ddc-4be6-b3af-983c9875ed86"
      },
      "outputs": [
        {
          "data": {
            "application/vnd.google.colaboratory.intrinsic+json": {
              "repr_error": "Out of range float values are not JSON compliant: nan",
              "type": "dataframe",
              "variable_name": "combined_data_3"
            },
            "text/html": [
              "\n",
              "  <div id=\"df-d8d4b173-99ac-470d-80cf-3bb6e68ec807\" class=\"colab-df-container\">\n",
              "    <div>\n",
              "<style scoped>\n",
              "    .dataframe tbody tr th:only-of-type {\n",
              "        vertical-align: middle;\n",
              "    }\n",
              "\n",
              "    .dataframe tbody tr th {\n",
              "        vertical-align: top;\n",
              "    }\n",
              "\n",
              "    .dataframe thead th {\n",
              "        text-align: right;\n",
              "    }\n",
              "</style>\n",
              "<table border=\"1\" class=\"dataframe\">\n",
              "  <thead>\n",
              "    <tr style=\"text-align: right;\">\n",
              "      <th></th>\n",
              "      <th>invoice id</th>\n",
              "      <th>branch</th>\n",
              "      <th>city</th>\n",
              "      <th>customer type</th>\n",
              "      <th>gender</th>\n",
              "      <th>product line</th>\n",
              "      <th>unit price</th>\n",
              "      <th>quantity</th>\n",
              "      <th>date</th>\n",
              "      <th>time</th>\n",
              "      <th>payment</th>\n",
              "      <th>rating</th>\n",
              "      <th>store</th>\n",
              "      <th>weekly_sales</th>\n",
              "      <th>holiday_flag</th>\n",
              "      <th>temperature</th>\n",
              "      <th>fuel_price</th>\n",
              "      <th>cpi</th>\n",
              "      <th>unemployment</th>\n",
              "    </tr>\n",
              "  </thead>\n",
              "  <tbody>\n",
              "  </tbody>\n",
              "</table>\n",
              "</div>\n",
              "    <div class=\"colab-df-buttons\">\n",
              "\n",
              "  <div class=\"colab-df-container\">\n",
              "    <button class=\"colab-df-convert\" onclick=\"convertToInteractive('df-d8d4b173-99ac-470d-80cf-3bb6e68ec807')\"\n",
              "            title=\"Convert this dataframe to an interactive table.\"\n",
              "            style=\"display:none;\">\n",
              "\n",
              "  <svg xmlns=\"http://www.w3.org/2000/svg\" height=\"24px\" viewBox=\"0 -960 960 960\">\n",
              "    <path d=\"M120-120v-720h720v720H120Zm60-500h600v-160H180v160Zm220 220h160v-160H400v160Zm0 220h160v-160H400v160ZM180-400h160v-160H180v160Zm440 0h160v-160H620v160ZM180-180h160v-160H180v160Zm440 0h160v-160H620v160Z\"/>\n",
              "  </svg>\n",
              "    </button>\n",
              "\n",
              "  <style>\n",
              "    .colab-df-container {\n",
              "      display:flex;\n",
              "      gap: 12px;\n",
              "    }\n",
              "\n",
              "    .colab-df-convert {\n",
              "      background-color: #E8F0FE;\n",
              "      border: none;\n",
              "      border-radius: 50%;\n",
              "      cursor: pointer;\n",
              "      display: none;\n",
              "      fill: #1967D2;\n",
              "      height: 32px;\n",
              "      padding: 0 0 0 0;\n",
              "      width: 32px;\n",
              "    }\n",
              "\n",
              "    .colab-df-convert:hover {\n",
              "      background-color: #E2EBFA;\n",
              "      box-shadow: 0px 1px 2px rgba(60, 64, 67, 0.3), 0px 1px 3px 1px rgba(60, 64, 67, 0.15);\n",
              "      fill: #174EA6;\n",
              "    }\n",
              "\n",
              "    .colab-df-buttons div {\n",
              "      margin-bottom: 4px;\n",
              "    }\n",
              "\n",
              "    [theme=dark] .colab-df-convert {\n",
              "      background-color: #3B4455;\n",
              "      fill: #D2E3FC;\n",
              "    }\n",
              "\n",
              "    [theme=dark] .colab-df-convert:hover {\n",
              "      background-color: #434B5C;\n",
              "      box-shadow: 0px 1px 3px 1px rgba(0, 0, 0, 0.15);\n",
              "      filter: drop-shadow(0px 1px 2px rgba(0, 0, 0, 0.3));\n",
              "      fill: #FFFFFF;\n",
              "    }\n",
              "  </style>\n",
              "\n",
              "    <script>\n",
              "      const buttonEl =\n",
              "        document.querySelector('#df-d8d4b173-99ac-470d-80cf-3bb6e68ec807 button.colab-df-convert');\n",
              "      buttonEl.style.display =\n",
              "        google.colab.kernel.accessAllowed ? 'block' : 'none';\n",
              "\n",
              "      async function convertToInteractive(key) {\n",
              "        const element = document.querySelector('#df-d8d4b173-99ac-470d-80cf-3bb6e68ec807');\n",
              "        const dataTable =\n",
              "          await google.colab.kernel.invokeFunction('convertToInteractive',\n",
              "                                                    [key], {});\n",
              "        if (!dataTable) return;\n",
              "\n",
              "        const docLinkHtml = 'Like what you see? Visit the ' +\n",
              "          '<a target=\"_blank\" href=https://colab.research.google.com/notebooks/data_table.ipynb>data table notebook</a>'\n",
              "          + ' to learn more about interactive tables.';\n",
              "        element.innerHTML = '';\n",
              "        dataTable['output_type'] = 'display_data';\n",
              "        await google.colab.output.renderOutput(dataTable, element);\n",
              "        const docLink = document.createElement('div');\n",
              "        docLink.innerHTML = docLinkHtml;\n",
              "        element.appendChild(docLink);\n",
              "      }\n",
              "    </script>\n",
              "  </div>\n",
              "\n",
              "\n",
              "    </div>\n",
              "  </div>\n"
            ],
            "text/plain": [
              "Empty DataFrame\n",
              "Columns: [invoice id, branch, city, customer type, gender, product line, unit price, quantity, date, time, payment, rating, store, weekly_sales, holiday_flag, temperature, fuel_price, cpi, unemployment]\n",
              "Index: []"
            ]
          },
          "execution_count": 451,
          "metadata": {},
          "output_type": "execute_result"
        }
      ],
      "source": [
        "combined_data_3.head()"
      ]
    },
    {
      "cell_type": "code",
      "execution_count": null,
      "metadata": {
        "colab": {
          "base_uri": "https://localhost:8080/"
        },
        "id": "gm79oqT0PRH7",
        "outputId": "2e3f17cb-7b4d-4f1c-baf0-bef234269f57"
      },
      "outputs": [
        {
          "data": {
            "text/plain": [
              "(0, 19)"
            ]
          },
          "execution_count": 452,
          "metadata": {},
          "output_type": "execute_result"
        }
      ],
      "source": [
        "combined_data_3.shape"
      ]
    },
    {
      "cell_type": "markdown",
      "metadata": {
        "id": "tcXjBlOUPX0r"
      },
      "source": [
        "**There are no matching values in the county column between the two datasets (df7 and df11).**"
      ]
    },
    {
      "cell_type": "markdown",
      "metadata": {
        "id": "AuEyYO75P1BT"
      },
      "source": [
        "**4) Combine Multiple DataFrames with pd.merge**"
      ]
    },
    {
      "cell_type": "code",
      "execution_count": null,
      "metadata": {
        "colab": {
          "base_uri": "https://localhost:8080/"
        },
        "id": "58i4HmPhQmEE",
        "outputId": "5214b43b-1b89-4467-a43f-0124f0892cf0"
      },
      "outputs": [
        {
          "name": "stdout",
          "output_type": "stream",
          "text": [
            "Common columns: set()\n"
          ]
        }
      ],
      "source": [
        "# Example DataFrames\n",
        "dfs = [df1, df2, df3, df6, df7, df8, df9, gdf, df11]  # List of DataFrames to merge\n",
        "\n",
        "common_columns = set(dfs[0].columns)  # Start with columns of the first DataFrame\n",
        "for df in dfs[1:]:\n",
        "    common_columns.intersection_update(set(df.columns))\n",
        "\n",
        "print(\"Common columns:\", common_columns)"
      ]
    },
    {
      "cell_type": "code",
      "execution_count": null,
      "metadata": {
        "colab": {
          "base_uri": "https://localhost:8080/"
        },
        "collapsed": true,
        "id": "tF2MVyUwQ2ZK",
        "outputId": "fe9a3374-1788-4172-a243-8d5efe909091"
      },
      "outputs": [
        {
          "name": "stdout",
          "output_type": "stream",
          "text": [
            "Columns in DataFrame 1: Index(['index', 'shipping_location', 'department', 'category', 'subcategory',\n",
            "       'breadcrumbs', 'sku', 'product_url', 'product_name', 'brand',\n",
            "       'price_retail', 'price_current', 'product_size', 'promotion', 'rundate',\n",
            "       'tid'],\n",
            "      dtype='object')\n",
            "Columns in DataFrame 2: Index(['timestamp', 'url', 'final_price', 'sku', 'currency', 'gtin',\n",
            "       'specifications', 'image_urls', 'top_reviews', 'rating_stars',\n",
            "       'related_pages', 'available_for_delivery', 'available_for_pickup',\n",
            "       'brand', 'breadcrumbs', 'category_ids', 'review_count', 'description',\n",
            "       'product_id', 'product_name', 'review_tags', 'category_url',\n",
            "       'category_name', 'category_path', 'root_category_url',\n",
            "       'root_category_name', 'upc', 'tags', 'main_image', 'rating',\n",
            "       'unit_price', 'unit', 'aisle', 'free_returns', 'sizes', 'colors',\n",
            "       'seller', 'other_attributes', 'customer_reviews', 'ingredients',\n",
            "       'initial_price', 'discount', 'ingredients_full', 'categories'],\n",
            "      dtype='object')\n",
            "Columns in DataFrame 3: Index(['objectid', 'businessunit_name', 'businessunit_number', 'description',\n",
            "       'type', 'address', 'city', 'county', 'state', 'postal code',\n",
            "       'operation status', 'globalid', 'x', 'y'],\n",
            "      dtype='object')\n",
            "Columns in DataFrame 4: Index(['Customer_ID', 'Attrition_Flag', 'Customer_Age', 'Gender',\n",
            "       'Education_Level', 'Marital_Status', 'Income_Category', 'State',\n",
            "       'name'],\n",
            "      dtype='object')\n",
            "Columns in DataFrame 5: Index(['invoice id', 'branch', 'city', 'customer type', 'gender',\n",
            "       'product line', 'unit price', 'quantity', 'date', 'time', 'payment',\n",
            "       'rating'],\n",
            "      dtype='object')\n",
            "Columns in DataFrame 6: Index(['City', 'Customer Age', 'Customer Name', 'Customer Segment', 'Discount',\n",
            "       'Number of Records', 'Order Date', 'Order ID', 'Order Priority',\n",
            "       'Order Quantity', 'Product Base Margin', 'Product Category',\n",
            "       'Product Container', 'Product Name', 'Product Sub-Category', 'Profit',\n",
            "       'Region', 'Row ID', 'Sales', 'Ship Date', 'Ship Mode', 'Shipping Cost',\n",
            "       'State', 'Unit Price', 'Zip Code'],\n",
            "      dtype='object')\n",
            "Columns in DataFrame 7: Index(['storenum', 'opendate', 'date_super', 'conversion', 'st', 'county',\n",
            "       'streetaddr', 'strcity', 'strstate', 'zipcode', 'type_store', 'lat',\n",
            "       'lon', 'month', 'day', 'year'],\n",
            "      dtype='object')\n",
            "Columns in DataFrame 8: Index(['objectid', 'businessunit_name', 'businessunit_number',\n",
            "       'businessunit_banner_description', 'businessunit_type_description',\n",
            "       'facilitydetails_location_locati', 'facilitydetails_location_loca_1',\n",
            "       'facilitydetails_location_loca_2', 'facilitydetails_location_loca_3',\n",
            "       'facilitydetails_location_loca_8', 'op_status', 'GlobalID', 'geometry'],\n",
            "      dtype='object')\n",
            "Columns in DataFrame 9: Index(['store', 'date', 'weekly_sales', 'holiday_flag', 'temperature',\n",
            "       'fuel_price', 'cpi', 'unemployment'],\n",
            "      dtype='object')\n"
          ]
        }
      ],
      "source": [
        "for i, df in enumerate(dfs):\n",
        "    print(f\"Columns in DataFrame {i+1}: {df.columns}\")"
      ]
    },
    {
      "cell_type": "markdown",
      "metadata": {
        "id": "HaCoGPfeR8eL"
      },
      "source": [
        "**5) Comnbining df1, df2, and df3**"
      ]
    },
    {
      "cell_type": "code",
      "execution_count": null,
      "metadata": {
        "colab": {
          "base_uri": "https://localhost:8080/"
        },
        "collapsed": true,
        "id": "CcZ5oW0SRGt8",
        "outputId": "7ffb20ae-ff9b-4594-d3d5-2aef0361d41f"
      },
      "outputs": [
        {
          "name": "stdout",
          "output_type": "stream",
          "text": [
            "Common Columns: {'description'}\n"
          ]
        }
      ],
      "source": [
        "# Convert columns to lowercase to ensure case-insensitive comparison\n",
        "columns1 = set([col.lower() for col in df3.columns])\n",
        "columns2 = set([col.lower() for col in combined_data_1.columns])\n",
        "\n",
        "# Find common columns\n",
        "common_columns = columns1.intersection(columns2)\n",
        "print(\"Common Columns:\", common_columns)"
      ]
    },
    {
      "cell_type": "code",
      "execution_count": null,
      "metadata": {
        "id": "9kVtICsSSHDc"
      },
      "outputs": [],
      "source": [
        "#Normalize Column Names\n",
        "combined_data_1.columns = combined_data_1.columns.str.lower()\n",
        "df3.columns = df3.columns.str.lower()"
      ]
    },
    {
      "cell_type": "code",
      "execution_count": null,
      "metadata": {
        "id": "0o8lzkvOSJwz"
      },
      "outputs": [],
      "source": [
        "combined_data_4 = pd.merge(combined_data_1, df3, on='description', how='inner')  # Use 'inner' to keep only matching rows"
      ]
    },
    {
      "cell_type": "code",
      "execution_count": null,
      "metadata": {
        "colab": {
          "base_uri": "https://localhost:8080/",
          "height": 116
        },
        "id": "xjLXhiELSXJc",
        "outputId": "d0195e64-b5c6-41a3-906d-f0bc474c6f67"
      },
      "outputs": [
        {
          "data": {
            "application/vnd.google.colaboratory.intrinsic+json": {
              "type": "dataframe",
              "variable_name": "combined_data_4"
            },
            "text/html": [
              "\n",
              "  <div id=\"df-84151089-9f72-46f6-85ec-cd991393423d\" class=\"colab-df-container\">\n",
              "    <div>\n",
              "<style scoped>\n",
              "    .dataframe tbody tr th:only-of-type {\n",
              "        vertical-align: middle;\n",
              "    }\n",
              "\n",
              "    .dataframe tbody tr th {\n",
              "        vertical-align: top;\n",
              "    }\n",
              "\n",
              "    .dataframe thead th {\n",
              "        text-align: right;\n",
              "    }\n",
              "</style>\n",
              "<table border=\"1\" class=\"dataframe\">\n",
              "  <thead>\n",
              "    <tr style=\"text-align: right;\">\n",
              "      <th></th>\n",
              "      <th>index</th>\n",
              "      <th>shipping_location</th>\n",
              "      <th>department</th>\n",
              "      <th>category</th>\n",
              "      <th>subcategory</th>\n",
              "      <th>breadcrumbs_x</th>\n",
              "      <th>sku</th>\n",
              "      <th>product_url</th>\n",
              "      <th>product_name_x</th>\n",
              "      <th>brand_x</th>\n",
              "      <th>...</th>\n",
              "      <th>type</th>\n",
              "      <th>address</th>\n",
              "      <th>city</th>\n",
              "      <th>county</th>\n",
              "      <th>state</th>\n",
              "      <th>postal code</th>\n",
              "      <th>operation status</th>\n",
              "      <th>globalid</th>\n",
              "      <th>x</th>\n",
              "      <th>y</th>\n",
              "    </tr>\n",
              "  </thead>\n",
              "  <tbody>\n",
              "  </tbody>\n",
              "</table>\n",
              "<p>0 rows × 72 columns</p>\n",
              "</div>\n",
              "    <div class=\"colab-df-buttons\">\n",
              "\n",
              "  <div class=\"colab-df-container\">\n",
              "    <button class=\"colab-df-convert\" onclick=\"convertToInteractive('df-84151089-9f72-46f6-85ec-cd991393423d')\"\n",
              "            title=\"Convert this dataframe to an interactive table.\"\n",
              "            style=\"display:none;\">\n",
              "\n",
              "  <svg xmlns=\"http://www.w3.org/2000/svg\" height=\"24px\" viewBox=\"0 -960 960 960\">\n",
              "    <path d=\"M120-120v-720h720v720H120Zm60-500h600v-160H180v160Zm220 220h160v-160H400v160Zm0 220h160v-160H400v160ZM180-400h160v-160H180v160Zm440 0h160v-160H620v160ZM180-180h160v-160H180v160Zm440 0h160v-160H620v160Z\"/>\n",
              "  </svg>\n",
              "    </button>\n",
              "\n",
              "  <style>\n",
              "    .colab-df-container {\n",
              "      display:flex;\n",
              "      gap: 12px;\n",
              "    }\n",
              "\n",
              "    .colab-df-convert {\n",
              "      background-color: #E8F0FE;\n",
              "      border: none;\n",
              "      border-radius: 50%;\n",
              "      cursor: pointer;\n",
              "      display: none;\n",
              "      fill: #1967D2;\n",
              "      height: 32px;\n",
              "      padding: 0 0 0 0;\n",
              "      width: 32px;\n",
              "    }\n",
              "\n",
              "    .colab-df-convert:hover {\n",
              "      background-color: #E2EBFA;\n",
              "      box-shadow: 0px 1px 2px rgba(60, 64, 67, 0.3), 0px 1px 3px 1px rgba(60, 64, 67, 0.15);\n",
              "      fill: #174EA6;\n",
              "    }\n",
              "\n",
              "    .colab-df-buttons div {\n",
              "      margin-bottom: 4px;\n",
              "    }\n",
              "\n",
              "    [theme=dark] .colab-df-convert {\n",
              "      background-color: #3B4455;\n",
              "      fill: #D2E3FC;\n",
              "    }\n",
              "\n",
              "    [theme=dark] .colab-df-convert:hover {\n",
              "      background-color: #434B5C;\n",
              "      box-shadow: 0px 1px 3px 1px rgba(0, 0, 0, 0.15);\n",
              "      filter: drop-shadow(0px 1px 2px rgba(0, 0, 0, 0.3));\n",
              "      fill: #FFFFFF;\n",
              "    }\n",
              "  </style>\n",
              "\n",
              "    <script>\n",
              "      const buttonEl =\n",
              "        document.querySelector('#df-84151089-9f72-46f6-85ec-cd991393423d button.colab-df-convert');\n",
              "      buttonEl.style.display =\n",
              "        google.colab.kernel.accessAllowed ? 'block' : 'none';\n",
              "\n",
              "      async function convertToInteractive(key) {\n",
              "        const element = document.querySelector('#df-84151089-9f72-46f6-85ec-cd991393423d');\n",
              "        const dataTable =\n",
              "          await google.colab.kernel.invokeFunction('convertToInteractive',\n",
              "                                                    [key], {});\n",
              "        if (!dataTable) return;\n",
              "\n",
              "        const docLinkHtml = 'Like what you see? Visit the ' +\n",
              "          '<a target=\"_blank\" href=https://colab.research.google.com/notebooks/data_table.ipynb>data table notebook</a>'\n",
              "          + ' to learn more about interactive tables.';\n",
              "        element.innerHTML = '';\n",
              "        dataTable['output_type'] = 'display_data';\n",
              "        await google.colab.output.renderOutput(dataTable, element);\n",
              "        const docLink = document.createElement('div');\n",
              "        docLink.innerHTML = docLinkHtml;\n",
              "        element.appendChild(docLink);\n",
              "      }\n",
              "    </script>\n",
              "  </div>\n",
              "\n",
              "\n",
              "  <div id=\"id_19875fd9-1353-49e6-8ffa-525bb890d4f1\">\n",
              "    <style>\n",
              "      .colab-df-generate {\n",
              "        background-color: #E8F0FE;\n",
              "        border: none;\n",
              "        border-radius: 50%;\n",
              "        cursor: pointer;\n",
              "        display: none;\n",
              "        fill: #1967D2;\n",
              "        height: 32px;\n",
              "        padding: 0 0 0 0;\n",
              "        width: 32px;\n",
              "      }\n",
              "\n",
              "      .colab-df-generate:hover {\n",
              "        background-color: #E2EBFA;\n",
              "        box-shadow: 0px 1px 2px rgba(60, 64, 67, 0.3), 0px 1px 3px 1px rgba(60, 64, 67, 0.15);\n",
              "        fill: #174EA6;\n",
              "      }\n",
              "\n",
              "      [theme=dark] .colab-df-generate {\n",
              "        background-color: #3B4455;\n",
              "        fill: #D2E3FC;\n",
              "      }\n",
              "\n",
              "      [theme=dark] .colab-df-generate:hover {\n",
              "        background-color: #434B5C;\n",
              "        box-shadow: 0px 1px 3px 1px rgba(0, 0, 0, 0.15);\n",
              "        filter: drop-shadow(0px 1px 2px rgba(0, 0, 0, 0.3));\n",
              "        fill: #FFFFFF;\n",
              "      }\n",
              "    </style>\n",
              "    <button class=\"colab-df-generate\" onclick=\"generateWithVariable('combined_data_4')\"\n",
              "            title=\"Generate code using this dataframe.\"\n",
              "            style=\"display:none;\">\n",
              "\n",
              "  <svg xmlns=\"http://www.w3.org/2000/svg\" height=\"24px\"viewBox=\"0 0 24 24\"\n",
              "       width=\"24px\">\n",
              "    <path d=\"M7,19H8.4L18.45,9,17,7.55,7,17.6ZM5,21V16.75L18.45,3.32a2,2,0,0,1,2.83,0l1.4,1.43a1.91,1.91,0,0,1,.58,1.4,1.91,1.91,0,0,1-.58,1.4L9.25,21ZM18.45,9,17,7.55Zm-12,3A5.31,5.31,0,0,0,4.9,8.1,5.31,5.31,0,0,0,1,6.5,5.31,5.31,0,0,0,4.9,4.9,5.31,5.31,0,0,0,6.5,1,5.31,5.31,0,0,0,8.1,4.9,5.31,5.31,0,0,0,12,6.5,5.46,5.46,0,0,0,6.5,12Z\"/>\n",
              "  </svg>\n",
              "    </button>\n",
              "    <script>\n",
              "      (() => {\n",
              "      const buttonEl =\n",
              "        document.querySelector('#id_19875fd9-1353-49e6-8ffa-525bb890d4f1 button.colab-df-generate');\n",
              "      buttonEl.style.display =\n",
              "        google.colab.kernel.accessAllowed ? 'block' : 'none';\n",
              "\n",
              "      buttonEl.onclick = () => {\n",
              "        google.colab.notebook.generateWithVariable('combined_data_4');\n",
              "      }\n",
              "      })();\n",
              "    </script>\n",
              "  </div>\n",
              "\n",
              "    </div>\n",
              "  </div>\n"
            ],
            "text/plain": [
              "Empty DataFrame\n",
              "Columns: [index, shipping_location, department, category, subcategory, breadcrumbs_x, sku, product_url, product_name_x, brand_x, price_retail, price_current, product_size, promotion, rundate, tid, timestamp, url, final_price, currency, gtin, specifications, image_urls, top_reviews, rating_stars, related_pages, available_for_delivery, available_for_pickup, brand_y, breadcrumbs_y, category_ids, review_count, description, product_id, product_name_y, review_tags, category_url, category_name, category_path, root_category_url, root_category_name, upc, tags, main_image, rating, unit_price, unit, aisle, free_returns, sizes, colors, seller, other_attributes, customer_reviews, ingredients, initial_price, discount, ingredients_full, categories, objectid, businessunit_name, businessunit_number, type, address, city, county, state, postal code, operation status, globalid, x, y]\n",
              "Index: []\n",
              "\n",
              "[0 rows x 72 columns]"
            ]
          },
          "execution_count": 458,
          "metadata": {},
          "output_type": "execute_result"
        }
      ],
      "source": [
        "combined_data_4"
      ]
    },
    {
      "cell_type": "markdown",
      "metadata": {
        "id": "eKNR8QR2Sem7"
      },
      "source": [
        "**We will not use df3.**"
      ]
    },
    {
      "cell_type": "markdown",
      "metadata": {
        "id": "Egg5kdwASbZq"
      },
      "source": [
        "**6) Comnbining df1, df2, and df6**"
      ]
    },
    {
      "cell_type": "code",
      "execution_count": null,
      "metadata": {
        "colab": {
          "base_uri": "https://localhost:8080/"
        },
        "id": "G-_-SRvQSlKr",
        "outputId": "882b514b-fa45-41de-ffd2-6922be865330"
      },
      "outputs": [
        {
          "name": "stdout",
          "output_type": "stream",
          "text": [
            "Common Columns: set()\n"
          ]
        }
      ],
      "source": [
        "# Convert columns to lowercase to ensure case-insensitive comparison\n",
        "columns1 = set([col.lower() for col in df6.columns])\n",
        "columns2 = set([col.lower() for col in combined_data_1.columns])\n",
        "\n",
        "# Find common columns\n",
        "common_columns = columns1.intersection(columns2)\n",
        "print(\"Common Columns:\", common_columns)"
      ]
    },
    {
      "cell_type": "markdown",
      "metadata": {
        "id": "9luQ83IzTBZ0"
      },
      "source": [
        "**We will not use df6.**"
      ]
    },
    {
      "cell_type": "markdown",
      "metadata": {
        "id": "5hwOhdwmSrNb"
      },
      "source": [
        "**7) Combining df1, df2, and df7**"
      ]
    },
    {
      "cell_type": "code",
      "execution_count": null,
      "metadata": {
        "colab": {
          "base_uri": "https://localhost:8080/"
        },
        "id": "lbswRE21TFXD",
        "outputId": "56c6915d-4a2f-45a1-b93b-a39cd6101241"
      },
      "outputs": [
        {
          "name": "stdout",
          "output_type": "stream",
          "text": [
            "Common Columns: {'rating'}\n"
          ]
        }
      ],
      "source": [
        "# Convert columns to lowercase to ensure case-insensitive comparison\n",
        "columns1 = set([col.lower() for col in df7.columns])\n",
        "columns2 = set([col.lower() for col in combined_data_1.columns])\n",
        "\n",
        "# Find common columns\n",
        "common_columns = columns1.intersection(columns2)\n",
        "print(\"Common Columns:\", common_columns)"
      ]
    },
    {
      "cell_type": "code",
      "execution_count": null,
      "metadata": {
        "id": "NoZF-U47TKuL"
      },
      "outputs": [],
      "source": [
        "#Normalize Column Names\n",
        "combined_data_1.columns = combined_data_1.columns.str.lower()\n",
        "df7.columns = df7.columns.str.lower()"
      ]
    },
    {
      "cell_type": "code",
      "execution_count": null,
      "metadata": {
        "id": "rqVFd-cjStp0"
      },
      "outputs": [],
      "source": [
        "combined_data_5 = pd.merge(combined_data_1, df7, on='rating', how='inner')  # Use 'inner' to keep only matching rows"
      ]
    },
    {
      "cell_type": "code",
      "execution_count": null,
      "metadata": {
        "colab": {
          "base_uri": "https://localhost:8080/",
          "height": 894
        },
        "collapsed": true,
        "id": "91G1LJMsStjy",
        "outputId": "c93f4d0a-3d1a-4f79-baaa-812b63061768"
      },
      "outputs": [
        {
          "data": {
            "application/vnd.google.colaboratory.intrinsic+json": {
              "type": "dataframe",
              "variable_name": "combined_data_5"
            },
            "text/html": [
              "\n",
              "  <div id=\"df-73173d9c-eeae-44f8-9fd9-613974eebe31\" class=\"colab-df-container\">\n",
              "    <div>\n",
              "<style scoped>\n",
              "    .dataframe tbody tr th:only-of-type {\n",
              "        vertical-align: middle;\n",
              "    }\n",
              "\n",
              "    .dataframe tbody tr th {\n",
              "        vertical-align: top;\n",
              "    }\n",
              "\n",
              "    .dataframe thead th {\n",
              "        text-align: right;\n",
              "    }\n",
              "</style>\n",
              "<table border=\"1\" class=\"dataframe\">\n",
              "  <thead>\n",
              "    <tr style=\"text-align: right;\">\n",
              "      <th></th>\n",
              "      <th>index</th>\n",
              "      <th>shipping_location</th>\n",
              "      <th>department</th>\n",
              "      <th>category</th>\n",
              "      <th>subcategory</th>\n",
              "      <th>breadcrumbs_x</th>\n",
              "      <th>sku</th>\n",
              "      <th>product_url</th>\n",
              "      <th>product_name_x</th>\n",
              "      <th>brand_x</th>\n",
              "      <th>...</th>\n",
              "      <th>branch</th>\n",
              "      <th>city</th>\n",
              "      <th>customer type</th>\n",
              "      <th>gender</th>\n",
              "      <th>product line</th>\n",
              "      <th>unit price</th>\n",
              "      <th>quantity</th>\n",
              "      <th>date</th>\n",
              "      <th>time</th>\n",
              "      <th>payment</th>\n",
              "    </tr>\n",
              "  </thead>\n",
              "  <tbody>\n",
              "    <tr>\n",
              "      <th>0</th>\n",
              "      <td>84</td>\n",
              "      <td>48180</td>\n",
              "      <td>Beverages</td>\n",
              "      <td>Energy Drinks</td>\n",
              "      <td>NaN</td>\n",
              "      <td>Beverages/Energy Drinks</td>\n",
              "      <td>10316267</td>\n",
              "      <td>https://www.walmart.com/ip/Red-Bull-Energy-Dri...</td>\n",
              "      <td>Red Bull Energy Drink, 8.4 Fl Oz (12 pack)</td>\n",
              "      <td>Red Bull</td>\n",
              "      <td>...</td>\n",
              "      <td>B</td>\n",
              "      <td>Naypyitaw</td>\n",
              "      <td>Normal</td>\n",
              "      <td>Male</td>\n",
              "      <td>Electronic accessories</td>\n",
              "      <td>85.39</td>\n",
              "      <td>7</td>\n",
              "      <td>3/25/2019</td>\n",
              "      <td>18:30:00</td>\n",
              "      <td>Ewallet</td>\n",
              "    </tr>\n",
              "    <tr>\n",
              "      <th>1</th>\n",
              "      <td>84</td>\n",
              "      <td>48180</td>\n",
              "      <td>Beverages</td>\n",
              "      <td>Energy Drinks</td>\n",
              "      <td>NaN</td>\n",
              "      <td>Beverages/Energy Drinks</td>\n",
              "      <td>10316267</td>\n",
              "      <td>https://www.walmart.com/ip/Red-Bull-Energy-Dri...</td>\n",
              "      <td>Red Bull Energy Drink, 8.4 Fl Oz (12 pack)</td>\n",
              "      <td>Red Bull</td>\n",
              "      <td>...</td>\n",
              "      <td>A</td>\n",
              "      <td>Mandalay</td>\n",
              "      <td>Member</td>\n",
              "      <td>Female</td>\n",
              "      <td>Food and beverages</td>\n",
              "      <td>20.01</td>\n",
              "      <td>9</td>\n",
              "      <td>2/6/2019</td>\n",
              "      <td>15:47:00</td>\n",
              "      <td>Ewallet</td>\n",
              "    </tr>\n",
              "    <tr>\n",
              "      <th>2</th>\n",
              "      <td>84</td>\n",
              "      <td>48180</td>\n",
              "      <td>Beverages</td>\n",
              "      <td>Energy Drinks</td>\n",
              "      <td>NaN</td>\n",
              "      <td>Beverages/Energy Drinks</td>\n",
              "      <td>10316267</td>\n",
              "      <td>https://www.walmart.com/ip/Red-Bull-Energy-Dri...</td>\n",
              "      <td>Red Bull Energy Drink, 8.4 Fl Oz (12 pack)</td>\n",
              "      <td>Red Bull</td>\n",
              "      <td>...</td>\n",
              "      <td>B</td>\n",
              "      <td>Naypyitaw</td>\n",
              "      <td>Normal</td>\n",
              "      <td>Female</td>\n",
              "      <td>Electronic accessories</td>\n",
              "      <td>12.45</td>\n",
              "      <td>6</td>\n",
              "      <td>2/9/2019</td>\n",
              "      <td>13:11:00</td>\n",
              "      <td>Cash</td>\n",
              "    </tr>\n",
              "    <tr>\n",
              "      <th>3</th>\n",
              "      <td>84</td>\n",
              "      <td>48180</td>\n",
              "      <td>Beverages</td>\n",
              "      <td>Energy Drinks</td>\n",
              "      <td>NaN</td>\n",
              "      <td>Beverages/Energy Drinks</td>\n",
              "      <td>10316267</td>\n",
              "      <td>https://www.walmart.com/ip/Red-Bull-Energy-Dri...</td>\n",
              "      <td>Red Bull Energy Drink, 8.4 Fl Oz (12 pack)</td>\n",
              "      <td>Red Bull</td>\n",
              "      <td>...</td>\n",
              "      <td>C</td>\n",
              "      <td>Naypyitaw</td>\n",
              "      <td>Member</td>\n",
              "      <td>Male</td>\n",
              "      <td>Fashion accessories</td>\n",
              "      <td>48.71</td>\n",
              "      <td>1</td>\n",
              "      <td>3/26/2019</td>\n",
              "      <td>19:20:00</td>\n",
              "      <td>Cash</td>\n",
              "    </tr>\n",
              "    <tr>\n",
              "      <th>4</th>\n",
              "      <td>84</td>\n",
              "      <td>48180</td>\n",
              "      <td>Beverages</td>\n",
              "      <td>Energy Drinks</td>\n",
              "      <td>NaN</td>\n",
              "      <td>Beverages/Energy Drinks</td>\n",
              "      <td>10316267</td>\n",
              "      <td>https://www.walmart.com/ip/Red-Bull-Energy-Dri...</td>\n",
              "      <td>Red Bull Energy Drink, 8.4 Fl Oz (12 pack)</td>\n",
              "      <td>Red Bull</td>\n",
              "      <td>...</td>\n",
              "      <td>B</td>\n",
              "      <td>Mandalay</td>\n",
              "      <td>Normal</td>\n",
              "      <td>Male</td>\n",
              "      <td>Home and lifestyle</td>\n",
              "      <td>53.44</td>\n",
              "      <td>2</td>\n",
              "      <td>1/20/2019</td>\n",
              "      <td>20:38:00</td>\n",
              "      <td>Ewallet</td>\n",
              "    </tr>\n",
              "    <tr>\n",
              "      <th>...</th>\n",
              "      <td>...</td>\n",
              "      <td>...</td>\n",
              "      <td>...</td>\n",
              "      <td>...</td>\n",
              "      <td>...</td>\n",
              "      <td>...</td>\n",
              "      <td>...</td>\n",
              "      <td>...</td>\n",
              "      <td>...</td>\n",
              "      <td>...</td>\n",
              "      <td>...</td>\n",
              "      <td>...</td>\n",
              "      <td>...</td>\n",
              "      <td>...</td>\n",
              "      <td>...</td>\n",
              "      <td>...</td>\n",
              "      <td>...</td>\n",
              "      <td>...</td>\n",
              "      <td>...</td>\n",
              "      <td>...</td>\n",
              "      <td>...</td>\n",
              "    </tr>\n",
              "    <tr>\n",
              "      <th>2998</th>\n",
              "      <td>20341</td>\n",
              "      <td>96797</td>\n",
              "      <td>Beverages</td>\n",
              "      <td>Juices</td>\n",
              "      <td>NaN</td>\n",
              "      <td>Beverages/Juices</td>\n",
              "      <td>23810275</td>\n",
              "      <td>https://www.walmart.com/ip/Ocean-Spray-Diet-Cr...</td>\n",
              "      <td>Ocean Spray Diet Cranberry Cherry Juice Drink,...</td>\n",
              "      <td>Ocean Spray</td>\n",
              "      <td>...</td>\n",
              "      <td>C</td>\n",
              "      <td>Mandalay</td>\n",
              "      <td>Normal</td>\n",
              "      <td>Female</td>\n",
              "      <td>Fashion accessories</td>\n",
              "      <td>73.52</td>\n",
              "      <td>2</td>\n",
              "      <td>1/15/2019</td>\n",
              "      <td>13:41:00</td>\n",
              "      <td>Ewallet</td>\n",
              "    </tr>\n",
              "    <tr>\n",
              "      <th>2999</th>\n",
              "      <td>20341</td>\n",
              "      <td>96797</td>\n",
              "      <td>Beverages</td>\n",
              "      <td>Juices</td>\n",
              "      <td>NaN</td>\n",
              "      <td>Beverages/Juices</td>\n",
              "      <td>23810275</td>\n",
              "      <td>https://www.walmart.com/ip/Ocean-Spray-Diet-Cr...</td>\n",
              "      <td>Ocean Spray Diet Cranberry Cherry Juice Drink,...</td>\n",
              "      <td>Ocean Spray</td>\n",
              "      <td>...</td>\n",
              "      <td>A</td>\n",
              "      <td>Yangon</td>\n",
              "      <td>Normal</td>\n",
              "      <td>Female</td>\n",
              "      <td>Food and beverages</td>\n",
              "      <td>54.27</td>\n",
              "      <td>5</td>\n",
              "      <td>3/13/2019</td>\n",
              "      <td>14:16:00</td>\n",
              "      <td>Ewallet</td>\n",
              "    </tr>\n",
              "    <tr>\n",
              "      <th>3000</th>\n",
              "      <td>20341</td>\n",
              "      <td>96797</td>\n",
              "      <td>Beverages</td>\n",
              "      <td>Juices</td>\n",
              "      <td>NaN</td>\n",
              "      <td>Beverages/Juices</td>\n",
              "      <td>23810275</td>\n",
              "      <td>https://www.walmart.com/ip/Ocean-Spray-Diet-Cr...</td>\n",
              "      <td>Ocean Spray Diet Cranberry Cherry Juice Drink,...</td>\n",
              "      <td>Ocean Spray</td>\n",
              "      <td>...</td>\n",
              "      <td>B</td>\n",
              "      <td>Mandalay</td>\n",
              "      <td>Member</td>\n",
              "      <td>Male</td>\n",
              "      <td>Health and beauty</td>\n",
              "      <td>72.57</td>\n",
              "      <td>8</td>\n",
              "      <td>3/30/2019</td>\n",
              "      <td>17:58:00</td>\n",
              "      <td>Cash</td>\n",
              "    </tr>\n",
              "    <tr>\n",
              "      <th>3001</th>\n",
              "      <td>20341</td>\n",
              "      <td>96797</td>\n",
              "      <td>Beverages</td>\n",
              "      <td>Juices</td>\n",
              "      <td>NaN</td>\n",
              "      <td>Beverages/Juices</td>\n",
              "      <td>23810275</td>\n",
              "      <td>https://www.walmart.com/ip/Ocean-Spray-Diet-Cr...</td>\n",
              "      <td>Ocean Spray Diet Cranberry Cherry Juice Drink,...</td>\n",
              "      <td>Ocean Spray</td>\n",
              "      <td>...</td>\n",
              "      <td>A</td>\n",
              "      <td>Mandalay</td>\n",
              "      <td>Member</td>\n",
              "      <td>Male</td>\n",
              "      <td>Fashion accessories</td>\n",
              "      <td>83.77</td>\n",
              "      <td>2</td>\n",
              "      <td>2/24/2019</td>\n",
              "      <td>19:57:00</td>\n",
              "      <td>Cash</td>\n",
              "    </tr>\n",
              "    <tr>\n",
              "      <th>3002</th>\n",
              "      <td>20341</td>\n",
              "      <td>96797</td>\n",
              "      <td>Beverages</td>\n",
              "      <td>Juices</td>\n",
              "      <td>NaN</td>\n",
              "      <td>Beverages/Juices</td>\n",
              "      <td>23810275</td>\n",
              "      <td>https://www.walmart.com/ip/Ocean-Spray-Diet-Cr...</td>\n",
              "      <td>Ocean Spray Diet Cranberry Cherry Juice Drink,...</td>\n",
              "      <td>Ocean Spray</td>\n",
              "      <td>...</td>\n",
              "      <td>A</td>\n",
              "      <td>Yangon</td>\n",
              "      <td>Member</td>\n",
              "      <td>Male</td>\n",
              "      <td>Food and beverages</td>\n",
              "      <td>35.04</td>\n",
              "      <td>9</td>\n",
              "      <td>2/9/2019</td>\n",
              "      <td>19:17:00</td>\n",
              "      <td>Ewallet</td>\n",
              "    </tr>\n",
              "  </tbody>\n",
              "</table>\n",
              "<p>3003 rows × 70 columns</p>\n",
              "</div>\n",
              "    <div class=\"colab-df-buttons\">\n",
              "\n",
              "  <div class=\"colab-df-container\">\n",
              "    <button class=\"colab-df-convert\" onclick=\"convertToInteractive('df-73173d9c-eeae-44f8-9fd9-613974eebe31')\"\n",
              "            title=\"Convert this dataframe to an interactive table.\"\n",
              "            style=\"display:none;\">\n",
              "\n",
              "  <svg xmlns=\"http://www.w3.org/2000/svg\" height=\"24px\" viewBox=\"0 -960 960 960\">\n",
              "    <path d=\"M120-120v-720h720v720H120Zm60-500h600v-160H180v160Zm220 220h160v-160H400v160Zm0 220h160v-160H400v160ZM180-400h160v-160H180v160Zm440 0h160v-160H620v160ZM180-180h160v-160H180v160Zm440 0h160v-160H620v160Z\"/>\n",
              "  </svg>\n",
              "    </button>\n",
              "\n",
              "  <style>\n",
              "    .colab-df-container {\n",
              "      display:flex;\n",
              "      gap: 12px;\n",
              "    }\n",
              "\n",
              "    .colab-df-convert {\n",
              "      background-color: #E8F0FE;\n",
              "      border: none;\n",
              "      border-radius: 50%;\n",
              "      cursor: pointer;\n",
              "      display: none;\n",
              "      fill: #1967D2;\n",
              "      height: 32px;\n",
              "      padding: 0 0 0 0;\n",
              "      width: 32px;\n",
              "    }\n",
              "\n",
              "    .colab-df-convert:hover {\n",
              "      background-color: #E2EBFA;\n",
              "      box-shadow: 0px 1px 2px rgba(60, 64, 67, 0.3), 0px 1px 3px 1px rgba(60, 64, 67, 0.15);\n",
              "      fill: #174EA6;\n",
              "    }\n",
              "\n",
              "    .colab-df-buttons div {\n",
              "      margin-bottom: 4px;\n",
              "    }\n",
              "\n",
              "    [theme=dark] .colab-df-convert {\n",
              "      background-color: #3B4455;\n",
              "      fill: #D2E3FC;\n",
              "    }\n",
              "\n",
              "    [theme=dark] .colab-df-convert:hover {\n",
              "      background-color: #434B5C;\n",
              "      box-shadow: 0px 1px 3px 1px rgba(0, 0, 0, 0.15);\n",
              "      filter: drop-shadow(0px 1px 2px rgba(0, 0, 0, 0.3));\n",
              "      fill: #FFFFFF;\n",
              "    }\n",
              "  </style>\n",
              "\n",
              "    <script>\n",
              "      const buttonEl =\n",
              "        document.querySelector('#df-73173d9c-eeae-44f8-9fd9-613974eebe31 button.colab-df-convert');\n",
              "      buttonEl.style.display =\n",
              "        google.colab.kernel.accessAllowed ? 'block' : 'none';\n",
              "\n",
              "      async function convertToInteractive(key) {\n",
              "        const element = document.querySelector('#df-73173d9c-eeae-44f8-9fd9-613974eebe31');\n",
              "        const dataTable =\n",
              "          await google.colab.kernel.invokeFunction('convertToInteractive',\n",
              "                                                    [key], {});\n",
              "        if (!dataTable) return;\n",
              "\n",
              "        const docLinkHtml = 'Like what you see? Visit the ' +\n",
              "          '<a target=\"_blank\" href=https://colab.research.google.com/notebooks/data_table.ipynb>data table notebook</a>'\n",
              "          + ' to learn more about interactive tables.';\n",
              "        element.innerHTML = '';\n",
              "        dataTable['output_type'] = 'display_data';\n",
              "        await google.colab.output.renderOutput(dataTable, element);\n",
              "        const docLink = document.createElement('div');\n",
              "        docLink.innerHTML = docLinkHtml;\n",
              "        element.appendChild(docLink);\n",
              "      }\n",
              "    </script>\n",
              "  </div>\n",
              "\n",
              "\n",
              "<div id=\"df-43149413-c044-4dc9-bd8d-8dc091494cdd\">\n",
              "  <button class=\"colab-df-quickchart\" onclick=\"quickchart('df-43149413-c044-4dc9-bd8d-8dc091494cdd')\"\n",
              "            title=\"Suggest charts\"\n",
              "            style=\"display:none;\">\n",
              "\n",
              "<svg xmlns=\"http://www.w3.org/2000/svg\" height=\"24px\"viewBox=\"0 0 24 24\"\n",
              "     width=\"24px\">\n",
              "    <g>\n",
              "        <path d=\"M19 3H5c-1.1 0-2 .9-2 2v14c0 1.1.9 2 2 2h14c1.1 0 2-.9 2-2V5c0-1.1-.9-2-2-2zM9 17H7v-7h2v7zm4 0h-2V7h2v10zm4 0h-2v-4h2v4z\"/>\n",
              "    </g>\n",
              "</svg>\n",
              "  </button>\n",
              "\n",
              "<style>\n",
              "  .colab-df-quickchart {\n",
              "      --bg-color: #E8F0FE;\n",
              "      --fill-color: #1967D2;\n",
              "      --hover-bg-color: #E2EBFA;\n",
              "      --hover-fill-color: #174EA6;\n",
              "      --disabled-fill-color: #AAA;\n",
              "      --disabled-bg-color: #DDD;\n",
              "  }\n",
              "\n",
              "  [theme=dark] .colab-df-quickchart {\n",
              "      --bg-color: #3B4455;\n",
              "      --fill-color: #D2E3FC;\n",
              "      --hover-bg-color: #434B5C;\n",
              "      --hover-fill-color: #FFFFFF;\n",
              "      --disabled-bg-color: #3B4455;\n",
              "      --disabled-fill-color: #666;\n",
              "  }\n",
              "\n",
              "  .colab-df-quickchart {\n",
              "    background-color: var(--bg-color);\n",
              "    border: none;\n",
              "    border-radius: 50%;\n",
              "    cursor: pointer;\n",
              "    display: none;\n",
              "    fill: var(--fill-color);\n",
              "    height: 32px;\n",
              "    padding: 0;\n",
              "    width: 32px;\n",
              "  }\n",
              "\n",
              "  .colab-df-quickchart:hover {\n",
              "    background-color: var(--hover-bg-color);\n",
              "    box-shadow: 0 1px 2px rgba(60, 64, 67, 0.3), 0 1px 3px 1px rgba(60, 64, 67, 0.15);\n",
              "    fill: var(--button-hover-fill-color);\n",
              "  }\n",
              "\n",
              "  .colab-df-quickchart-complete:disabled,\n",
              "  .colab-df-quickchart-complete:disabled:hover {\n",
              "    background-color: var(--disabled-bg-color);\n",
              "    fill: var(--disabled-fill-color);\n",
              "    box-shadow: none;\n",
              "  }\n",
              "\n",
              "  .colab-df-spinner {\n",
              "    border: 2px solid var(--fill-color);\n",
              "    border-color: transparent;\n",
              "    border-bottom-color: var(--fill-color);\n",
              "    animation:\n",
              "      spin 1s steps(1) infinite;\n",
              "  }\n",
              "\n",
              "  @keyframes spin {\n",
              "    0% {\n",
              "      border-color: transparent;\n",
              "      border-bottom-color: var(--fill-color);\n",
              "      border-left-color: var(--fill-color);\n",
              "    }\n",
              "    20% {\n",
              "      border-color: transparent;\n",
              "      border-left-color: var(--fill-color);\n",
              "      border-top-color: var(--fill-color);\n",
              "    }\n",
              "    30% {\n",
              "      border-color: transparent;\n",
              "      border-left-color: var(--fill-color);\n",
              "      border-top-color: var(--fill-color);\n",
              "      border-right-color: var(--fill-color);\n",
              "    }\n",
              "    40% {\n",
              "      border-color: transparent;\n",
              "      border-right-color: var(--fill-color);\n",
              "      border-top-color: var(--fill-color);\n",
              "    }\n",
              "    60% {\n",
              "      border-color: transparent;\n",
              "      border-right-color: var(--fill-color);\n",
              "    }\n",
              "    80% {\n",
              "      border-color: transparent;\n",
              "      border-right-color: var(--fill-color);\n",
              "      border-bottom-color: var(--fill-color);\n",
              "    }\n",
              "    90% {\n",
              "      border-color: transparent;\n",
              "      border-bottom-color: var(--fill-color);\n",
              "    }\n",
              "  }\n",
              "</style>\n",
              "\n",
              "  <script>\n",
              "    async function quickchart(key) {\n",
              "      const quickchartButtonEl =\n",
              "        document.querySelector('#' + key + ' button');\n",
              "      quickchartButtonEl.disabled = true;  // To prevent multiple clicks.\n",
              "      quickchartButtonEl.classList.add('colab-df-spinner');\n",
              "      try {\n",
              "        const charts = await google.colab.kernel.invokeFunction(\n",
              "            'suggestCharts', [key], {});\n",
              "      } catch (error) {\n",
              "        console.error('Error during call to suggestCharts:', error);\n",
              "      }\n",
              "      quickchartButtonEl.classList.remove('colab-df-spinner');\n",
              "      quickchartButtonEl.classList.add('colab-df-quickchart-complete');\n",
              "    }\n",
              "    (() => {\n",
              "      let quickchartButtonEl =\n",
              "        document.querySelector('#df-43149413-c044-4dc9-bd8d-8dc091494cdd button');\n",
              "      quickchartButtonEl.style.display =\n",
              "        google.colab.kernel.accessAllowed ? 'block' : 'none';\n",
              "    })();\n",
              "  </script>\n",
              "</div>\n",
              "\n",
              "  <div id=\"id_81d253f5-9177-44d5-aecb-d7d162a7dc77\">\n",
              "    <style>\n",
              "      .colab-df-generate {\n",
              "        background-color: #E8F0FE;\n",
              "        border: none;\n",
              "        border-radius: 50%;\n",
              "        cursor: pointer;\n",
              "        display: none;\n",
              "        fill: #1967D2;\n",
              "        height: 32px;\n",
              "        padding: 0 0 0 0;\n",
              "        width: 32px;\n",
              "      }\n",
              "\n",
              "      .colab-df-generate:hover {\n",
              "        background-color: #E2EBFA;\n",
              "        box-shadow: 0px 1px 2px rgba(60, 64, 67, 0.3), 0px 1px 3px 1px rgba(60, 64, 67, 0.15);\n",
              "        fill: #174EA6;\n",
              "      }\n",
              "\n",
              "      [theme=dark] .colab-df-generate {\n",
              "        background-color: #3B4455;\n",
              "        fill: #D2E3FC;\n",
              "      }\n",
              "\n",
              "      [theme=dark] .colab-df-generate:hover {\n",
              "        background-color: #434B5C;\n",
              "        box-shadow: 0px 1px 3px 1px rgba(0, 0, 0, 0.15);\n",
              "        filter: drop-shadow(0px 1px 2px rgba(0, 0, 0, 0.3));\n",
              "        fill: #FFFFFF;\n",
              "      }\n",
              "    </style>\n",
              "    <button class=\"colab-df-generate\" onclick=\"generateWithVariable('combined_data_5')\"\n",
              "            title=\"Generate code using this dataframe.\"\n",
              "            style=\"display:none;\">\n",
              "\n",
              "  <svg xmlns=\"http://www.w3.org/2000/svg\" height=\"24px\"viewBox=\"0 0 24 24\"\n",
              "       width=\"24px\">\n",
              "    <path d=\"M7,19H8.4L18.45,9,17,7.55,7,17.6ZM5,21V16.75L18.45,3.32a2,2,0,0,1,2.83,0l1.4,1.43a1.91,1.91,0,0,1,.58,1.4,1.91,1.91,0,0,1-.58,1.4L9.25,21ZM18.45,9,17,7.55Zm-12,3A5.31,5.31,0,0,0,4.9,8.1,5.31,5.31,0,0,0,1,6.5,5.31,5.31,0,0,0,4.9,4.9,5.31,5.31,0,0,0,6.5,1,5.31,5.31,0,0,0,8.1,4.9,5.31,5.31,0,0,0,12,6.5,5.46,5.46,0,0,0,6.5,12Z\"/>\n",
              "  </svg>\n",
              "    </button>\n",
              "    <script>\n",
              "      (() => {\n",
              "      const buttonEl =\n",
              "        document.querySelector('#id_81d253f5-9177-44d5-aecb-d7d162a7dc77 button.colab-df-generate');\n",
              "      buttonEl.style.display =\n",
              "        google.colab.kernel.accessAllowed ? 'block' : 'none';\n",
              "\n",
              "      buttonEl.onclick = () => {\n",
              "        google.colab.notebook.generateWithVariable('combined_data_5');\n",
              "      }\n",
              "      })();\n",
              "    </script>\n",
              "  </div>\n",
              "\n",
              "    </div>\n",
              "  </div>\n"
            ],
            "text/plain": [
              "      index  shipping_location department       category  subcategory  \\\n",
              "0        84              48180  Beverages  Energy Drinks          NaN   \n",
              "1        84              48180  Beverages  Energy Drinks          NaN   \n",
              "2        84              48180  Beverages  Energy Drinks          NaN   \n",
              "3        84              48180  Beverages  Energy Drinks          NaN   \n",
              "4        84              48180  Beverages  Energy Drinks          NaN   \n",
              "...     ...                ...        ...            ...          ...   \n",
              "2998  20341              96797  Beverages         Juices          NaN   \n",
              "2999  20341              96797  Beverages         Juices          NaN   \n",
              "3000  20341              96797  Beverages         Juices          NaN   \n",
              "3001  20341              96797  Beverages         Juices          NaN   \n",
              "3002  20341              96797  Beverages         Juices          NaN   \n",
              "\n",
              "                breadcrumbs_x       sku  \\\n",
              "0     Beverages/Energy Drinks  10316267   \n",
              "1     Beverages/Energy Drinks  10316267   \n",
              "2     Beverages/Energy Drinks  10316267   \n",
              "3     Beverages/Energy Drinks  10316267   \n",
              "4     Beverages/Energy Drinks  10316267   \n",
              "...                       ...       ...   \n",
              "2998         Beverages/Juices  23810275   \n",
              "2999         Beverages/Juices  23810275   \n",
              "3000         Beverages/Juices  23810275   \n",
              "3001         Beverages/Juices  23810275   \n",
              "3002         Beverages/Juices  23810275   \n",
              "\n",
              "                                            product_url  \\\n",
              "0     https://www.walmart.com/ip/Red-Bull-Energy-Dri...   \n",
              "1     https://www.walmart.com/ip/Red-Bull-Energy-Dri...   \n",
              "2     https://www.walmart.com/ip/Red-Bull-Energy-Dri...   \n",
              "3     https://www.walmart.com/ip/Red-Bull-Energy-Dri...   \n",
              "4     https://www.walmart.com/ip/Red-Bull-Energy-Dri...   \n",
              "...                                                 ...   \n",
              "2998  https://www.walmart.com/ip/Ocean-Spray-Diet-Cr...   \n",
              "2999  https://www.walmart.com/ip/Ocean-Spray-Diet-Cr...   \n",
              "3000  https://www.walmart.com/ip/Ocean-Spray-Diet-Cr...   \n",
              "3001  https://www.walmart.com/ip/Ocean-Spray-Diet-Cr...   \n",
              "3002  https://www.walmart.com/ip/Ocean-Spray-Diet-Cr...   \n",
              "\n",
              "                                         product_name_x      brand_x  ...  \\\n",
              "0            Red Bull Energy Drink, 8.4 Fl Oz (12 pack)     Red Bull  ...   \n",
              "1            Red Bull Energy Drink, 8.4 Fl Oz (12 pack)     Red Bull  ...   \n",
              "2            Red Bull Energy Drink, 8.4 Fl Oz (12 pack)     Red Bull  ...   \n",
              "3            Red Bull Energy Drink, 8.4 Fl Oz (12 pack)     Red Bull  ...   \n",
              "4            Red Bull Energy Drink, 8.4 Fl Oz (12 pack)     Red Bull  ...   \n",
              "...                                                 ...          ...  ...   \n",
              "2998  Ocean Spray Diet Cranberry Cherry Juice Drink,...  Ocean Spray  ...   \n",
              "2999  Ocean Spray Diet Cranberry Cherry Juice Drink,...  Ocean Spray  ...   \n",
              "3000  Ocean Spray Diet Cranberry Cherry Juice Drink,...  Ocean Spray  ...   \n",
              "3001  Ocean Spray Diet Cranberry Cherry Juice Drink,...  Ocean Spray  ...   \n",
              "3002  Ocean Spray Diet Cranberry Cherry Juice Drink,...  Ocean Spray  ...   \n",
              "\n",
              "      branch       city customer type  gender            product line  \\\n",
              "0          B  Naypyitaw        Normal    Male  Electronic accessories   \n",
              "1          A   Mandalay        Member  Female      Food and beverages   \n",
              "2          B  Naypyitaw        Normal  Female  Electronic accessories   \n",
              "3          C  Naypyitaw        Member    Male     Fashion accessories   \n",
              "4          B   Mandalay        Normal    Male      Home and lifestyle   \n",
              "...      ...        ...           ...     ...                     ...   \n",
              "2998       C   Mandalay        Normal  Female     Fashion accessories   \n",
              "2999       A     Yangon        Normal  Female      Food and beverages   \n",
              "3000       B   Mandalay        Member    Male       Health and beauty   \n",
              "3001       A   Mandalay        Member    Male     Fashion accessories   \n",
              "3002       A     Yangon        Member    Male      Food and beverages   \n",
              "\n",
              "      unit price quantity       date      time  payment  \n",
              "0          85.39        7  3/25/2019  18:30:00  Ewallet  \n",
              "1          20.01        9   2/6/2019  15:47:00  Ewallet  \n",
              "2          12.45        6   2/9/2019  13:11:00     Cash  \n",
              "3          48.71        1  3/26/2019  19:20:00     Cash  \n",
              "4          53.44        2  1/20/2019  20:38:00  Ewallet  \n",
              "...          ...      ...        ...       ...      ...  \n",
              "2998       73.52        2  1/15/2019  13:41:00  Ewallet  \n",
              "2999       54.27        5  3/13/2019  14:16:00  Ewallet  \n",
              "3000       72.57        8  3/30/2019  17:58:00     Cash  \n",
              "3001       83.77        2  2/24/2019  19:57:00     Cash  \n",
              "3002       35.04        9   2/9/2019  19:17:00  Ewallet  \n",
              "\n",
              "[3003 rows x 70 columns]"
            ]
          },
          "execution_count": 463,
          "metadata": {},
          "output_type": "execute_result"
        }
      ],
      "source": [
        "combined_data_5"
      ]
    },
    {
      "cell_type": "code",
      "execution_count": null,
      "metadata": {
        "colab": {
          "base_uri": "https://localhost:8080/"
        },
        "id": "FzbMy2ZoSthr",
        "outputId": "f81bfbde-c430-40d8-9d87-dcb6f3c10c20"
      },
      "outputs": [
        {
          "data": {
            "text/plain": [
              "(3003, 70)"
            ]
          },
          "execution_count": 464,
          "metadata": {},
          "output_type": "execute_result"
        }
      ],
      "source": [
        "combined_data_5.shape"
      ]
    },
    {
      "cell_type": "markdown",
      "metadata": {
        "id": "SRU4a-X1Tpa7"
      },
      "source": [
        "**We will use df7 --> combined data is now represented by df1, df2, and df7 (combined_data_5).**"
      ]
    },
    {
      "cell_type": "markdown",
      "metadata": {
        "id": "Nwycpi4sTkCj"
      },
      "source": [
        "**8) Comnbining df1, df2, df7, and df8**"
      ]
    },
    {
      "cell_type": "code",
      "execution_count": null,
      "metadata": {
        "colab": {
          "base_uri": "https://localhost:8080/"
        },
        "id": "eMZXuqNeTn18",
        "outputId": "8295ea51-bd00-4e61-8dd9-c6d6d8368d3c"
      },
      "outputs": [
        {
          "name": "stdout",
          "output_type": "stream",
          "text": [
            "Common Columns: {'city', 'unit price', 'discount'}\n"
          ]
        }
      ],
      "source": [
        "# Convert columns to lowercase to ensure case-insensitive comparison\n",
        "columns1 = set([col.lower() for col in df8.columns])\n",
        "columns2 = set([col.lower() for col in combined_data_5.columns])\n",
        "\n",
        "# Find common columns\n",
        "common_columns = columns1.intersection(columns2)\n",
        "print(\"Common Columns:\", common_columns)"
      ]
    },
    {
      "cell_type": "code",
      "execution_count": null,
      "metadata": {
        "id": "bJ9a8-pNT4pb"
      },
      "outputs": [],
      "source": [
        "#Normalize Column Names\n",
        "combined_data_5.columns = combined_data_5.columns.str.lower()\n",
        "df8.columns = df8.columns.str.lower()"
      ]
    },
    {
      "cell_type": "code",
      "execution_count": null,
      "metadata": {
        "colab": {
          "base_uri": "https://localhost:8080/"
        },
        "id": "Ro0_Ppo6Utzc",
        "outputId": "2348b130-78da-47f6-b375-de13aabe5aaf"
      },
      "outputs": [
        {
          "name": "stdout",
          "output_type": "stream",
          "text": [
            "object\n",
            "float64\n"
          ]
        }
      ],
      "source": [
        "print(combined_data_5['discount'].dtype)  # Check the dtype of `county` in df3\n",
        "print(df8['discount'].dtype)"
      ]
    },
    {
      "cell_type": "code",
      "execution_count": null,
      "metadata": {
        "colab": {
          "base_uri": "https://localhost:8080/"
        },
        "id": "O4TRM2fmVO6U",
        "outputId": "cb7eacf4-6f02-4f68-c0f0-e0514d42f33f"
      },
      "outputs": [
        {
          "name": "stdout",
          "output_type": "stream",
          "text": [
            "Empty DataFrame\n",
            "Columns: [index, shipping_location, department, category, subcategory, breadcrumbs_x, sku, product_url, product_name_x, brand_x, price_retail, price_current, product_size, promotion, rundate, tid, timestamp, url, final_price, currency, gtin, specifications, image_urls, top_reviews, rating_stars, related_pages, available_for_delivery, available_for_pickup, brand_y, breadcrumbs_y, category_ids, review_count, description, product_id, product_name_y, review_tags, category_url, category_name, category_path, root_category_url, root_category_name, upc, tags, main_image, rating, unit_price, unit, aisle, free_returns, sizes, colors, seller, other_attributes, customer_reviews, ingredients, initial_price, discount, ingredients_full, categories, invoice id, branch, city_x, customer type, gender, product line, unit price_x, quantity, date, time, payment, city_y, customer age, customer name, customer segment, number of records, order date, order id, order priority, order quantity, product base margin, product category, product container, product name, product sub-category, profit, region, row id, sales, ship date, ship mode, shipping cost, state, unit price_y, zip code]\n",
            "Index: []\n",
            "\n",
            "[0 rows x 94 columns]\n"
          ]
        }
      ],
      "source": [
        "# Convert 'discount' column in both DataFrames to string\n",
        "combined_data_5['discount'] = combined_data_5['discount'].astype(str)\n",
        "df8['discount'] = df8['discount'].astype(str)\n",
        "\n",
        "# Now perform the merge\n",
        "combined_data_6 = pd.merge(combined_data_5, df8, on='discount', how='inner')\n",
        "print(combined_data_6.head())\n"
      ]
    },
    {
      "cell_type": "code",
      "execution_count": null,
      "metadata": {
        "id": "bsNmSp3IVW9L"
      },
      "outputs": [],
      "source": [
        "combined_data_6 = pd.merge(combined_data_5, df8, on='unit price', how='inner')  # Use 'inner' to keep only matching rows"
      ]
    },
    {
      "cell_type": "code",
      "execution_count": null,
      "metadata": {
        "colab": {
          "base_uri": "https://localhost:8080/"
        },
        "id": "iYoztBTcVgE0",
        "outputId": "5dddbdd6-4be2-4c1e-be04-924c3fb87a2d"
      },
      "outputs": [
        {
          "data": {
            "text/plain": [
              "(1606, 94)"
            ]
          },
          "execution_count": 470,
          "metadata": {},
          "output_type": "execute_result"
        }
      ],
      "source": [
        "combined_data_6.shape"
      ]
    },
    {
      "cell_type": "code",
      "execution_count": null,
      "metadata": {
        "id": "WbLf5u5GVikK"
      },
      "outputs": [],
      "source": [
        "combined_data_7 = pd.merge(combined_data_5, df8, on='city', how='inner')  # Use 'inner' to keep only matching rows"
      ]
    },
    {
      "cell_type": "code",
      "execution_count": null,
      "metadata": {
        "colab": {
          "base_uri": "https://localhost:8080/"
        },
        "id": "Ra8dFx1rVlBN",
        "outputId": "84468b88-f315-451f-a6cc-8838c2a3115d"
      },
      "outputs": [
        {
          "data": {
            "text/plain": [
              "(0, 94)"
            ]
          },
          "execution_count": 472,
          "metadata": {},
          "output_type": "execute_result"
        }
      ],
      "source": [
        "combined_data_7.shape"
      ]
    },
    {
      "cell_type": "markdown",
      "metadata": {
        "id": "dyPopnUkVzur"
      },
      "source": [
        "**We will use df8 --> combined data is now represented by df1, df2, df7, and df8 (combined_data_6).**"
      ]
    },
    {
      "cell_type": "markdown",
      "metadata": {
        "id": "x2hEzP8mV-4j"
      },
      "source": [
        "**9) Comnbining df1, df2, df7, df8, and df9**"
      ]
    },
    {
      "cell_type": "code",
      "execution_count": null,
      "metadata": {
        "colab": {
          "base_uri": "https://localhost:8080/"
        },
        "id": "FBUUFBv6WHpr",
        "outputId": "847e8709-b971-42a3-da73-dd09576a222f"
      },
      "outputs": [
        {
          "name": "stdout",
          "output_type": "stream",
          "text": [
            "Common Columns: set()\n"
          ]
        }
      ],
      "source": [
        "# Convert columns to lowercase to ensure case-insensitive comparison\n",
        "columns1 = set([col.lower() for col in df9.columns])\n",
        "columns2 = set([col.lower() for col in combined_data_6.columns])\n",
        "\n",
        "# Find common columns\n",
        "common_columns = columns1.intersection(columns2)\n",
        "print(\"Common Columns:\", common_columns)"
      ]
    },
    {
      "cell_type": "markdown",
      "metadata": {
        "id": "gZ_g_5vJWNjL"
      },
      "source": [
        "**We will not use df9.**"
      ]
    },
    {
      "cell_type": "markdown",
      "metadata": {
        "id": "ORuTr9THWYFd"
      },
      "source": [
        "**10) Comnbining df1, df2, df7, df8, and gdf**"
      ]
    },
    {
      "cell_type": "code",
      "execution_count": null,
      "metadata": {
        "colab": {
          "base_uri": "https://localhost:8080/"
        },
        "id": "M_UwJkSNWfb9",
        "outputId": "952e2c18-5f51-43e0-cd32-6d96902f3135"
      },
      "outputs": [
        {
          "name": "stdout",
          "output_type": "stream",
          "text": [
            "Common Columns: set()\n"
          ]
        }
      ],
      "source": [
        "# Convert columns to lowercase to ensure case-insensitive comparison\n",
        "columns1 = set([col.lower() for col in gdf.columns])\n",
        "columns2 = set([col.lower() for col in combined_data_6.columns])\n",
        "\n",
        "# Find common columns\n",
        "common_columns = columns1.intersection(columns2)\n",
        "print(\"Common Columns:\", common_columns)"
      ]
    },
    {
      "cell_type": "markdown",
      "metadata": {
        "id": "PJHyHJhgWlWs"
      },
      "source": [
        "**We will not use gdf.**"
      ]
    },
    {
      "cell_type": "markdown",
      "metadata": {
        "id": "j8flPwHzWm7a"
      },
      "source": [
        "**11) Comnbining df1, df2, df7, df8, and df11**"
      ]
    },
    {
      "cell_type": "code",
      "execution_count": null,
      "metadata": {
        "colab": {
          "base_uri": "https://localhost:8080/"
        },
        "id": "Ge96uLtlWv7D",
        "outputId": "63f15212-4b5b-42e6-b1ed-9c0e4133762d"
      },
      "outputs": [
        {
          "name": "stdout",
          "output_type": "stream",
          "text": [
            "Common Columns: {'date'}\n"
          ]
        }
      ],
      "source": [
        "# Convert columns to lowercase to ensure case-insensitive comparison\n",
        "columns1 = set([col.lower() for col in df11.columns])\n",
        "columns2 = set([col.lower() for col in combined_data_6.columns])\n",
        "\n",
        "# Find common columns\n",
        "common_columns = columns1.intersection(columns2)\n",
        "print(\"Common Columns:\", common_columns)"
      ]
    },
    {
      "cell_type": "code",
      "execution_count": null,
      "metadata": {
        "id": "uZyiw0R2Wzjs"
      },
      "outputs": [],
      "source": [
        "#Normalize Column Names\n",
        "combined_data_6.columns = combined_data_6.columns.str.lower()\n",
        "df11.columns = df11.columns.str.lower()"
      ]
    },
    {
      "cell_type": "code",
      "execution_count": null,
      "metadata": {
        "id": "hCeMrWnFXHLc"
      },
      "outputs": [],
      "source": [
        "combined_data_7 = pd.merge(combined_data_6, df11, on='date', how='inner')"
      ]
    },
    {
      "cell_type": "code",
      "execution_count": null,
      "metadata": {
        "colab": {
          "base_uri": "https://localhost:8080/",
          "height": 116
        },
        "id": "c8Q0y7k7XQAl",
        "outputId": "bf7edac4-897b-4dc6-b0e9-63c1a2c13cef"
      },
      "outputs": [
        {
          "data": {
            "application/vnd.google.colaboratory.intrinsic+json": {
              "type": "dataframe",
              "variable_name": "combined_data_7"
            },
            "text/html": [
              "\n",
              "  <div id=\"df-6ab48746-d851-45bf-bbe5-baa190dace4e\" class=\"colab-df-container\">\n",
              "    <div>\n",
              "<style scoped>\n",
              "    .dataframe tbody tr th:only-of-type {\n",
              "        vertical-align: middle;\n",
              "    }\n",
              "\n",
              "    .dataframe tbody tr th {\n",
              "        vertical-align: top;\n",
              "    }\n",
              "\n",
              "    .dataframe thead th {\n",
              "        text-align: right;\n",
              "    }\n",
              "</style>\n",
              "<table border=\"1\" class=\"dataframe\">\n",
              "  <thead>\n",
              "    <tr style=\"text-align: right;\">\n",
              "      <th></th>\n",
              "      <th>index</th>\n",
              "      <th>shipping_location</th>\n",
              "      <th>department</th>\n",
              "      <th>category</th>\n",
              "      <th>subcategory</th>\n",
              "      <th>breadcrumbs_x</th>\n",
              "      <th>sku</th>\n",
              "      <th>product_url</th>\n",
              "      <th>product_name_x</th>\n",
              "      <th>brand_x</th>\n",
              "      <th>...</th>\n",
              "      <th>shipping cost</th>\n",
              "      <th>state</th>\n",
              "      <th>zip code</th>\n",
              "      <th>store</th>\n",
              "      <th>weekly_sales</th>\n",
              "      <th>holiday_flag</th>\n",
              "      <th>temperature</th>\n",
              "      <th>fuel_price</th>\n",
              "      <th>cpi</th>\n",
              "      <th>unemployment</th>\n",
              "    </tr>\n",
              "  </thead>\n",
              "  <tbody>\n",
              "  </tbody>\n",
              "</table>\n",
              "<p>0 rows × 101 columns</p>\n",
              "</div>\n",
              "    <div class=\"colab-df-buttons\">\n",
              "\n",
              "  <div class=\"colab-df-container\">\n",
              "    <button class=\"colab-df-convert\" onclick=\"convertToInteractive('df-6ab48746-d851-45bf-bbe5-baa190dace4e')\"\n",
              "            title=\"Convert this dataframe to an interactive table.\"\n",
              "            style=\"display:none;\">\n",
              "\n",
              "  <svg xmlns=\"http://www.w3.org/2000/svg\" height=\"24px\" viewBox=\"0 -960 960 960\">\n",
              "    <path d=\"M120-120v-720h720v720H120Zm60-500h600v-160H180v160Zm220 220h160v-160H400v160Zm0 220h160v-160H400v160ZM180-400h160v-160H180v160Zm440 0h160v-160H620v160ZM180-180h160v-160H180v160Zm440 0h160v-160H620v160Z\"/>\n",
              "  </svg>\n",
              "    </button>\n",
              "\n",
              "  <style>\n",
              "    .colab-df-container {\n",
              "      display:flex;\n",
              "      gap: 12px;\n",
              "    }\n",
              "\n",
              "    .colab-df-convert {\n",
              "      background-color: #E8F0FE;\n",
              "      border: none;\n",
              "      border-radius: 50%;\n",
              "      cursor: pointer;\n",
              "      display: none;\n",
              "      fill: #1967D2;\n",
              "      height: 32px;\n",
              "      padding: 0 0 0 0;\n",
              "      width: 32px;\n",
              "    }\n",
              "\n",
              "    .colab-df-convert:hover {\n",
              "      background-color: #E2EBFA;\n",
              "      box-shadow: 0px 1px 2px rgba(60, 64, 67, 0.3), 0px 1px 3px 1px rgba(60, 64, 67, 0.15);\n",
              "      fill: #174EA6;\n",
              "    }\n",
              "\n",
              "    .colab-df-buttons div {\n",
              "      margin-bottom: 4px;\n",
              "    }\n",
              "\n",
              "    [theme=dark] .colab-df-convert {\n",
              "      background-color: #3B4455;\n",
              "      fill: #D2E3FC;\n",
              "    }\n",
              "\n",
              "    [theme=dark] .colab-df-convert:hover {\n",
              "      background-color: #434B5C;\n",
              "      box-shadow: 0px 1px 3px 1px rgba(0, 0, 0, 0.15);\n",
              "      filter: drop-shadow(0px 1px 2px rgba(0, 0, 0, 0.3));\n",
              "      fill: #FFFFFF;\n",
              "    }\n",
              "  </style>\n",
              "\n",
              "    <script>\n",
              "      const buttonEl =\n",
              "        document.querySelector('#df-6ab48746-d851-45bf-bbe5-baa190dace4e button.colab-df-convert');\n",
              "      buttonEl.style.display =\n",
              "        google.colab.kernel.accessAllowed ? 'block' : 'none';\n",
              "\n",
              "      async function convertToInteractive(key) {\n",
              "        const element = document.querySelector('#df-6ab48746-d851-45bf-bbe5-baa190dace4e');\n",
              "        const dataTable =\n",
              "          await google.colab.kernel.invokeFunction('convertToInteractive',\n",
              "                                                    [key], {});\n",
              "        if (!dataTable) return;\n",
              "\n",
              "        const docLinkHtml = 'Like what you see? Visit the ' +\n",
              "          '<a target=\"_blank\" href=https://colab.research.google.com/notebooks/data_table.ipynb>data table notebook</a>'\n",
              "          + ' to learn more about interactive tables.';\n",
              "        element.innerHTML = '';\n",
              "        dataTable['output_type'] = 'display_data';\n",
              "        await google.colab.output.renderOutput(dataTable, element);\n",
              "        const docLink = document.createElement('div');\n",
              "        docLink.innerHTML = docLinkHtml;\n",
              "        element.appendChild(docLink);\n",
              "      }\n",
              "    </script>\n",
              "  </div>\n",
              "\n",
              "\n",
              "    </div>\n",
              "  </div>\n"
            ],
            "text/plain": [
              "Empty DataFrame\n",
              "Columns: [index, shipping_location, department, category, subcategory, breadcrumbs_x, sku, product_url, product_name_x, brand_x, price_retail, price_current, product_size, promotion, rundate, tid, timestamp, url, final_price, currency, gtin, specifications, image_urls, top_reviews, rating_stars, related_pages, available_for_delivery, available_for_pickup, brand_y, breadcrumbs_y, category_ids, review_count, description, product_id, product_name_y, review_tags, category_url, category_name, category_path, root_category_url, root_category_name, upc, tags, main_image, rating, unit_price, unit, aisle, free_returns, sizes, colors, seller, other_attributes, customer_reviews, ingredients, initial_price, discount_x, ingredients_full, categories, invoice id, branch, city_x, customer type, gender, product line, unit price, quantity, date, time, payment, city_y, customer age, customer name, customer segment, discount_y, number of records, order date, order id, order priority, order quantity, product base margin, product category, product container, product name, product sub-category, profit, region, row id, sales, ship date, ship mode, shipping cost, state, zip code, store, weekly_sales, holiday_flag, temperature, fuel_price, cpi, ...]\n",
              "Index: []\n",
              "\n",
              "[0 rows x 101 columns]"
            ]
          },
          "execution_count": 478,
          "metadata": {},
          "output_type": "execute_result"
        }
      ],
      "source": [
        "combined_data_7.head()"
      ]
    },
    {
      "cell_type": "markdown",
      "metadata": {
        "id": "Ig5d3UTAXUB7"
      },
      "source": [
        "**We will not use df11.**"
      ]
    },
    {
      "cell_type": "markdown",
      "metadata": {
        "id": "wUStkPODXabk"
      },
      "source": [
        "# ***Final results: We will only use a combination of df1, df2, df7, and df8 (combined_data_6)***"
      ]
    },
    {
      "cell_type": "code",
      "execution_count": null,
      "metadata": {
        "colab": {
          "base_uri": "https://localhost:8080/",
          "height": 463
        },
        "collapsed": true,
        "id": "ud-CLbPvX-89",
        "outputId": "c79415fc-13f5-4c9b-8987-62f5df43483a"
      },
      "outputs": [
        {
          "data": {
            "application/vnd.google.colaboratory.intrinsic+json": {
              "type": "dataframe",
              "variable_name": "combined_data_6"
            },
            "text/html": [
              "\n",
              "  <div id=\"df-3fcb758a-f591-46d9-b703-f3d1fc26845c\" class=\"colab-df-container\">\n",
              "    <div>\n",
              "<style scoped>\n",
              "    .dataframe tbody tr th:only-of-type {\n",
              "        vertical-align: middle;\n",
              "    }\n",
              "\n",
              "    .dataframe tbody tr th {\n",
              "        vertical-align: top;\n",
              "    }\n",
              "\n",
              "    .dataframe thead th {\n",
              "        text-align: right;\n",
              "    }\n",
              "</style>\n",
              "<table border=\"1\" class=\"dataframe\">\n",
              "  <thead>\n",
              "    <tr style=\"text-align: right;\">\n",
              "      <th></th>\n",
              "      <th>index</th>\n",
              "      <th>shipping_location</th>\n",
              "      <th>department</th>\n",
              "      <th>category</th>\n",
              "      <th>subcategory</th>\n",
              "      <th>breadcrumbs_x</th>\n",
              "      <th>sku</th>\n",
              "      <th>product_url</th>\n",
              "      <th>product_name_x</th>\n",
              "      <th>brand_x</th>\n",
              "      <th>...</th>\n",
              "      <th>product sub-category</th>\n",
              "      <th>profit</th>\n",
              "      <th>region</th>\n",
              "      <th>row id</th>\n",
              "      <th>sales</th>\n",
              "      <th>ship date</th>\n",
              "      <th>ship mode</th>\n",
              "      <th>shipping cost</th>\n",
              "      <th>state</th>\n",
              "      <th>zip code</th>\n",
              "    </tr>\n",
              "  </thead>\n",
              "  <tbody>\n",
              "    <tr>\n",
              "      <th>0</th>\n",
              "      <td>84</td>\n",
              "      <td>48180</td>\n",
              "      <td>Beverages</td>\n",
              "      <td>Energy Drinks</td>\n",
              "      <td>NaN</td>\n",
              "      <td>Beverages/Energy Drinks</td>\n",
              "      <td>10316267</td>\n",
              "      <td>https://www.walmart.com/ip/Red-Bull-Energy-Dri...</td>\n",
              "      <td>Red Bull Energy Drink, 8.4 Fl Oz (12 pack)</td>\n",
              "      <td>Red Bull</td>\n",
              "      <td>...</td>\n",
              "      <td>Computer Peripherals</td>\n",
              "      <td>-263.09</td>\n",
              "      <td>Central</td>\n",
              "      <td>2539</td>\n",
              "      <td>158.04</td>\n",
              "      <td>2012-01-10</td>\n",
              "      <td>Regular Air</td>\n",
              "      <td>14.52</td>\n",
              "      <td>Texas</td>\n",
              "      <td>79424</td>\n",
              "    </tr>\n",
              "    <tr>\n",
              "      <th>1</th>\n",
              "      <td>84</td>\n",
              "      <td>48180</td>\n",
              "      <td>Beverages</td>\n",
              "      <td>Energy Drinks</td>\n",
              "      <td>NaN</td>\n",
              "      <td>Beverages/Energy Drinks</td>\n",
              "      <td>10316267</td>\n",
              "      <td>https://www.walmart.com/ip/Red-Bull-Energy-Dri...</td>\n",
              "      <td>Red Bull Energy Drink, 8.4 Fl Oz (12 pack)</td>\n",
              "      <td>Red Bull</td>\n",
              "      <td>...</td>\n",
              "      <td>Computer Peripherals</td>\n",
              "      <td>-23.44</td>\n",
              "      <td>West</td>\n",
              "      <td>3485</td>\n",
              "      <td>1383.20</td>\n",
              "      <td>2012-01-25</td>\n",
              "      <td>Regular Air</td>\n",
              "      <td>12.14</td>\n",
              "      <td>Washington</td>\n",
              "      <td>98444</td>\n",
              "    </tr>\n",
              "    <tr>\n",
              "      <th>2</th>\n",
              "      <td>84</td>\n",
              "      <td>48180</td>\n",
              "      <td>Beverages</td>\n",
              "      <td>Energy Drinks</td>\n",
              "      <td>NaN</td>\n",
              "      <td>Beverages/Energy Drinks</td>\n",
              "      <td>10316267</td>\n",
              "      <td>https://www.walmart.com/ip/Red-Bull-Energy-Dri...</td>\n",
              "      <td>Red Bull Energy Drink, 8.4 Fl Oz (12 pack)</td>\n",
              "      <td>Red Bull</td>\n",
              "      <td>...</td>\n",
              "      <td>Computer Peripherals</td>\n",
              "      <td>-229.87</td>\n",
              "      <td>East</td>\n",
              "      <td>4662</td>\n",
              "      <td>1388.91</td>\n",
              "      <td>2012-03-13</td>\n",
              "      <td>Regular Air</td>\n",
              "      <td>4.00</td>\n",
              "      <td>New York</td>\n",
              "      <td>14225</td>\n",
              "    </tr>\n",
              "    <tr>\n",
              "      <th>3</th>\n",
              "      <td>84</td>\n",
              "      <td>48180</td>\n",
              "      <td>Beverages</td>\n",
              "      <td>Energy Drinks</td>\n",
              "      <td>NaN</td>\n",
              "      <td>Beverages/Energy Drinks</td>\n",
              "      <td>10316267</td>\n",
              "      <td>https://www.walmart.com/ip/Red-Bull-Energy-Dri...</td>\n",
              "      <td>Red Bull Energy Drink, 8.4 Fl Oz (12 pack)</td>\n",
              "      <td>Red Bull</td>\n",
              "      <td>...</td>\n",
              "      <td>Computer Peripherals</td>\n",
              "      <td>-88.61</td>\n",
              "      <td>West</td>\n",
              "      <td>1733</td>\n",
              "      <td>1146.41</td>\n",
              "      <td>2012-03-14</td>\n",
              "      <td>Regular Air</td>\n",
              "      <td>14.52</td>\n",
              "      <td>Montana</td>\n",
              "      <td>59715</td>\n",
              "    </tr>\n",
              "    <tr>\n",
              "      <th>4</th>\n",
              "      <td>84</td>\n",
              "      <td>48180</td>\n",
              "      <td>Beverages</td>\n",
              "      <td>Energy Drinks</td>\n",
              "      <td>NaN</td>\n",
              "      <td>Beverages/Energy Drinks</td>\n",
              "      <td>10316267</td>\n",
              "      <td>https://www.walmart.com/ip/Red-Bull-Energy-Dri...</td>\n",
              "      <td>Red Bull Energy Drink, 8.4 Fl Oz (12 pack)</td>\n",
              "      <td>Red Bull</td>\n",
              "      <td>...</td>\n",
              "      <td>Computer Peripherals</td>\n",
              "      <td>97.16</td>\n",
              "      <td>Central</td>\n",
              "      <td>1381</td>\n",
              "      <td>3197.45</td>\n",
              "      <td>2012-05-18</td>\n",
              "      <td>Regular Air</td>\n",
              "      <td>4.00</td>\n",
              "      <td>Kansas</td>\n",
              "      <td>67846</td>\n",
              "    </tr>\n",
              "  </tbody>\n",
              "</table>\n",
              "<p>5 rows × 94 columns</p>\n",
              "</div>\n",
              "    <div class=\"colab-df-buttons\">\n",
              "\n",
              "  <div class=\"colab-df-container\">\n",
              "    <button class=\"colab-df-convert\" onclick=\"convertToInteractive('df-3fcb758a-f591-46d9-b703-f3d1fc26845c')\"\n",
              "            title=\"Convert this dataframe to an interactive table.\"\n",
              "            style=\"display:none;\">\n",
              "\n",
              "  <svg xmlns=\"http://www.w3.org/2000/svg\" height=\"24px\" viewBox=\"0 -960 960 960\">\n",
              "    <path d=\"M120-120v-720h720v720H120Zm60-500h600v-160H180v160Zm220 220h160v-160H400v160Zm0 220h160v-160H400v160ZM180-400h160v-160H180v160Zm440 0h160v-160H620v160ZM180-180h160v-160H180v160Zm440 0h160v-160H620v160Z\"/>\n",
              "  </svg>\n",
              "    </button>\n",
              "\n",
              "  <style>\n",
              "    .colab-df-container {\n",
              "      display:flex;\n",
              "      gap: 12px;\n",
              "    }\n",
              "\n",
              "    .colab-df-convert {\n",
              "      background-color: #E8F0FE;\n",
              "      border: none;\n",
              "      border-radius: 50%;\n",
              "      cursor: pointer;\n",
              "      display: none;\n",
              "      fill: #1967D2;\n",
              "      height: 32px;\n",
              "      padding: 0 0 0 0;\n",
              "      width: 32px;\n",
              "    }\n",
              "\n",
              "    .colab-df-convert:hover {\n",
              "      background-color: #E2EBFA;\n",
              "      box-shadow: 0px 1px 2px rgba(60, 64, 67, 0.3), 0px 1px 3px 1px rgba(60, 64, 67, 0.15);\n",
              "      fill: #174EA6;\n",
              "    }\n",
              "\n",
              "    .colab-df-buttons div {\n",
              "      margin-bottom: 4px;\n",
              "    }\n",
              "\n",
              "    [theme=dark] .colab-df-convert {\n",
              "      background-color: #3B4455;\n",
              "      fill: #D2E3FC;\n",
              "    }\n",
              "\n",
              "    [theme=dark] .colab-df-convert:hover {\n",
              "      background-color: #434B5C;\n",
              "      box-shadow: 0px 1px 3px 1px rgba(0, 0, 0, 0.15);\n",
              "      filter: drop-shadow(0px 1px 2px rgba(0, 0, 0, 0.3));\n",
              "      fill: #FFFFFF;\n",
              "    }\n",
              "  </style>\n",
              "\n",
              "    <script>\n",
              "      const buttonEl =\n",
              "        document.querySelector('#df-3fcb758a-f591-46d9-b703-f3d1fc26845c button.colab-df-convert');\n",
              "      buttonEl.style.display =\n",
              "        google.colab.kernel.accessAllowed ? 'block' : 'none';\n",
              "\n",
              "      async function convertToInteractive(key) {\n",
              "        const element = document.querySelector('#df-3fcb758a-f591-46d9-b703-f3d1fc26845c');\n",
              "        const dataTable =\n",
              "          await google.colab.kernel.invokeFunction('convertToInteractive',\n",
              "                                                    [key], {});\n",
              "        if (!dataTable) return;\n",
              "\n",
              "        const docLinkHtml = 'Like what you see? Visit the ' +\n",
              "          '<a target=\"_blank\" href=https://colab.research.google.com/notebooks/data_table.ipynb>data table notebook</a>'\n",
              "          + ' to learn more about interactive tables.';\n",
              "        element.innerHTML = '';\n",
              "        dataTable['output_type'] = 'display_data';\n",
              "        await google.colab.output.renderOutput(dataTable, element);\n",
              "        const docLink = document.createElement('div');\n",
              "        docLink.innerHTML = docLinkHtml;\n",
              "        element.appendChild(docLink);\n",
              "      }\n",
              "    </script>\n",
              "  </div>\n",
              "\n",
              "\n",
              "<div id=\"df-312ad919-38d8-4af6-81c0-175855152a19\">\n",
              "  <button class=\"colab-df-quickchart\" onclick=\"quickchart('df-312ad919-38d8-4af6-81c0-175855152a19')\"\n",
              "            title=\"Suggest charts\"\n",
              "            style=\"display:none;\">\n",
              "\n",
              "<svg xmlns=\"http://www.w3.org/2000/svg\" height=\"24px\"viewBox=\"0 0 24 24\"\n",
              "     width=\"24px\">\n",
              "    <g>\n",
              "        <path d=\"M19 3H5c-1.1 0-2 .9-2 2v14c0 1.1.9 2 2 2h14c1.1 0 2-.9 2-2V5c0-1.1-.9-2-2-2zM9 17H7v-7h2v7zm4 0h-2V7h2v10zm4 0h-2v-4h2v4z\"/>\n",
              "    </g>\n",
              "</svg>\n",
              "  </button>\n",
              "\n",
              "<style>\n",
              "  .colab-df-quickchart {\n",
              "      --bg-color: #E8F0FE;\n",
              "      --fill-color: #1967D2;\n",
              "      --hover-bg-color: #E2EBFA;\n",
              "      --hover-fill-color: #174EA6;\n",
              "      --disabled-fill-color: #AAA;\n",
              "      --disabled-bg-color: #DDD;\n",
              "  }\n",
              "\n",
              "  [theme=dark] .colab-df-quickchart {\n",
              "      --bg-color: #3B4455;\n",
              "      --fill-color: #D2E3FC;\n",
              "      --hover-bg-color: #434B5C;\n",
              "      --hover-fill-color: #FFFFFF;\n",
              "      --disabled-bg-color: #3B4455;\n",
              "      --disabled-fill-color: #666;\n",
              "  }\n",
              "\n",
              "  .colab-df-quickchart {\n",
              "    background-color: var(--bg-color);\n",
              "    border: none;\n",
              "    border-radius: 50%;\n",
              "    cursor: pointer;\n",
              "    display: none;\n",
              "    fill: var(--fill-color);\n",
              "    height: 32px;\n",
              "    padding: 0;\n",
              "    width: 32px;\n",
              "  }\n",
              "\n",
              "  .colab-df-quickchart:hover {\n",
              "    background-color: var(--hover-bg-color);\n",
              "    box-shadow: 0 1px 2px rgba(60, 64, 67, 0.3), 0 1px 3px 1px rgba(60, 64, 67, 0.15);\n",
              "    fill: var(--button-hover-fill-color);\n",
              "  }\n",
              "\n",
              "  .colab-df-quickchart-complete:disabled,\n",
              "  .colab-df-quickchart-complete:disabled:hover {\n",
              "    background-color: var(--disabled-bg-color);\n",
              "    fill: var(--disabled-fill-color);\n",
              "    box-shadow: none;\n",
              "  }\n",
              "\n",
              "  .colab-df-spinner {\n",
              "    border: 2px solid var(--fill-color);\n",
              "    border-color: transparent;\n",
              "    border-bottom-color: var(--fill-color);\n",
              "    animation:\n",
              "      spin 1s steps(1) infinite;\n",
              "  }\n",
              "\n",
              "  @keyframes spin {\n",
              "    0% {\n",
              "      border-color: transparent;\n",
              "      border-bottom-color: var(--fill-color);\n",
              "      border-left-color: var(--fill-color);\n",
              "    }\n",
              "    20% {\n",
              "      border-color: transparent;\n",
              "      border-left-color: var(--fill-color);\n",
              "      border-top-color: var(--fill-color);\n",
              "    }\n",
              "    30% {\n",
              "      border-color: transparent;\n",
              "      border-left-color: var(--fill-color);\n",
              "      border-top-color: var(--fill-color);\n",
              "      border-right-color: var(--fill-color);\n",
              "    }\n",
              "    40% {\n",
              "      border-color: transparent;\n",
              "      border-right-color: var(--fill-color);\n",
              "      border-top-color: var(--fill-color);\n",
              "    }\n",
              "    60% {\n",
              "      border-color: transparent;\n",
              "      border-right-color: var(--fill-color);\n",
              "    }\n",
              "    80% {\n",
              "      border-color: transparent;\n",
              "      border-right-color: var(--fill-color);\n",
              "      border-bottom-color: var(--fill-color);\n",
              "    }\n",
              "    90% {\n",
              "      border-color: transparent;\n",
              "      border-bottom-color: var(--fill-color);\n",
              "    }\n",
              "  }\n",
              "</style>\n",
              "\n",
              "  <script>\n",
              "    async function quickchart(key) {\n",
              "      const quickchartButtonEl =\n",
              "        document.querySelector('#' + key + ' button');\n",
              "      quickchartButtonEl.disabled = true;  // To prevent multiple clicks.\n",
              "      quickchartButtonEl.classList.add('colab-df-spinner');\n",
              "      try {\n",
              "        const charts = await google.colab.kernel.invokeFunction(\n",
              "            'suggestCharts', [key], {});\n",
              "      } catch (error) {\n",
              "        console.error('Error during call to suggestCharts:', error);\n",
              "      }\n",
              "      quickchartButtonEl.classList.remove('colab-df-spinner');\n",
              "      quickchartButtonEl.classList.add('colab-df-quickchart-complete');\n",
              "    }\n",
              "    (() => {\n",
              "      let quickchartButtonEl =\n",
              "        document.querySelector('#df-312ad919-38d8-4af6-81c0-175855152a19 button');\n",
              "      quickchartButtonEl.style.display =\n",
              "        google.colab.kernel.accessAllowed ? 'block' : 'none';\n",
              "    })();\n",
              "  </script>\n",
              "</div>\n",
              "\n",
              "    </div>\n",
              "  </div>\n"
            ],
            "text/plain": [
              "   index  shipping_location department       category  subcategory  \\\n",
              "0     84              48180  Beverages  Energy Drinks          NaN   \n",
              "1     84              48180  Beverages  Energy Drinks          NaN   \n",
              "2     84              48180  Beverages  Energy Drinks          NaN   \n",
              "3     84              48180  Beverages  Energy Drinks          NaN   \n",
              "4     84              48180  Beverages  Energy Drinks          NaN   \n",
              "\n",
              "             breadcrumbs_x       sku  \\\n",
              "0  Beverages/Energy Drinks  10316267   \n",
              "1  Beverages/Energy Drinks  10316267   \n",
              "2  Beverages/Energy Drinks  10316267   \n",
              "3  Beverages/Energy Drinks  10316267   \n",
              "4  Beverages/Energy Drinks  10316267   \n",
              "\n",
              "                                         product_url  \\\n",
              "0  https://www.walmart.com/ip/Red-Bull-Energy-Dri...   \n",
              "1  https://www.walmart.com/ip/Red-Bull-Energy-Dri...   \n",
              "2  https://www.walmart.com/ip/Red-Bull-Energy-Dri...   \n",
              "3  https://www.walmart.com/ip/Red-Bull-Energy-Dri...   \n",
              "4  https://www.walmart.com/ip/Red-Bull-Energy-Dri...   \n",
              "\n",
              "                               product_name_x   brand_x  ...  \\\n",
              "0  Red Bull Energy Drink, 8.4 Fl Oz (12 pack)  Red Bull  ...   \n",
              "1  Red Bull Energy Drink, 8.4 Fl Oz (12 pack)  Red Bull  ...   \n",
              "2  Red Bull Energy Drink, 8.4 Fl Oz (12 pack)  Red Bull  ...   \n",
              "3  Red Bull Energy Drink, 8.4 Fl Oz (12 pack)  Red Bull  ...   \n",
              "4  Red Bull Energy Drink, 8.4 Fl Oz (12 pack)  Red Bull  ...   \n",
              "\n",
              "   product sub-category  profit   region  row id    sales  ship date  \\\n",
              "0  Computer Peripherals -263.09  Central    2539   158.04 2012-01-10   \n",
              "1  Computer Peripherals  -23.44     West    3485  1383.20 2012-01-25   \n",
              "2  Computer Peripherals -229.87     East    4662  1388.91 2012-03-13   \n",
              "3  Computer Peripherals  -88.61     West    1733  1146.41 2012-03-14   \n",
              "4  Computer Peripherals   97.16  Central    1381  3197.45 2012-05-18   \n",
              "\n",
              "     ship mode shipping cost       state zip code  \n",
              "0  Regular Air         14.52       Texas    79424  \n",
              "1  Regular Air         12.14  Washington    98444  \n",
              "2  Regular Air          4.00    New York    14225  \n",
              "3  Regular Air         14.52     Montana    59715  \n",
              "4  Regular Air          4.00      Kansas    67846  \n",
              "\n",
              "[5 rows x 94 columns]"
            ]
          },
          "execution_count": 479,
          "metadata": {},
          "output_type": "execute_result"
        }
      ],
      "source": [
        "combined_data_6.head()"
      ]
    },
    {
      "cell_type": "code",
      "execution_count": null,
      "metadata": {
        "colab": {
          "base_uri": "https://localhost:8080/"
        },
        "id": "q1FVW51oYSGb",
        "outputId": "a4c598f7-2845-4132-8dd1-c5bc6ca0ea38"
      },
      "outputs": [
        {
          "data": {
            "text/plain": [
              "Index(['index', 'shipping_location', 'department', 'category', 'subcategory',\n",
              "       'breadcrumbs_x', 'sku', 'product_url', 'product_name_x', 'brand_x',\n",
              "       'price_retail', 'price_current', 'product_size', 'promotion', 'rundate',\n",
              "       'tid', 'timestamp', 'url', 'final_price', 'currency', 'gtin',\n",
              "       'specifications', 'image_urls', 'top_reviews', 'rating_stars',\n",
              "       'related_pages', 'available_for_delivery', 'available_for_pickup',\n",
              "       'brand_y', 'breadcrumbs_y', 'category_ids', 'review_count',\n",
              "       'description', 'product_id', 'product_name_y', 'review_tags',\n",
              "       'category_url', 'category_name', 'category_path', 'root_category_url',\n",
              "       'root_category_name', 'upc', 'tags', 'main_image', 'rating',\n",
              "       'unit_price', 'unit', 'aisle', 'free_returns', 'sizes', 'colors',\n",
              "       'seller', 'other_attributes', 'customer_reviews', 'ingredients',\n",
              "       'initial_price', 'discount_x', 'ingredients_full', 'categories',\n",
              "       'invoice id', 'branch', 'city_x', 'customer type', 'gender',\n",
              "       'product line', 'unit price', 'quantity', 'date', 'time', 'payment',\n",
              "       'city_y', 'customer age', 'customer name', 'customer segment',\n",
              "       'discount_y', 'number of records', 'order date', 'order id',\n",
              "       'order priority', 'order quantity', 'product base margin',\n",
              "       'product category', 'product container', 'product name',\n",
              "       'product sub-category', 'profit', 'region', 'row id', 'sales',\n",
              "       'ship date', 'ship mode', 'shipping cost', 'state', 'zip code'],\n",
              "      dtype='object')"
            ]
          },
          "execution_count": 480,
          "metadata": {},
          "output_type": "execute_result"
        }
      ],
      "source": [
        "combined_data_6.columns"
      ]
    },
    {
      "cell_type": "code",
      "execution_count": null,
      "metadata": {
        "colab": {
          "base_uri": "https://localhost:8080/"
        },
        "id": "AIwM4zi0YDGF",
        "outputId": "f7d994be-5807-4982-a93c-636a1cfb1d61"
      },
      "outputs": [
        {
          "data": {
            "text/plain": [
              "(1606, 94)"
            ]
          },
          "execution_count": 481,
          "metadata": {},
          "output_type": "execute_result"
        }
      ],
      "source": [
        "combined_data_6.shape"
      ]
    },
    {
      "cell_type": "markdown",
      "metadata": {
        "id": "mDEk2iyPYaiB"
      },
      "source": [
        "## **Cleaning Data**"
      ]
    },
    {
      "cell_type": "markdown",
      "metadata": {
        "id": "y75r6ecDYyn8"
      },
      "source": [
        "**1. Handle Duplicate Columns**\n",
        "\n",
        "- Remove Duplicate Columns: Keep the ones that are necessary.\n",
        "- Merge Columns with Suffixes: If the data in product_name_x and product_name_y are the same, you can drop one of them. Otherwise, you can combine or retain them based on the context."
      ]
    },
    {
      "cell_type": "code",
      "execution_count": null,
      "metadata": {
        "id": "AgB6CRPLYdSr"
      },
      "outputs": [],
      "source": [
        "# Drop duplicate columns, e.g., 'breadcrumbs_x' and 'breadcrumbs_y', if they have the same values\n",
        "combined_data_6 = combined_data_6.drop(columns=['breadcrumbs_x', 'breadcrumbs_y'])\n",
        "\n",
        "# Or, if they are not the same, decide whether to combine them or retain one\n",
        "# For example, if 'product_name_x' and 'product_name_y' represent different data,\n",
        "# you could merge them into a new column or keep both.\n",
        "combined_data_6['product_name'] = combined_data_6['product_name_x'].fillna(combined_data_6['product_name_y'])\n",
        "\n",
        "# Drop the old columns after combining\n",
        "combined_data_6 = combined_data_6.drop(columns=['product_name_x', 'product_name_y'])"
      ]
    },
    {
      "cell_type": "code",
      "execution_count": null,
      "metadata": {
        "colab": {
          "base_uri": "https://localhost:8080/"
        },
        "id": "N2LfDqk4ZDgV",
        "outputId": "531c3a43-8252-435f-d3e0-569a24229e11"
      },
      "outputs": [
        {
          "data": {
            "text/plain": [
              "(1606, 91)"
            ]
          },
          "execution_count": 483,
          "metadata": {},
          "output_type": "execute_result"
        }
      ],
      "source": [
        "combined_data_6.shape"
      ]
    },
    {
      "cell_type": "markdown",
      "metadata": {
        "id": "UZgioPC7ZYBz"
      },
      "source": [
        "**2. Check for Missing Values**\n",
        "\n",
        "- Identify Missing Values: You can check for missing values in your dataset.\n",
        "- Fill or Drop Missing Values: Based on the column importance, either fill missing values with a default value or drop rows/columns with missing data."
      ]
    },
    {
      "cell_type": "code",
      "execution_count": null,
      "metadata": {
        "colab": {
          "base_uri": "https://localhost:8080/"
        },
        "id": "8kwVCVZUb9Uk",
        "outputId": "8982f655-323d-43cb-a3ed-24d569643d53"
      },
      "outputs": [
        {
          "name": "stdout",
          "output_type": "stream",
          "text": [
            "index                   0\n",
            "shipping_location       0\n",
            "department              0\n",
            "category                0\n",
            "subcategory          1606\n",
            "                     ... \n",
            "ship mode               0\n",
            "shipping cost           0\n",
            "state                   0\n",
            "zip code                0\n",
            "product_name            0\n",
            "Length: 91, dtype: int64\n"
          ]
        }
      ],
      "source": [
        "# Check for missing values\n",
        "print(combined_data_6.isnull().sum())\n"
      ]
    },
    {
      "cell_type": "markdown",
      "metadata": {
        "id": "oozGqzwncXEr"
      },
      "source": [
        "It looks like you have some missing values (NaNs) in the 'subcategory' column, as indicated by the 15709 missing values in that column."
      ]
    },
    {
      "cell_type": "code",
      "execution_count": null,
      "metadata": {
        "collapsed": true,
        "id": "SSSJQh6scpRV"
      },
      "outputs": [],
      "source": [
        "# Drop the 'subcategory' column from the dataframe\n",
        "combined_data_6 = combined_data_6.drop(columns=['subcategory'])"
      ]
    },
    {
      "cell_type": "code",
      "execution_count": null,
      "metadata": {
        "colab": {
          "base_uri": "https://localhost:8080/"
        },
        "id": "lIGNvU5oZpol",
        "outputId": "54febf84-b8e3-4518-bbc3-cebfe31976a9"
      },
      "outputs": [
        {
          "data": {
            "text/plain": [
              "(1606, 90)"
            ]
          },
          "execution_count": 486,
          "metadata": {},
          "output_type": "execute_result"
        }
      ],
      "source": [
        "combined_data_6.shape"
      ]
    },
    {
      "cell_type": "code",
      "execution_count": null,
      "metadata": {
        "colab": {
          "base_uri": "https://localhost:8080/"
        },
        "id": "FcO-0nPFdCSk",
        "outputId": "a93ef047-b7af-4e80-e681-37a6beeaaadc"
      },
      "outputs": [
        {
          "name": "stdout",
          "output_type": "stream",
          "text": [
            "index                0\n",
            "shipping_location    0\n",
            "department           0\n",
            "category             0\n",
            "sku                  0\n",
            "                    ..\n",
            "ship mode            0\n",
            "shipping cost        0\n",
            "state                0\n",
            "zip code             0\n",
            "product_name         0\n",
            "Length: 90, dtype: int64\n"
          ]
        }
      ],
      "source": [
        "# Check for missing values\n",
        "print(combined_data_6.isnull().sum())"
      ]
    },
    {
      "cell_type": "code",
      "execution_count": null,
      "metadata": {
        "id": "W0tI7PM7dQL8"
      },
      "outputs": [],
      "source": [
        "# Or fill missing values with a default value (e.g., 0 for numerical columns)\n",
        "combined_data_6['price_current'] = combined_data_6['price_current'].fillna(0)\n",
        "combined_data_6['product_name'] = combined_data_6['product_name'].fillna('Unknown')"
      ]
    },
    {
      "cell_type": "code",
      "execution_count": null,
      "metadata": {
        "colab": {
          "base_uri": "https://localhost:8080/"
        },
        "id": "VRfWuVo4dR2s",
        "outputId": "75d72ae9-bb20-4ac0-a443-d70061397b0a"
      },
      "outputs": [
        {
          "data": {
            "text/plain": [
              "(1606, 90)"
            ]
          },
          "execution_count": 489,
          "metadata": {},
          "output_type": "execute_result"
        }
      ],
      "source": [
        "combined_data_6.shape"
      ]
    },
    {
      "cell_type": "markdown",
      "metadata": {
        "id": "K61y2VVIeIf8"
      },
      "source": [
        "\n",
        "\n",
        "```\n",
        "# This is formatted as code\n",
        "```\n",
        "\n",
        "**3. Standardize Column Names**\n",
        "\n",
        "To make the column names consistent and easy to work with, you can convert them to lowercase and remove any unwanted spaces or special characters."
      ]
    },
    {
      "cell_type": "code",
      "execution_count": null,
      "metadata": {
        "id": "VAX3x-KneHvF"
      },
      "outputs": [],
      "source": [
        "# Standardize column names by converting them to lowercase and replacing spaces with underscores\n",
        "combined_data_6.columns = [col.lower().replace(' ', '_') for col in combined_data_6.columns]"
      ]
    },
    {
      "cell_type": "code",
      "execution_count": null,
      "metadata": {
        "colab": {
          "base_uri": "https://localhost:8080/"
        },
        "id": "yw3GzLlgeV9M",
        "outputId": "116fb3b8-b029-4dd7-d039-f4561a5f0e41"
      },
      "outputs": [
        {
          "data": {
            "text/plain": [
              "(1606, 90)"
            ]
          },
          "execution_count": 491,
          "metadata": {},
          "output_type": "execute_result"
        }
      ],
      "source": [
        "combined_data_6.shape"
      ]
    },
    {
      "cell_type": "code",
      "execution_count": null,
      "metadata": {
        "colab": {
          "base_uri": "https://localhost:8080/"
        },
        "collapsed": true,
        "id": "P91Mqh4oePE7",
        "outputId": "be3b2af1-4f4f-4185-bd3b-024260c16c60"
      },
      "outputs": [
        {
          "data": {
            "text/plain": [
              "Index(['index', 'shipping_location', 'department', 'category', 'sku',\n",
              "       'product_url', 'brand_x', 'price_retail', 'price_current',\n",
              "       'product_size', 'promotion', 'rundate', 'tid', 'timestamp', 'url',\n",
              "       'final_price', 'currency', 'gtin', 'specifications', 'image_urls',\n",
              "       'top_reviews', 'rating_stars', 'related_pages',\n",
              "       'available_for_delivery', 'available_for_pickup', 'brand_y',\n",
              "       'category_ids', 'review_count', 'description', 'product_id',\n",
              "       'review_tags', 'category_url', 'category_name', 'category_path',\n",
              "       'root_category_url', 'root_category_name', 'upc', 'tags', 'main_image',\n",
              "       'rating', 'unit_price', 'unit', 'aisle', 'free_returns', 'sizes',\n",
              "       'colors', 'seller', 'other_attributes', 'customer_reviews',\n",
              "       'ingredients', 'initial_price', 'discount_x', 'ingredients_full',\n",
              "       'categories', 'invoice_id', 'branch', 'city_x', 'customer_type',\n",
              "       'gender', 'product_line', 'unit_price', 'quantity', 'date', 'time',\n",
              "       'payment', 'city_y', 'customer_age', 'customer_name',\n",
              "       'customer_segment', 'discount_y', 'number_of_records', 'order_date',\n",
              "       'order_id', 'order_priority', 'order_quantity', 'product_base_margin',\n",
              "       'product_category', 'product_container', 'product_name',\n",
              "       'product_sub-category', 'profit', 'region', 'row_id', 'sales',\n",
              "       'ship_date', 'ship_mode', 'shipping_cost', 'state', 'zip_code',\n",
              "       'product_name'],\n",
              "      dtype='object')"
            ]
          },
          "execution_count": 492,
          "metadata": {},
          "output_type": "execute_result"
        }
      ],
      "source": [
        "combined_data_6.columns"
      ]
    },
    {
      "cell_type": "markdown",
      "metadata": {
        "id": "bZ1yIRSve--E"
      },
      "source": [
        "**4. Convert Data Types**\n",
        "Ensure that the data types of your columns are appropriate for your analysis (e.g., convert date columns to datetime, numerical columns to float or int)."
      ]
    },
    {
      "cell_type": "markdown",
      "metadata": {
        "id": "5gBtSSqyfG3M"
      },
      "source": [
        "**1. Convert Date Columns to Datetime**\n",
        "\n",
        "This will ensure that the order_date, ship_date, and rundate columns are in the datetime format. The errors='coerce' argument will replace any invalid date formats with NaT (Not a Time)."
      ]
    },
    {
      "cell_type": "code",
      "execution_count": null,
      "metadata": {
        "id": "lhOGd38uc9I6"
      },
      "outputs": [],
      "source": [
        "# Convert date columns to datetime\n",
        "combined_data_6['order_date'] = pd.to_datetime(combined_data_6['order_date'], errors='coerce')\n",
        "combined_data_6['ship_date'] = pd.to_datetime(combined_data_6['ship_date'], errors='coerce')\n",
        "combined_data_6['rundate'] = pd.to_datetime(combined_data_6['rundate'], errors='coerce')"
      ]
    },
    {
      "cell_type": "code",
      "execution_count": null,
      "metadata": {
        "colab": {
          "base_uri": "https://localhost:8080/"
        },
        "id": "IFE4rrDgfS-U",
        "outputId": "c80a63d8-447c-4847-c6cd-f717eaf9f825"
      },
      "outputs": [
        {
          "data": {
            "text/plain": [
              "(1606, 90)"
            ]
          },
          "execution_count": 494,
          "metadata": {},
          "output_type": "execute_result"
        }
      ],
      "source": [
        "combined_data_6.shape"
      ]
    },
    {
      "cell_type": "markdown",
      "metadata": {
        "id": "fbmenI2SfeQz"
      },
      "source": [
        "**2. Convert Numeric Columns to the Appropriate Type**"
      ]
    },
    {
      "cell_type": "code",
      "execution_count": null,
      "metadata": {
        "id": "G964wKBmflSN"
      },
      "outputs": [],
      "source": [
        "# Convert numeric columns to float or int\n",
        "combined_data_6['final_price'] = combined_data_6['final_price'].astype(float)\n",
        "combined_data_6['quantity'] = combined_data_6['quantity'].astype(int)\n",
        "combined_data_6['sales'] = combined_data_6['sales'].astype(float)"
      ]
    },
    {
      "cell_type": "markdown",
      "metadata": {
        "id": "EU0PLib9gYf0"
      },
      "source": [
        "The error you're encountering happens because the discount_x column contains string values that cannot be directly converted to a float, such as \"$2.20\". To fix this, you need to remove the dollar sign ($) and any other non-numeric characters before converting the column to a float.\n",
        "\n",
        "Here's how you can clean and convert the column:\n",
        "\n",
        "Steps to Clean and Convert the discount_x Column:\n",
        "Remove Non-Numeric Characters: Use str.replace() to remove the dollar sign ($) and any other non-numeric characters.\n",
        "Convert to Float: After cleaning the column, convert it to a float."
      ]
    },
    {
      "cell_type": "code",
      "execution_count": null,
      "metadata": {
        "id": "nlce_cplgTwE"
      },
      "outputs": [],
      "source": [
        "# Remove dollar signs and commas from the 'discount_x' column and convert to float\n",
        "combined_data_6['discount_x'] = combined_data_6['discount_x'].replace({'\\$': '', ',': ''}, regex=True).astype(float)\n",
        "\n",
        "# Convert other columns similarly\n",
        "combined_data_6['discount_y'] = combined_data_6['discount_y'].replace({'\\$': '', ',': ''}, regex=True).astype(float)"
      ]
    },
    {
      "cell_type": "markdown",
      "metadata": {
        "id": "HRqcFf3sf8w8"
      },
      "source": [
        "**3. Convert Categorical Columns**\n",
        "\n",
        "For categorical variables (like gender, category_name, etc.), you can convert them to category type for memory efficiency:\n"
      ]
    },
    {
      "cell_type": "code",
      "execution_count": null,
      "metadata": {
        "id": "893iSklvgDwU"
      },
      "outputs": [],
      "source": [
        "# Convert categorical columns to category type\n",
        "combined_data_6['gender'] = combined_data_6['gender'].astype('category')\n",
        "combined_data_6['product_line'] = combined_data_6['product_line'].astype('category')\n",
        "combined_data_6['region'] = combined_data_6['region'].astype('category')"
      ]
    },
    {
      "cell_type": "code",
      "execution_count": null,
      "metadata": {
        "colab": {
          "base_uri": "https://localhost:8080/",
          "height": 458
        },
        "id": "fiERM5Bwf0G0",
        "outputId": "44dfb051-438f-497a-ef2a-c3337bb8a4f4"
      },
      "outputs": [
        {
          "data": {
            "text/html": [
              "<div>\n",
              "<style scoped>\n",
              "    .dataframe tbody tr th:only-of-type {\n",
              "        vertical-align: middle;\n",
              "    }\n",
              "\n",
              "    .dataframe tbody tr th {\n",
              "        vertical-align: top;\n",
              "    }\n",
              "\n",
              "    .dataframe thead th {\n",
              "        text-align: right;\n",
              "    }\n",
              "</style>\n",
              "<table border=\"1\" class=\"dataframe\">\n",
              "  <thead>\n",
              "    <tr style=\"text-align: right;\">\n",
              "      <th></th>\n",
              "      <th>0</th>\n",
              "    </tr>\n",
              "  </thead>\n",
              "  <tbody>\n",
              "    <tr>\n",
              "      <th>index</th>\n",
              "      <td>int64</td>\n",
              "    </tr>\n",
              "    <tr>\n",
              "      <th>shipping_location</th>\n",
              "      <td>int64</td>\n",
              "    </tr>\n",
              "    <tr>\n",
              "      <th>department</th>\n",
              "      <td>object</td>\n",
              "    </tr>\n",
              "    <tr>\n",
              "      <th>category</th>\n",
              "      <td>object</td>\n",
              "    </tr>\n",
              "    <tr>\n",
              "      <th>sku</th>\n",
              "      <td>int64</td>\n",
              "    </tr>\n",
              "    <tr>\n",
              "      <th>...</th>\n",
              "      <td>...</td>\n",
              "    </tr>\n",
              "    <tr>\n",
              "      <th>ship_mode</th>\n",
              "      <td>object</td>\n",
              "    </tr>\n",
              "    <tr>\n",
              "      <th>shipping_cost</th>\n",
              "      <td>float64</td>\n",
              "    </tr>\n",
              "    <tr>\n",
              "      <th>state</th>\n",
              "      <td>object</td>\n",
              "    </tr>\n",
              "    <tr>\n",
              "      <th>zip_code</th>\n",
              "      <td>int64</td>\n",
              "    </tr>\n",
              "    <tr>\n",
              "      <th>product_name</th>\n",
              "      <td>object</td>\n",
              "    </tr>\n",
              "  </tbody>\n",
              "</table>\n",
              "<p>90 rows × 1 columns</p>\n",
              "</div><br><label><b>dtype:</b> object</label>"
            ],
            "text/plain": [
              "index                  int64\n",
              "shipping_location      int64\n",
              "department            object\n",
              "category              object\n",
              "sku                    int64\n",
              "                      ...   \n",
              "ship_mode             object\n",
              "shipping_cost        float64\n",
              "state                 object\n",
              "zip_code               int64\n",
              "product_name          object\n",
              "Length: 90, dtype: object"
            ]
          },
          "execution_count": 498,
          "metadata": {},
          "output_type": "execute_result"
        }
      ],
      "source": [
        "# check the data types of all columns after the conversion\n",
        "combined_data_6.dtypes"
      ]
    },
    {
      "cell_type": "code",
      "execution_count": null,
      "metadata": {
        "colab": {
          "base_uri": "https://localhost:8080/"
        },
        "id": "3nIRVpNpgeJU",
        "outputId": "ba33fd6d-eaa6-4ae8-c5a0-70145913acd8"
      },
      "outputs": [
        {
          "data": {
            "text/plain": [
              "(1606, 90)"
            ]
          },
          "execution_count": 499,
          "metadata": {},
          "output_type": "execute_result"
        }
      ],
      "source": [
        "combined_data_6.shape"
      ]
    },
    {
      "cell_type": "markdown",
      "metadata": {
        "id": "JjvS4rbcgwcL"
      },
      "source": [
        "**4. Check for Outliers or Invalid Data**\n",
        "\n",
        "You should inspect your numerical columns for outliers or invalid data that might need to be removed or transformed."
      ]
    },
    {
      "cell_type": "markdown",
      "metadata": {
        "id": "NYkqki3fiFlc"
      },
      "source": [
        "**1) Check for Outliers in final_price Column:**"
      ]
    },
    {
      "cell_type": "code",
      "execution_count": null,
      "metadata": {
        "colab": {
          "base_uri": "https://localhost:8080/",
          "height": 430
        },
        "id": "QERkzCJYg5p8",
        "outputId": "f381cade-a44b-49cd-9995-3d62848de22d"
      },
      "outputs": [
        {
          "data": {
            "image/png": "[encoded data removed]",
            "text/plain": [
              "<Figure size 640x480 with 1 Axes>"
            ]
          },
          "metadata": {},
          "output_type": "display_data"
        }
      ],
      "source": [
        "# Example: Check for outliers in 'price_current' column\n",
        "import matplotlib.pyplot as plt\n",
        "\n",
        "combined_data_6['price_current'].plot(kind='box')\n",
        "plt.show()\n",
        "\n",
        "# You can then filter out unreasonable values if necessary\n",
        "combined_data_6 = combined_data_6[combined_data_6['price_current'] > 0]  # Removing negative or zero prices"
      ]
    },
    {
      "cell_type": "markdown",
      "metadata": {
        "id": "avumkUHBiQ-c"
      },
      "source": [
        "**2) Check for Outliers in quantity Column:**"
      ]
    },
    {
      "cell_type": "code",
      "execution_count": null,
      "metadata": {
        "colab": {
          "base_uri": "https://localhost:8080/",
          "height": 452
        },
        "id": "L4fY4La0iV40",
        "outputId": "bf862e55-00e7-451c-9eb8-37a1d1cbc727"
      },
      "outputs": [
        {
          "data": {
            "image/png": "[encoded data removed]",
            "text/plain": [
              "<Figure size 640x480 with 1 Axes>"
            ]
          },
          "metadata": {},
          "output_type": "display_data"
        }
      ],
      "source": [
        "# Plot a boxplot to check for outliers in 'quantity' column\n",
        "combined_data_6['quantity'].plot(kind='box')\n",
        "plt.title('Boxplot for quantity')\n",
        "plt.show()\n",
        "\n",
        "# Remove unreasonable values (e.g., negative quantities)\n",
        "combined_data_6 = combined_data_6[combined_data_6['quantity'] > 0]"
      ]
    },
    {
      "cell_type": "markdown",
      "metadata": {
        "id": "OkDk58kaibSd"
      },
      "source": [
        "**3. Check for Outliers in sales Column:**"
      ]
    },
    {
      "cell_type": "code",
      "execution_count": null,
      "metadata": {
        "colab": {
          "base_uri": "https://localhost:8080/",
          "height": 452
        },
        "id": "ypKQjsOiiPMY",
        "outputId": "93cfb55f-1837-44e7-b00c-24cc733bd1ab"
      },
      "outputs": [
        {
          "data": {
            "image/png": "[encoded data removed]",
            "text/plain": [
              "<Figure size 640x480 with 1 Axes>"
            ]
          },
          "metadata": {},
          "output_type": "display_data"
        }
      ],
      "source": [
        "# Plot a boxplot to check for outliers in 'sales' column\n",
        "combined_data_6['sales'].plot(kind='box')\n",
        "plt.title('Boxplot for sales')\n",
        "plt.show()\n",
        "\n",
        "# Remove unreasonable values (e.g., negative sales values)\n",
        "combined_data_6 = combined_data_6[combined_data_6['sales'] >= 0]"
      ]
    },
    {
      "cell_type": "markdown",
      "metadata": {
        "id": "g1YNSASGikZk"
      },
      "source": [
        "**4. Check for Outliers in discount_x Column:**"
      ]
    },
    {
      "cell_type": "code",
      "execution_count": null,
      "metadata": {
        "colab": {
          "base_uri": "https://localhost:8080/",
          "height": 452
        },
        "id": "_gXfIe4rinnF",
        "outputId": "47182309-26d8-4d8c-a231-5713a060296e"
      },
      "outputs": [
        {
          "data": {
            "image/png": "[encoded data removed]",
            "text/plain": [
              "<Figure size 640x480 with 1 Axes>"
            ]
          },
          "metadata": {},
          "output_type": "display_data"
        }
      ],
      "source": [
        "# Plot a boxplot to check for outliers in 'discount_x' column\n",
        "combined_data_6['discount_x'].plot(kind='box')\n",
        "plt.title('Boxplot for discount_x')\n",
        "plt.show()\n",
        "\n",
        "# Remove unreasonable values (e.g., negative or excessive discounts)\n",
        "combined_data_6 = combined_data_6[combined_data_6['discount_x'] >= 0]  # You can define a maximum discount if needed"
      ]
    },
    {
      "cell_type": "markdown",
      "metadata": {
        "id": "76mitOkBiwnc"
      },
      "source": [
        "**5. Check for Outliers in product_base_margin Column:**"
      ]
    },
    {
      "cell_type": "code",
      "execution_count": null,
      "metadata": {
        "colab": {
          "base_uri": "https://localhost:8080/",
          "height": 452
        },
        "id": "qHKOIpZIizJF",
        "outputId": "1880bef5-3a11-471e-b9ea-f8fac9c4f2e8"
      },
      "outputs": [
        {
          "data": {
            "image/png": "[encoded data removed]",
            "text/plain": [
              "<Figure size 640x480 with 1 Axes>"
            ]
          },
          "metadata": {},
          "output_type": "display_data"
        }
      ],
      "source": [
        "# Plot a boxplot to check for outliers in 'product_base_margin' column\n",
        "combined_data_6['product_base_margin'].plot(kind='box')\n",
        "plt.title('Boxplot for product_base_margin')\n",
        "plt.show()\n",
        "\n",
        "# Remove unreasonable values (e.g., negative margins)\n",
        "combined_data_6 = combined_data_6[combined_data_6['product_base_margin'] >= 0]"
      ]
    },
    {
      "cell_type": "markdown",
      "metadata": {
        "id": "oH_Sx64Gi4FU"
      },
      "source": [
        "**6. Check for Outliers in initial_price Column:**"
      ]
    },
    {
      "cell_type": "code",
      "execution_count": null,
      "metadata": {
        "colab": {
          "base_uri": "https://localhost:8080/",
          "height": 452
        },
        "id": "oGN42d-Qi6cd",
        "outputId": "8dd77f3a-6308-443d-8d84-d4695a84f48e"
      },
      "outputs": [
        {
          "data": {
            "image/png": "[encoded data removed]",
            "text/plain": [
              "<Figure size 640x480 with 1 Axes>"
            ]
          },
          "metadata": {},
          "output_type": "display_data"
        }
      ],
      "source": [
        "# Plot a boxplot to check for outliers in 'initial_price' column\n",
        "combined_data_6['initial_price'].plot(kind='box')\n",
        "plt.title('Boxplot for initial_price')\n",
        "plt.show()\n",
        "\n",
        "# Remove unreasonable values (e.g., negative prices)\n",
        "combined_data_6 = combined_data_6[combined_data_6['initial_price'] > 0]"
      ]
    },
    {
      "cell_type": "markdown",
      "metadata": {
        "id": "Sz_BNw1ji_FU"
      },
      "source": [
        "**7. Check for Negative Values in shipping_cost:**"
      ]
    },
    {
      "cell_type": "code",
      "execution_count": null,
      "metadata": {
        "colab": {
          "base_uri": "https://localhost:8080/",
          "height": 452
        },
        "id": "x1dQ0t4FjCTF",
        "outputId": "88d796f5-b3d1-4ef7-ff7e-9196bfc8dbc6"
      },
      "outputs": [
        {
          "data": {
            "image/png": "[encoded data removed]",
            "text/plain": [
              "<Figure size 640x480 with 1 Axes>"
            ]
          },
          "metadata": {},
          "output_type": "display_data"
        }
      ],
      "source": [
        "# Plot a boxplot to check for outliers in 'shipping_cost' column\n",
        "combined_data_6['shipping_cost'].plot(kind='box')\n",
        "plt.title('Boxplot for shipping_cost')\n",
        "plt.show()\n",
        "\n",
        "# Remove unreasonable values (e.g., negative shipping costs)\n",
        "combined_data_6 = combined_data_6[combined_data_6['shipping_cost'] >= 0]"
      ]
    },
    {
      "cell_type": "markdown",
      "metadata": {
        "id": "ViG3SyWljFR5"
      },
      "source": [
        "**8. Check for Negative or Zero price_retail:**"
      ]
    },
    {
      "cell_type": "code",
      "execution_count": null,
      "metadata": {
        "colab": {
          "base_uri": "https://localhost:8080/",
          "height": 452
        },
        "id": "0WHppQT0jHiN",
        "outputId": "66ce7496-022e-46d7-dd95-85db73e06af2"
      },
      "outputs": [
        {
          "data": {
            "image/png": "[encoded data removed]",
            "text/plain": [
              "<Figure size 640x480 with 1 Axes>"
            ]
          },
          "metadata": {},
          "output_type": "display_data"
        }
      ],
      "source": [
        "# Plot a boxplot to check for outliers in 'price_retail' column\n",
        "combined_data_6['price_retail'].plot(kind='box')\n",
        "plt.title('Boxplot for price_retail')\n",
        "plt.show()\n",
        "\n",
        "# Remove unreasonable values (e.g., negative or zero prices)\n",
        "combined_data_6 = combined_data_6[combined_data_6['price_retail'] > 0]"
      ]
    },
    {
      "cell_type": "code",
      "execution_count": null,
      "metadata": {
        "colab": {
          "base_uri": "https://localhost:8080/"
        },
        "id": "8qKFJitvg-Ed",
        "outputId": "30cd77b1-8468-448a-e71c-a3557bc3444d"
      },
      "outputs": [
        {
          "data": {
            "text/plain": [
              "(676, 90)"
            ]
          },
          "execution_count": 508,
          "metadata": {},
          "output_type": "execute_result"
        }
      ],
      "source": [
        "combined_data_6.shape"
      ]
    },
    {
      "cell_type": "code",
      "execution_count": null,
      "metadata": {
        "colab": {
          "base_uri": "https://localhost:8080/"
        },
        "id": "LDYdJG-KhMF8",
        "outputId": "6af305bb-6870-4d41-abe7-a33b302af93b"
      },
      "outputs": [
        {
          "data": {
            "text/plain": [
              "Index(['index', 'shipping_location', 'department', 'category', 'sku',\n",
              "       'product_url', 'brand_x', 'price_retail', 'price_current',\n",
              "       'product_size', 'promotion', 'rundate', 'tid', 'timestamp', 'url',\n",
              "       'final_price', 'currency', 'gtin', 'specifications', 'image_urls',\n",
              "       'top_reviews', 'rating_stars', 'related_pages',\n",
              "       'available_for_delivery', 'available_for_pickup', 'brand_y',\n",
              "       'category_ids', 'review_count', 'description', 'product_id',\n",
              "       'review_tags', 'category_url', 'category_name', 'category_path',\n",
              "       'root_category_url', 'root_category_name', 'upc', 'tags', 'main_image',\n",
              "       'rating', 'unit_price', 'unit', 'aisle', 'free_returns', 'sizes',\n",
              "       'colors', 'seller', 'other_attributes', 'customer_reviews',\n",
              "       'ingredients', 'initial_price', 'discount_x', 'ingredients_full',\n",
              "       'categories', 'invoice_id', 'branch', 'city_x', 'customer_type',\n",
              "       'gender', 'product_line', 'unit_price', 'quantity', 'date', 'time',\n",
              "       'payment', 'city_y', 'customer_age', 'customer_name',\n",
              "       'customer_segment', 'discount_y', 'number_of_records', 'order_date',\n",
              "       'order_id', 'order_priority', 'order_quantity', 'product_base_margin',\n",
              "       'product_category', 'product_container', 'product_name',\n",
              "       'product_sub-category', 'profit', 'region', 'row_id', 'sales',\n",
              "       'ship_date', 'ship_mode', 'shipping_cost', 'state', 'zip_code',\n",
              "       'product_name'],\n",
              "      dtype='object')"
            ]
          },
          "execution_count": 509,
          "metadata": {},
          "output_type": "execute_result"
        }
      ],
      "source": [
        "combined_data_6.columns"
      ]
    },
    {
      "cell_type": "markdown",
      "metadata": {
        "id": "xVfVj_hpxkVx"
      },
      "source": [
        "**Handling errors in Snowflake integration**"
      ]
    },
    {
      "cell_type": "code",
      "execution_count": null,
      "metadata": {
        "id": "zP8-soU6s-t1"
      },
      "outputs": [],
      "source": [
        "# Drop the duplicate columns\n",
        "combined_data_6 = combined_data_6.loc[:, ~combined_data_6.columns.duplicated()]"
      ]
    },
    {
      "cell_type": "markdown",
      "metadata": {
        "id": "QlL29_t_yRVR"
      },
      "source": [
        " the rating_stars column are not clean and contain strings in a dictionary-like format (e.g., {\"five_stars\":366, \"four_stars\":52,...})."
      ]
    },
    {
      "cell_type": "code",
      "execution_count": null,
      "metadata": {
        "colab": {
          "base_uri": "https://localhost:8080/"
        },
        "id": "STcbmmuCyM8Y",
        "outputId": "5ef6facc-4854-41f5-a670-d3707e0f4d25"
      },
      "outputs": [
        {
          "name": "stderr",
          "output_type": "stream",
          "text": [
            "<ipython-input-511-a75a268511a0>:15: SettingWithCopyWarning: \n",
            "A value is trying to be set on a copy of a slice from a DataFrame.\n",
            "Try using .loc[row_indexer,col_indexer] = value instead\n",
            "\n",
            "See the caveats in the documentation: https://pandas.pydata.org/pandas-docs/stable/user_guide/indexing.html#returning-a-view-versus-a-copy\n",
            "  combined_data_6['rating_stars'] = combined_data_6['rating_stars'].apply(extract_rating_stars)\n",
            "<ipython-input-511-a75a268511a0>:18: SettingWithCopyWarning: \n",
            "A value is trying to be set on a copy of a slice from a DataFrame.\n",
            "Try using .loc[row_indexer,col_indexer] = value instead\n",
            "\n",
            "See the caveats in the documentation: https://pandas.pydata.org/pandas-docs/stable/user_guide/indexing.html#returning-a-view-versus-a-copy\n",
            "  combined_data_6['rating_stars'] = combined_data_6['rating_stars'].astype(int)\n"
          ]
        }
      ],
      "source": [
        "import ast\n",
        "\n",
        "# Apply a function to extract the numeric values from the dictionary-like string\n",
        "def extract_rating_stars(rating_str):\n",
        "    try:\n",
        "        # Convert the string representation of the dictionary into an actual dictionary\n",
        "        rating_dict = ast.literal_eval(rating_str)\n",
        "        # You can extract a specific rating (e.g., 'five_stars') or aggregate them\n",
        "        return rating_dict.get('five_stars', 0)  # Example: return 'five_stars' count\n",
        "    except Exception as e:\n",
        "        # In case of error (e.g., badly formatted string), return NaN or a default value\n",
        "        return None\n",
        "\n",
        "# Apply the function to clean the 'rating_stars' column\n",
        "combined_data_6['rating_stars'] = combined_data_6['rating_stars'].apply(extract_rating_stars)\n",
        "\n",
        "# Convert the cleaned column to integer (if needed)\n",
        "combined_data_6['rating_stars'] = combined_data_6['rating_stars'].astype(int)\n"
      ]
    },
    {
      "cell_type": "code",
      "execution_count": null,
      "metadata": {
        "colab": {
          "base_uri": "https://localhost:8080/",
          "height": 458
        },
        "id": "nG-HnpqdcN4l",
        "outputId": "cb3bfbdb-4d55-46e5-dc6a-a044989c4ff8"
      },
      "outputs": [
        {
          "data": {
            "text/html": [
              "<div>\n",
              "<style scoped>\n",
              "    .dataframe tbody tr th:only-of-type {\n",
              "        vertical-align: middle;\n",
              "    }\n",
              "\n",
              "    .dataframe tbody tr th {\n",
              "        vertical-align: top;\n",
              "    }\n",
              "\n",
              "    .dataframe thead th {\n",
              "        text-align: right;\n",
              "    }\n",
              "</style>\n",
              "<table border=\"1\" class=\"dataframe\">\n",
              "  <thead>\n",
              "    <tr style=\"text-align: right;\">\n",
              "      <th></th>\n",
              "      <th>sales</th>\n",
              "    </tr>\n",
              "  </thead>\n",
              "  <tbody>\n",
              "    <tr>\n",
              "      <th>0</th>\n",
              "      <td>158.04</td>\n",
              "    </tr>\n",
              "    <tr>\n",
              "      <th>1</th>\n",
              "      <td>1383.20</td>\n",
              "    </tr>\n",
              "    <tr>\n",
              "      <th>2</th>\n",
              "      <td>1388.91</td>\n",
              "    </tr>\n",
              "    <tr>\n",
              "      <th>3</th>\n",
              "      <td>1146.41</td>\n",
              "    </tr>\n",
              "    <tr>\n",
              "      <th>4</th>\n",
              "      <td>3197.45</td>\n",
              "    </tr>\n",
              "    <tr>\n",
              "      <th>...</th>\n",
              "      <td>...</td>\n",
              "    </tr>\n",
              "    <tr>\n",
              "      <th>1601</th>\n",
              "      <td>416.39</td>\n",
              "    </tr>\n",
              "    <tr>\n",
              "      <th>1602</th>\n",
              "      <td>372.09</td>\n",
              "    </tr>\n",
              "    <tr>\n",
              "      <th>1603</th>\n",
              "      <td>795.52</td>\n",
              "    </tr>\n",
              "    <tr>\n",
              "      <th>1604</th>\n",
              "      <td>378.08</td>\n",
              "    </tr>\n",
              "    <tr>\n",
              "      <th>1605</th>\n",
              "      <td>1100.21</td>\n",
              "    </tr>\n",
              "  </tbody>\n",
              "</table>\n",
              "<p>676 rows × 1 columns</p>\n",
              "</div><br><label><b>dtype:</b> float64</label>"
            ],
            "text/plain": [
              "0        158.04\n",
              "1       1383.20\n",
              "2       1388.91\n",
              "3       1146.41\n",
              "4       3197.45\n",
              "         ...   \n",
              "1601     416.39\n",
              "1602     372.09\n",
              "1603     795.52\n",
              "1604     378.08\n",
              "1605    1100.21\n",
              "Name: sales, Length: 676, dtype: float64"
            ]
          },
          "execution_count": 522,
          "metadata": {},
          "output_type": "execute_result"
        }
      ],
      "source": [
        "combined_data_6.sales"
      ]
    },
    {
      "cell_type": "markdown",
      "metadata": {
        "id": "LL_vLgPdzi9B"
      },
      "source": [
        "**error3: Timestamp '16:42:00' is not recognized**"
      ]
    },
    {
      "cell_type": "code",
      "execution_count": null,
      "metadata": {
        "id": "9SIpTKZ01SBK"
      },
      "outputs": [],
      "source": [
        "import pandas as pd\n",
        "\n",
        "# Convert the 'TIME' column to proper time format (if it's in string format)\n",
        "# combined_data_6['time'] = pd.to_datetime(combined_data_6['time'], format='%H:%M:%S', errors='coerce').dt.time\n",
        "\n",
        "# If you want to handle errors by coercing invalid times to NaT (Not a Time), you can check for NaT values\n",
        "# and handle them accordingly\n",
        "# invalid_times = combined_data_6[combined_data_6['time'].isna()]\n",
        "# print(invalid_times)"
      ]
    },
    {
      "cell_type": "markdown",
      "metadata": {
        "id": "roX8Gnso3Du4"
      },
      "source": [
        "**Timestamp '16:42:00' is not recognized**"
      ]
    },
    {
      "cell_type": "code",
      "execution_count": null,
      "metadata": {
        "id": "PtOfID_P3FwC"
      },
      "outputs": [],
      "source": [
        "# combined_data_6['time'] = pd.to_datetime(combined_data_6['time'], format='%H:%M:%S', errors='coerce').dt.time"
      ]
    },
    {
      "cell_type": "code",
      "execution_count": null,
      "metadata": {
        "id": "POfl-lY43smR"
      },
      "outputs": [],
      "source": [
        "# Optionally handle missing time values by filling them with a default value or dropping them\n",
        "# combined_data_6['time'] = combined_data_6['time'].fillna('00:00:00')  # Filling with a default time"
      ]
    },
    {
      "cell_type": "markdown",
      "metadata": {
        "id": "xLTo3lFe6r0r"
      },
      "source": [
        "Droppin time column because all rows have same values"
      ]
    },
    {
      "cell_type": "code",
      "execution_count": null,
      "metadata": {
        "id": "13yP8F9c6G4b"
      },
      "outputs": [],
      "source": [
        "combined_data_6 = combined_data_6.drop(columns=['time'])"
      ]
    },
    {
      "cell_type": "code",
      "execution_count": null,
      "metadata": {
        "colab": {
          "base_uri": "https://localhost:8080/"
        },
        "id": "THudi-Trnret",
        "outputId": "f5696596-4a45-4e35-ebbd-f57cd5c08d2a"
      },
      "outputs": [
        {
          "data": {
            "text/plain": [
              "(676, 87)"
            ]
          },
          "execution_count": 523,
          "metadata": {},
          "output_type": "execute_result"
        }
      ],
      "source": [
        "combined_data_6.shape"
      ]
    },
    {
      "cell_type": "code",
      "execution_count": null,
      "metadata": {
        "colab": {
          "base_uri": "https://localhost:8080/"
        },
        "id": "vKbk1ZjTx524",
        "outputId": "610cd0a1-1ce7-4506-b90b-bd9b7901efa4"
      },
      "outputs": [
        {
          "name": "stdout",
          "output_type": "stream",
          "text": [
            "Index(['index', 'shipping_location', 'department', 'category', 'sku',\n",
            "       'product_url', 'brand_x', 'price_retail', 'price_current',\n",
            "       'product_size', 'promotion', 'rundate', 'tid', 'timestamp', 'url',\n",
            "       'final_price', 'currency', 'gtin', 'specifications', 'image_urls',\n",
            "       'top_reviews', 'rating_stars', 'related_pages',\n",
            "       'available_for_delivery', 'available_for_pickup', 'brand_y',\n",
            "       'category_ids', 'review_count', 'description', 'product_id',\n",
            "       'review_tags', 'category_url', 'category_name', 'category_path',\n",
            "       'root_category_url', 'root_category_name', 'upc', 'tags', 'main_image',\n",
            "       'rating', 'unit_price', 'unit', 'aisle', 'free_returns', 'sizes',\n",
            "       'colors', 'seller', 'other_attributes', 'customer_reviews',\n",
            "       'ingredients', 'initial_price', 'discount_x', 'ingredients_full',\n",
            "       'categories', 'invoice_id', 'branch', 'city_x', 'customer_type',\n",
            "       'gender', 'product_line', 'quantity', 'date', 'payment', 'city_y',\n",
            "       'customer_age', 'customer_name', 'customer_segment', 'discount_y',\n",
            "       'number_of_records', 'order_date', 'order_id', 'order_priority',\n",
            "       'order_quantity', 'product_base_margin', 'product_category',\n",
            "       'product_container', 'product_name', 'product_sub-category', 'profit',\n",
            "       'region', 'row_id', 'sales', 'ship_date', 'ship_mode', 'shipping_cost',\n",
            "       'state', 'zip_code'],\n",
            "      dtype='object')\n"
          ]
        }
      ],
      "source": [
        "print(combined_data_6.columns)"
      ]
    },
    {
      "cell_type": "code",
      "execution_count": null,
      "metadata": {
        "colab": {
          "base_uri": "https://localhost:8080/"
        },
        "id": "lox3AuAQnulW",
        "outputId": "95037fd0-52e5-4169-9630-628963756e51"
      },
      "outputs": [
        {
          "data": {
            "text/plain": [
              "(676, 87)"
            ]
          },
          "execution_count": 518,
          "metadata": {},
          "output_type": "execute_result"
        }
      ],
      "source": [
        "combined_data_6.shape"
      ]
    },
    {
      "cell_type": "markdown",
      "metadata": {
        "id": "cqmejw_v1VrZ"
      },
      "source": [
        "# **Load**"
      ]
    },
    {
      "cell_type": "markdown",
      "metadata": {
        "id": "NYOhmanc1p-a"
      },
      "source": [
        "Saving your combined_data_6 dataset into CSV formats."
      ]
    },
    {
      "cell_type": "code",
      "execution_count": null,
      "metadata": {
        "id": "zjyoF80QlHLt"
      },
      "outputs": [],
      "source": [
        "# Save dataset as a CSV file\n",
        "combined_data_6.to_csv('combined_data_6.csv', index=False)"
      ]
    },
    {
      "cell_type": "code",
      "execution_count": 1,
      "metadata": {
        "colab": {
          "base_uri": "https://localhost:8080/",
          "height": 0
        },
        "id": "TpbKqA3ItvMi",
        "outputId": "919a4bba-37ea-4e06-e171-be251562ebd8"
      },
      "outputs": [
        {
          "name": "stdout",
          "output_type": "stream",
          "text": [
            "Collecting azure-storage-blob\n",
            "  Downloading azure_storage_blob-12.24.1-py3-none-any.whl.metadata (26 kB)\n",
            "Requirement already satisfied: pandas in /usr/local/lib/python3.11/dist-packages (2.2.2)\n",
            "Collecting azure-core>=1.30.0 (from azure-storage-blob)\n",
            "  Downloading azure_core-1.32.0-py3-none-any.whl.metadata (39 kB)\n",
            "Requirement already satisfied: cryptography>=2.1.4 in /usr/local/lib/python3.11/dist-packages (from azure-storage-blob) (43.0.3)\n",
            "Requirement already satisfied: typing-extensions>=4.6.0 in /usr/local/lib/python3.11/dist-packages (from azure-storage-blob) (4.12.2)\n",
            "Collecting isodate>=0.6.1 (from azure-storage-blob)\n",
            "  Downloading isodate-0.7.2-py3-none-any.whl.metadata (11 kB)\n",
            "Requirement already satisfied: numpy>=1.23.2 in /usr/local/lib/python3.11/dist-packages (from pandas) (1.26.4)\n",
            "Requirement already satisfied: python-dateutil>=2.8.2 in /usr/local/lib/python3.11/dist-packages (from pandas) (2.8.2)\n",
            "Requirement already satisfied: pytz>=2020.1 in /usr/local/lib/python3.11/dist-packages (from pandas) (2024.2)\n",
            "Requirement already satisfied: tzdata>=2022.7 in /usr/local/lib/python3.11/dist-packages (from pandas) (2025.1)\n",
            "Requirement already satisfied: requests>=2.21.0 in /usr/local/lib/python3.11/dist-packages (from azure-core>=1.30.0->azure-storage-blob) (2.32.3)\n",
            "Requirement already satisfied: six>=1.11.0 in /usr/local/lib/python3.11/dist-packages (from azure-core>=1.30.0->azure-storage-blob) (1.17.0)\n",
            "Requirement already satisfied: cffi>=1.12 in /usr/local/lib/python3.11/dist-packages (from cryptography>=2.1.4->azure-storage-blob) (1.17.1)\n",
            "Requirement already satisfied: pycparser in /usr/local/lib/python3.11/dist-packages (from cffi>=1.12->cryptography>=2.1.4->azure-storage-blob) (2.22)\n",
            "Requirement already satisfied: charset-normalizer<4,>=2 in /usr/local/lib/python3.11/dist-packages (from requests>=2.21.0->azure-core>=1.30.0->azure-storage-blob) (3.4.1)\n",
            "Requirement already satisfied: idna<4,>=2.5 in /usr/local/lib/python3.11/dist-packages (from requests>=2.21.0->azure-core>=1.30.0->azure-storage-blob) (3.10)\n",
            "Requirement already satisfied: urllib3<3,>=1.21.1 in /usr/local/lib/python3.11/dist-packages (from requests>=2.21.0->azure-core>=1.30.0->azure-storage-blob) (2.3.0)\n",
            "Requirement already satisfied: certifi>=2017.4.17 in /usr/local/lib/python3.11/dist-packages (from requests>=2.21.0->azure-core>=1.30.0->azure-storage-blob) (2024.12.14)\n",
            "Downloading azure_storage_blob-12.24.1-py3-none-any.whl (408 kB)\n",
            "\u001b[2K   \u001b[90m━━━━━━━━━━━━━━━━━━━━━━━━━━━━━━━━━━━━━━━━\u001b[0m \u001b[32m408.4/408.4 kB\u001b[0m \u001b[31m11.7 MB/s\u001b[0m eta \u001b[36m0:00:00\u001b[0m\n",
            "\u001b[?25hDownloading azure_core-1.32.0-py3-none-any.whl (198 kB)\n",
            "\u001b[2K   \u001b[90m━━━━━━━━━━━━━━━━━━━━━━━━━━━━━━━━━━━━━━━━\u001b[0m \u001b[32m198.9/198.9 kB\u001b[0m \u001b[31m6.6 MB/s\u001b[0m eta \u001b[36m0:00:00\u001b[0m\n",
            "\u001b[?25hDownloading isodate-0.7.2-py3-none-any.whl (22 kB)\n",
            "Installing collected packages: isodate, azure-core, azure-storage-blob\n",
            "Successfully installed azure-core-1.32.0 azure-storage-blob-12.24.1 isodate-0.7.2\n"
          ]
        }
      ],
      "source": [
        "!pip install azure-storage-blob pandas"
      ]
    },
    {
      "cell_type": "code",
      "execution_count": null,
      "metadata": {
        "id": "9STyqX2RtK9s"
      },
      "outputs": [],
      "source": [
        "from azure.storage.blob import BlobServiceClient, BlobClient, ContainerClient\n",
        "from io import StringIO\n",
        "\n",
        "STORAGE_ACCOUNT_NAME = 'snowazureintegration'\n",
        "STORAGE_ACCOUNT_KEY = '************'\n",
        "CONTAINER_NAME = 'inventory'\n",
        "BLOB_NAME = 'inventory.csv'\n",
        "CONNECTION_STRING = f'DefaultEndpointsProtocol=https;AccountName={STORAGE_ACCOUNT_NAME};AccountKey={STORAGE_ACCOUNT_KEY};EndpointSuffix=core.windows.net'\n",
        "\n",
        "# Connect to Azure Blob Storage\n",
        "blob_service_client = BlobServiceClient.from_connection_string(CONNECTION_STRING)\n",
        "container_client = blob_service_client.get_container_client(CONTAINER_NAME)\n",
        "\n",
        "# Check if the container exists or create it\n",
        "try:\n",
        "    container_client.create_container()\n",
        "    print(f\"Container '{CONTAINER_NAME}' created.\")\n",
        "except Exception as e:\n",
        "    print(f\"Container '{CONTAINER_NAME}' already exists or could not be created: {e}\")\n",
        "\n",
        "# Upload the CSV data to the blob\n",
        "blob_client = blob_service_client.get_blob_client(container=CONTAINER_NAME, blob=BLOB_NAME)\n",
        "\n",
        "try:\n",
        "    blob_client.upload_blob(combined_data_6.csv, overwrite=True)\n",
        "    print(f\"Dataframe uploaded successfully to '{CONTAINER_NAME}/{BLOB_NAME}'\")\n",
        "except Exception as e:\n",
        "    print(f\"Error uploading blob: {e}\")"
      ]
    }
  ],
  "metadata": {
    "colab": {
      "provenance": []
    },
    "kernelspec": {
      "display_name": "Python 3",
      "name": "python3"
    },
    "language_info": {
      "name": "python"
    }
  },
  "nbformat": 4,
  "nbformat_minor": 0
}
